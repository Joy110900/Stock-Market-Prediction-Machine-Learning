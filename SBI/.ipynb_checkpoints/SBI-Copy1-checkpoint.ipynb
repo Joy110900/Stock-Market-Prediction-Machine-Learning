{
 "cells": [
  {
   "cell_type": "code",
   "execution_count": 1,
   "id": "geographic-colorado",
   "metadata": {},
   "outputs": [],
   "source": [
    "#Importing Libraries\n",
    "import pandas as pd\n",
    "from sklearn.model_selection import train_test_split\n",
    "from sklearn.linear_model import LinearRegression\n",
    "from sklearn import metrics\n",
    "from sklearn.metrics import accuracy_score\n",
    "from sklearn.preprocessing import MinMaxScaler\n",
    "from sklearn.model_selection import GridSearchCV\n",
    "from sklearn.neighbors import KNeighborsRegressor\n",
    "from sklearn import neighbors\n",
    "from sklearn.tree import DecisionTreeRegressor \n",
    "from sklearn.ensemble import RandomForestRegressor \n",
    "from sklearn.model_selection import cross_val_score\n",
    "import numpy as np\n",
    "\n",
    "import matplotlib.pyplot as plt\n",
    "%matplotlib inline"
   ]
  },
  {
   "cell_type": "code",
   "execution_count": 2,
   "id": "rubber-ecology",
   "metadata": {},
   "outputs": [
    {
     "name": "stdout",
     "output_type": "stream",
     "text": [
      "Shape -> (6353, 5)\n"
     ]
    },
    {
     "data": {
      "text/html": [
       "<div>\n",
       "<style scoped>\n",
       "    .dataframe tbody tr th:only-of-type {\n",
       "        vertical-align: middle;\n",
       "    }\n",
       "\n",
       "    .dataframe tbody tr th {\n",
       "        vertical-align: top;\n",
       "    }\n",
       "\n",
       "    .dataframe thead th {\n",
       "        text-align: right;\n",
       "    }\n",
       "</style>\n",
       "<table border=\"1\" class=\"dataframe\">\n",
       "  <thead>\n",
       "    <tr style=\"text-align: right;\">\n",
       "      <th></th>\n",
       "      <th>Open</th>\n",
       "      <th>High</th>\n",
       "      <th>Low</th>\n",
       "      <th>Close</th>\n",
       "      <th>Volume</th>\n",
       "    </tr>\n",
       "  </thead>\n",
       "  <tbody>\n",
       "    <tr>\n",
       "      <th>0</th>\n",
       "      <td>18.691147</td>\n",
       "      <td>18.978922</td>\n",
       "      <td>18.540184</td>\n",
       "      <td>18.823240</td>\n",
       "      <td>43733533.0</td>\n",
       "    </tr>\n",
       "    <tr>\n",
       "      <th>1</th>\n",
       "      <td>18.894005</td>\n",
       "      <td>18.964767</td>\n",
       "      <td>17.738192</td>\n",
       "      <td>18.224106</td>\n",
       "      <td>56167280.0</td>\n",
       "    </tr>\n",
       "    <tr>\n",
       "      <th>2</th>\n",
       "      <td>18.327892</td>\n",
       "      <td>18.568489</td>\n",
       "      <td>17.643839</td>\n",
       "      <td>17.738192</td>\n",
       "      <td>68296318.0</td>\n",
       "    </tr>\n",
       "    <tr>\n",
       "      <th>3</th>\n",
       "      <td>17.502312</td>\n",
       "      <td>17.832542</td>\n",
       "      <td>17.223972</td>\n",
       "      <td>17.676863</td>\n",
       "      <td>86073880.0</td>\n",
       "    </tr>\n",
       "    <tr>\n",
       "      <th>4</th>\n",
       "      <td>17.738192</td>\n",
       "      <td>17.785366</td>\n",
       "      <td>17.459852</td>\n",
       "      <td>17.577793</td>\n",
       "      <td>76613039.0</td>\n",
       "    </tr>\n",
       "  </tbody>\n",
       "</table>\n",
       "</div>"
      ],
      "text/plain": [
       "        Open       High        Low      Close      Volume\n",
       "0  18.691147  18.978922  18.540184  18.823240  43733533.0\n",
       "1  18.894005  18.964767  17.738192  18.224106  56167280.0\n",
       "2  18.327892  18.568489  17.643839  17.738192  68296318.0\n",
       "3  17.502312  17.832542  17.223972  17.676863  86073880.0\n",
       "4  17.738192  17.785366  17.459852  17.577793  76613039.0"
      ]
     },
     "execution_count": 2,
     "metadata": {},
     "output_type": "execute_result"
    }
   ],
   "source": [
    "#Reading dataset in pandas\n",
    "df = pd.read_csv(\"SBI.csv\")\n",
    "#Droping unwanted columns\n",
    "df.drop([\"Date\", \"Adj Close\"], axis=1, inplace=True)\n",
    "print(\"Shape ->\",df.shape)\n",
    "df.head()"
   ]
  },
  {
   "cell_type": "code",
   "execution_count": 3,
   "id": "announced-redhead",
   "metadata": {},
   "outputs": [
    {
     "data": {
      "text/html": [
       "<div>\n",
       "<style scoped>\n",
       "    .dataframe tbody tr th:only-of-type {\n",
       "        vertical-align: middle;\n",
       "    }\n",
       "\n",
       "    .dataframe tbody tr th {\n",
       "        vertical-align: top;\n",
       "    }\n",
       "\n",
       "    .dataframe thead th {\n",
       "        text-align: right;\n",
       "    }\n",
       "</style>\n",
       "<table border=\"1\" class=\"dataframe\">\n",
       "  <thead>\n",
       "    <tr style=\"text-align: right;\">\n",
       "      <th></th>\n",
       "      <th>Open</th>\n",
       "      <th>High</th>\n",
       "      <th>Low</th>\n",
       "      <th>Volume</th>\n",
       "      <th>Close</th>\n",
       "      <th>Close_Tom</th>\n",
       "    </tr>\n",
       "  </thead>\n",
       "  <tbody>\n",
       "    <tr>\n",
       "      <th>0</th>\n",
       "      <td>18.691147</td>\n",
       "      <td>18.978922</td>\n",
       "      <td>18.540184</td>\n",
       "      <td>43733533.0</td>\n",
       "      <td>18.823240</td>\n",
       "      <td>18.823240</td>\n",
       "    </tr>\n",
       "    <tr>\n",
       "      <th>1</th>\n",
       "      <td>18.894005</td>\n",
       "      <td>18.964767</td>\n",
       "      <td>17.738192</td>\n",
       "      <td>56167280.0</td>\n",
       "      <td>18.224106</td>\n",
       "      <td>18.224106</td>\n",
       "    </tr>\n",
       "    <tr>\n",
       "      <th>2</th>\n",
       "      <td>18.327892</td>\n",
       "      <td>18.568489</td>\n",
       "      <td>17.643839</td>\n",
       "      <td>68296318.0</td>\n",
       "      <td>17.738192</td>\n",
       "      <td>17.738192</td>\n",
       "    </tr>\n",
       "    <tr>\n",
       "      <th>3</th>\n",
       "      <td>17.502312</td>\n",
       "      <td>17.832542</td>\n",
       "      <td>17.223972</td>\n",
       "      <td>86073880.0</td>\n",
       "      <td>17.676863</td>\n",
       "      <td>17.676863</td>\n",
       "    </tr>\n",
       "    <tr>\n",
       "      <th>4</th>\n",
       "      <td>17.738192</td>\n",
       "      <td>17.785366</td>\n",
       "      <td>17.459852</td>\n",
       "      <td>76613039.0</td>\n",
       "      <td>17.577793</td>\n",
       "      <td>17.577793</td>\n",
       "    </tr>\n",
       "  </tbody>\n",
       "</table>\n",
       "</div>"
      ],
      "text/plain": [
       "        Open       High        Low      Volume      Close  Close_Tom\n",
       "0  18.691147  18.978922  18.540184  43733533.0  18.823240  18.823240\n",
       "1  18.894005  18.964767  17.738192  56167280.0  18.224106  18.224106\n",
       "2  18.327892  18.568489  17.643839  68296318.0  17.738192  17.738192\n",
       "3  17.502312  17.832542  17.223972  86073880.0  17.676863  17.676863\n",
       "4  17.738192  17.785366  17.459852  76613039.0  17.577793  17.577793"
      ]
     },
     "execution_count": 3,
     "metadata": {},
     "output_type": "execute_result"
    }
   ],
   "source": [
    "#Reordering columns\n",
    "df = df[['Open', 'High', 'Low', 'Volume', 'Close']]\n",
    "df['Close_Tom'] =  df['Close']\n",
    "df.head()"
   ]
  },
  {
   "cell_type": "code",
   "execution_count": 4,
   "id": "anticipated-atlanta",
   "metadata": {},
   "outputs": [
    {
     "data": {
      "text/html": [
       "<div>\n",
       "<style scoped>\n",
       "    .dataframe tbody tr th:only-of-type {\n",
       "        vertical-align: middle;\n",
       "    }\n",
       "\n",
       "    .dataframe tbody tr th {\n",
       "        vertical-align: top;\n",
       "    }\n",
       "\n",
       "    .dataframe thead th {\n",
       "        text-align: right;\n",
       "    }\n",
       "</style>\n",
       "<table border=\"1\" class=\"dataframe\">\n",
       "  <thead>\n",
       "    <tr style=\"text-align: right;\">\n",
       "      <th></th>\n",
       "      <th>Open</th>\n",
       "      <th>High</th>\n",
       "      <th>Low</th>\n",
       "      <th>Volume</th>\n",
       "      <th>Close</th>\n",
       "      <th>Close_Tom</th>\n",
       "    </tr>\n",
       "  </thead>\n",
       "  <tbody>\n",
       "    <tr>\n",
       "      <th>0</th>\n",
       "      <td>18.691147</td>\n",
       "      <td>18.978922</td>\n",
       "      <td>18.540184</td>\n",
       "      <td>43733533.0</td>\n",
       "      <td>18.823240</td>\n",
       "      <td>18.224106</td>\n",
       "    </tr>\n",
       "    <tr>\n",
       "      <th>1</th>\n",
       "      <td>18.894005</td>\n",
       "      <td>18.964767</td>\n",
       "      <td>17.738192</td>\n",
       "      <td>56167280.0</td>\n",
       "      <td>18.224106</td>\n",
       "      <td>17.738192</td>\n",
       "    </tr>\n",
       "    <tr>\n",
       "      <th>2</th>\n",
       "      <td>18.327892</td>\n",
       "      <td>18.568489</td>\n",
       "      <td>17.643839</td>\n",
       "      <td>68296318.0</td>\n",
       "      <td>17.738192</td>\n",
       "      <td>17.676863</td>\n",
       "    </tr>\n",
       "    <tr>\n",
       "      <th>3</th>\n",
       "      <td>17.502312</td>\n",
       "      <td>17.832542</td>\n",
       "      <td>17.223972</td>\n",
       "      <td>86073880.0</td>\n",
       "      <td>17.676863</td>\n",
       "      <td>17.577793</td>\n",
       "    </tr>\n",
       "    <tr>\n",
       "      <th>4</th>\n",
       "      <td>17.738192</td>\n",
       "      <td>17.785366</td>\n",
       "      <td>17.459852</td>\n",
       "      <td>76613039.0</td>\n",
       "      <td>17.577793</td>\n",
       "      <td>17.063574</td>\n",
       "    </tr>\n",
       "  </tbody>\n",
       "</table>\n",
       "</div>"
      ],
      "text/plain": [
       "        Open       High        Low      Volume      Close  Close_Tom\n",
       "0  18.691147  18.978922  18.540184  43733533.0  18.823240  18.224106\n",
       "1  18.894005  18.964767  17.738192  56167280.0  18.224106  17.738192\n",
       "2  18.327892  18.568489  17.643839  68296318.0  17.738192  17.676863\n",
       "3  17.502312  17.832542  17.223972  86073880.0  17.676863  17.577793\n",
       "4  17.738192  17.785366  17.459852  76613039.0  17.577793  17.063574"
      ]
     },
     "execution_count": 4,
     "metadata": {},
     "output_type": "execute_result"
    }
   ],
   "source": [
    "#Shifting whole dataset down by one row so we can use yesterdays data to predict todays closing price\n",
    "df['Close_Tom'] =  df['Close_Tom'].shift(-1)\n",
    "df.head()"
   ]
  },
  {
   "cell_type": "code",
   "execution_count": 5,
   "id": "unsigned-treatment",
   "metadata": {},
   "outputs": [
    {
     "data": {
      "text/html": [
       "<div>\n",
       "<style scoped>\n",
       "    .dataframe tbody tr th:only-of-type {\n",
       "        vertical-align: middle;\n",
       "    }\n",
       "\n",
       "    .dataframe tbody tr th {\n",
       "        vertical-align: top;\n",
       "    }\n",
       "\n",
       "    .dataframe thead th {\n",
       "        text-align: right;\n",
       "    }\n",
       "</style>\n",
       "<table border=\"1\" class=\"dataframe\">\n",
       "  <thead>\n",
       "    <tr style=\"text-align: right;\">\n",
       "      <th></th>\n",
       "      <th>Open</th>\n",
       "      <th>High</th>\n",
       "      <th>Low</th>\n",
       "      <th>Volume</th>\n",
       "      <th>Close</th>\n",
       "      <th>Close_Tom</th>\n",
       "    </tr>\n",
       "  </thead>\n",
       "  <tbody>\n",
       "    <tr>\n",
       "      <th>0</th>\n",
       "      <td>18.691147</td>\n",
       "      <td>18.978922</td>\n",
       "      <td>18.540184</td>\n",
       "      <td>43733533.0</td>\n",
       "      <td>18.823240</td>\n",
       "      <td>18.224106</td>\n",
       "    </tr>\n",
       "    <tr>\n",
       "      <th>1</th>\n",
       "      <td>18.894005</td>\n",
       "      <td>18.964767</td>\n",
       "      <td>17.738192</td>\n",
       "      <td>56167280.0</td>\n",
       "      <td>18.224106</td>\n",
       "      <td>17.738192</td>\n",
       "    </tr>\n",
       "    <tr>\n",
       "      <th>2</th>\n",
       "      <td>18.327892</td>\n",
       "      <td>18.568489</td>\n",
       "      <td>17.643839</td>\n",
       "      <td>68296318.0</td>\n",
       "      <td>17.738192</td>\n",
       "      <td>17.676863</td>\n",
       "    </tr>\n",
       "    <tr>\n",
       "      <th>3</th>\n",
       "      <td>17.502312</td>\n",
       "      <td>17.832542</td>\n",
       "      <td>17.223972</td>\n",
       "      <td>86073880.0</td>\n",
       "      <td>17.676863</td>\n",
       "      <td>17.577793</td>\n",
       "    </tr>\n",
       "    <tr>\n",
       "      <th>4</th>\n",
       "      <td>17.738192</td>\n",
       "      <td>17.785366</td>\n",
       "      <td>17.459852</td>\n",
       "      <td>76613039.0</td>\n",
       "      <td>17.577793</td>\n",
       "      <td>17.063574</td>\n",
       "    </tr>\n",
       "  </tbody>\n",
       "</table>\n",
       "</div>"
      ],
      "text/plain": [
       "        Open       High        Low      Volume      Close  Close_Tom\n",
       "0  18.691147  18.978922  18.540184  43733533.0  18.823240  18.224106\n",
       "1  18.894005  18.964767  17.738192  56167280.0  18.224106  17.738192\n",
       "2  18.327892  18.568489  17.643839  68296318.0  17.738192  17.676863\n",
       "3  17.502312  17.832542  17.223972  86073880.0  17.676863  17.577793\n",
       "4  17.738192  17.785366  17.459852  76613039.0  17.577793  17.063574"
      ]
     },
     "execution_count": 5,
     "metadata": {},
     "output_type": "execute_result"
    }
   ],
   "source": [
    "#Reordering columns\n",
    "df = df[['Open', 'High', 'Low', 'Volume', 'Close', 'Close_Tom']]\n",
    "df.head()"
   ]
  },
  {
   "cell_type": "code",
   "execution_count": 6,
   "id": "northern-search",
   "metadata": {},
   "outputs": [
    {
     "data": {
      "text/plain": [
       "Open         0\n",
       "High         0\n",
       "Low          0\n",
       "Volume       0\n",
       "Close        0\n",
       "Close_Tom    0\n",
       "dtype: int64"
      ]
     },
     "execution_count": 6,
     "metadata": {},
     "output_type": "execute_result"
    }
   ],
   "source": [
    "#Filling null values using pad values, will fill next rows values to empty cells\n",
    "df.dropna(axis=0, how='any', inplace=True)\n",
    "df.isnull().sum()"
   ]
  },
  {
   "cell_type": "code",
   "execution_count": 7,
   "id": "conscious-folder",
   "metadata": {},
   "outputs": [
    {
     "data": {
      "text/plain": [
       "<AxesSubplot:>"
      ]
     },
     "execution_count": 7,
     "metadata": {},
     "output_type": "execute_result"
    },
    {
     "data": {
      "image/png": "[encoded data removed]",
      "text/plain": [
       "<Figure size 1440x648 with 1 Axes>"
      ]
     },
     "metadata": {
      "needs_background": "light"
     },
     "output_type": "display_data"
    }
   ],
   "source": [
    "#Dataset Plotted\n",
    "df['Close'].plot(figsize=(20,9))"
   ]
  },
  {
   "cell_type": "code",
   "execution_count": 8,
   "id": "complete-nickname",
   "metadata": {},
   "outputs": [],
   "source": [
    "#columns for x and y\n",
    "x  = df[['Open','High','Low','Volume', 'Close']]\n",
    "y = df['Close_Tom']"
   ]
  },
  {
   "cell_type": "code",
   "execution_count": 9,
   "id": "organizational-dublin",
   "metadata": {},
   "outputs": [
    {
     "data": {
      "text/html": [
       "<div>\n",
       "<style scoped>\n",
       "    .dataframe tbody tr th:only-of-type {\n",
       "        vertical-align: middle;\n",
       "    }\n",
       "\n",
       "    .dataframe tbody tr th {\n",
       "        vertical-align: top;\n",
       "    }\n",
       "\n",
       "    .dataframe thead th {\n",
       "        text-align: right;\n",
       "    }\n",
       "</style>\n",
       "<table border=\"1\" class=\"dataframe\">\n",
       "  <thead>\n",
       "    <tr style=\"text-align: right;\">\n",
       "      <th></th>\n",
       "      <th>Open</th>\n",
       "      <th>High</th>\n",
       "      <th>Low</th>\n",
       "      <th>Volume</th>\n",
       "      <th>Close</th>\n",
       "      <th>Close_Tom</th>\n",
       "    </tr>\n",
       "  </thead>\n",
       "  <tbody>\n",
       "    <tr>\n",
       "      <th>0</th>\n",
       "      <td>0.012666</td>\n",
       "      <td>0.012188</td>\n",
       "      <td>0.013299</td>\n",
       "      <td>0.097849</td>\n",
       "      <td>0.013630</td>\n",
       "      <td>18.224106</td>\n",
       "    </tr>\n",
       "    <tr>\n",
       "      <th>1</th>\n",
       "      <td>0.013159</td>\n",
       "      <td>0.012154</td>\n",
       "      <td>0.011297</td>\n",
       "      <td>0.125668</td>\n",
       "      <td>0.012139</td>\n",
       "      <td>17.738192</td>\n",
       "    </tr>\n",
       "    <tr>\n",
       "      <th>2</th>\n",
       "      <td>0.011783</td>\n",
       "      <td>0.011196</td>\n",
       "      <td>0.011061</td>\n",
       "      <td>0.152806</td>\n",
       "      <td>0.010930</td>\n",
       "      <td>17.676863</td>\n",
       "    </tr>\n",
       "    <tr>\n",
       "      <th>3</th>\n",
       "      <td>0.009777</td>\n",
       "      <td>0.009418</td>\n",
       "      <td>0.010013</td>\n",
       "      <td>0.192581</td>\n",
       "      <td>0.010777</td>\n",
       "      <td>17.577793</td>\n",
       "    </tr>\n",
       "    <tr>\n",
       "      <th>4</th>\n",
       "      <td>0.010351</td>\n",
       "      <td>0.009304</td>\n",
       "      <td>0.010602</td>\n",
       "      <td>0.171414</td>\n",
       "      <td>0.010530</td>\n",
       "      <td>17.063574</td>\n",
       "    </tr>\n",
       "  </tbody>\n",
       "</table>\n",
       "</div>"
      ],
      "text/plain": [
       "       Open      High       Low    Volume     Close  Close_Tom\n",
       "0  0.012666  0.012188  0.013299  0.097849  0.013630  18.224106\n",
       "1  0.013159  0.012154  0.011297  0.125668  0.012139  17.738192\n",
       "2  0.011783  0.011196  0.011061  0.152806  0.010930  17.676863\n",
       "3  0.009777  0.009418  0.010013  0.192581  0.010777  17.577793\n",
       "4  0.010351  0.009304  0.010602  0.171414  0.010530  17.063574"
      ]
     },
     "execution_count": 9,
     "metadata": {},
     "output_type": "execute_result"
    }
   ],
   "source": [
    "#Normalising data\n",
    "scaler = MinMaxScaler()\n",
    "df[['Open','High','Low','Volume', 'Close']] = scaler.fit_transform(df[['Open', 'High', 'Low', 'Volume', 'Close']])\n",
    "df.head()"
   ]
  },
  {
   "cell_type": "code",
   "execution_count": 10,
   "id": "animal-mistake",
   "metadata": {},
   "outputs": [
    {
     "name": "stdout",
     "output_type": "stream",
     "text": [
      "(4743, 5)\n",
      "(1581, 5)\n",
      "(4743,)\n",
      "(1581,)\n"
     ]
    }
   ],
   "source": [
    "#Splitting data\n",
    "x_train , x_test , y_train , y_test = train_test_split(x ,y)\n",
    "print(x_train.shape)\n",
    "print(x_test.shape)\n",
    "print(y_train.shape)\n",
    "print(y_test.shape)"
   ]
  },
  {
   "cell_type": "markdown",
   "id": "minus-intelligence",
   "metadata": {},
   "source": [
    "---\n",
    "# Random Forest"
   ]
  },
  {
   "cell_type": "code",
   "execution_count": 11,
   "id": "built-breeding",
   "metadata": {},
   "outputs": [
    {
     "data": {
      "text/plain": [
       "RandomForestRegressor(random_state=0)"
      ]
     },
     "execution_count": 11,
     "metadata": {},
     "output_type": "execute_result"
    }
   ],
   "source": [
    "model_rf = RandomForestRegressor(n_estimators = 100, random_state = 0) \n",
    "model_rf.fit(x_train, y_train)   "
   ]
  },
  {
   "cell_type": "code",
   "execution_count": 12,
   "id": "removable-territory",
   "metadata": {},
   "outputs": [
    {
     "data": {
      "text/html": [
       "<div>\n",
       "<style scoped>\n",
       "    .dataframe tbody tr th:only-of-type {\n",
       "        vertical-align: middle;\n",
       "    }\n",
       "\n",
       "    .dataframe tbody tr th {\n",
       "        vertical-align: top;\n",
       "    }\n",
       "\n",
       "    .dataframe thead th {\n",
       "        text-align: right;\n",
       "    }\n",
       "</style>\n",
       "<table border=\"1\" class=\"dataframe\">\n",
       "  <thead>\n",
       "    <tr style=\"text-align: right;\">\n",
       "      <th></th>\n",
       "      <th>Actual</th>\n",
       "      <th>Predicted</th>\n",
       "      <th>Difference</th>\n",
       "    </tr>\n",
       "  </thead>\n",
       "  <tbody>\n",
       "    <tr>\n",
       "      <th>3787</th>\n",
       "      <td>323.920013</td>\n",
       "      <td>318.589297</td>\n",
       "      <td>5.330716</td>\n",
       "    </tr>\n",
       "    <tr>\n",
       "      <th>3717</th>\n",
       "      <td>244.899994</td>\n",
       "      <td>247.747849</td>\n",
       "      <td>2.847855</td>\n",
       "    </tr>\n",
       "    <tr>\n",
       "      <th>5401</th>\n",
       "      <td>294.450012</td>\n",
       "      <td>300.986496</td>\n",
       "      <td>6.536484</td>\n",
       "    </tr>\n",
       "    <tr>\n",
       "      <th>4262</th>\n",
       "      <td>212.335007</td>\n",
       "      <td>216.347510</td>\n",
       "      <td>4.012503</td>\n",
       "    </tr>\n",
       "    <tr>\n",
       "      <th>3160</th>\n",
       "      <td>167.339996</td>\n",
       "      <td>161.098727</td>\n",
       "      <td>6.241269</td>\n",
       "    </tr>\n",
       "    <tr>\n",
       "      <th>610</th>\n",
       "      <td>27.253599</td>\n",
       "      <td>26.891758</td>\n",
       "      <td>0.361841</td>\n",
       "    </tr>\n",
       "    <tr>\n",
       "      <th>5016</th>\n",
       "      <td>243.800003</td>\n",
       "      <td>244.932649</td>\n",
       "      <td>1.132646</td>\n",
       "    </tr>\n",
       "    <tr>\n",
       "      <th>4515</th>\n",
       "      <td>161.490005</td>\n",
       "      <td>164.077402</td>\n",
       "      <td>2.587397</td>\n",
       "    </tr>\n",
       "    <tr>\n",
       "      <th>6276</th>\n",
       "      <td>238.699997</td>\n",
       "      <td>245.722598</td>\n",
       "      <td>7.022601</td>\n",
       "    </tr>\n",
       "    <tr>\n",
       "      <th>587</th>\n",
       "      <td>26.932802</td>\n",
       "      <td>26.995735</td>\n",
       "      <td>0.062933</td>\n",
       "    </tr>\n",
       "  </tbody>\n",
       "</table>\n",
       "</div>"
      ],
      "text/plain": [
       "          Actual   Predicted  Difference\n",
       "3787  323.920013  318.589297    5.330716\n",
       "3717  244.899994  247.747849    2.847855\n",
       "5401  294.450012  300.986496    6.536484\n",
       "4262  212.335007  216.347510    4.012503\n",
       "3160  167.339996  161.098727    6.241269\n",
       "610    27.253599   26.891758    0.361841\n",
       "5016  243.800003  244.932649    1.132646\n",
       "4515  161.490005  164.077402    2.587397\n",
       "6276  238.699997  245.722598    7.022601\n",
       "587    26.932802   26.995735    0.062933"
      ]
     },
     "execution_count": 12,
     "metadata": {},
     "output_type": "execute_result"
    }
   ],
   "source": [
    "#predicting stock price using our model\n",
    "preds_rf = model_rf.predict(x_test)\n",
    "\n",
    "dfpred_rf = pd.DataFrame({'Actual':y_test,'Predicted':preds_rf, 'Difference':abs(y_test-preds_rf)})\n",
    "dfpred_rf.head(10)"
   ]
  },
  {
   "cell_type": "code",
   "execution_count": 13,
   "id": "cellular-soccer",
   "metadata": {},
   "outputs": [
    {
     "name": "stdout",
     "output_type": "stream",
     "text": [
      "Score: 0.9982965139173496\n",
      "Mean Absolute Error: 2.7085925828881514\n",
      "Mean Squared  Error: 19.7634141082295\n",
      "Root Mean Squared Error: 4.445606157570585\n",
      "Loss: 2.7085925828881514\n"
     ]
    }
   ],
   "source": [
    "#Different Metrics calculated using our model\n",
    "print(\"Score:\", model_rf.score(x_test, y_test))\n",
    "print('Mean Absolute Error:',metrics.mean_absolute_error(y_test,preds_rf))\n",
    "print('Mean Squared  Error:',metrics.mean_squared_error(y_test,preds_rf))\n",
    "print('Root Mean Squared Error:',(metrics.mean_squared_error(y_test,preds_rf))**0.5)\n",
    "print('Loss:', abs(y_test-preds_rf).mean())"
   ]
  },
  {
   "cell_type": "markdown",
   "id": "fitted-reality",
   "metadata": {},
   "source": [
    "---\n",
    "# k-NN"
   ]
  },
  {
   "cell_type": "code",
   "execution_count": 14,
   "id": "reserved-exclusive",
   "metadata": {},
   "outputs": [
    {
     "data": {
      "text/plain": [
       "GridSearchCV(cv=7, estimator=KNeighborsRegressor(),\n",
       "             param_grid={'n_neighbors': [1, 2, 3, 4, 5, 6, 7, 8, 9, 10, 11, 12,\n",
       "                                         13, 14]})"
      ]
     },
     "execution_count": 14,
     "metadata": {},
     "output_type": "execute_result"
    }
   ],
   "source": [
    "#using gridsearch to find the best parameter\n",
    "params = {'n_neighbors':[1,2,3,4,5,6,7,8,9,10,11,12,13,14]}\n",
    "knn = neighbors.KNeighborsRegressor()\n",
    "model_knn = GridSearchCV(knn, params, cv=7)\n",
    "model_knn.fit(x_train,y_train)"
   ]
  },
  {
   "cell_type": "code",
   "execution_count": 15,
   "id": "covered-secondary",
   "metadata": {},
   "outputs": [
    {
     "data": {
      "text/html": [
       "<div>\n",
       "<style scoped>\n",
       "    .dataframe tbody tr th:only-of-type {\n",
       "        vertical-align: middle;\n",
       "    }\n",
       "\n",
       "    .dataframe tbody tr th {\n",
       "        vertical-align: top;\n",
       "    }\n",
       "\n",
       "    .dataframe thead th {\n",
       "        text-align: right;\n",
       "    }\n",
       "</style>\n",
       "<table border=\"1\" class=\"dataframe\">\n",
       "  <thead>\n",
       "    <tr style=\"text-align: right;\">\n",
       "      <th></th>\n",
       "      <th>Actual</th>\n",
       "      <th>Predicted</th>\n",
       "      <th>Difference</th>\n",
       "    </tr>\n",
       "  </thead>\n",
       "  <tbody>\n",
       "    <tr>\n",
       "      <th>3787</th>\n",
       "      <td>323.920013</td>\n",
       "      <td>167.360927</td>\n",
       "      <td>156.559086</td>\n",
       "    </tr>\n",
       "    <tr>\n",
       "      <th>3717</th>\n",
       "      <td>244.899994</td>\n",
       "      <td>139.570985</td>\n",
       "      <td>105.329009</td>\n",
       "    </tr>\n",
       "    <tr>\n",
       "      <th>5401</th>\n",
       "      <td>294.450012</td>\n",
       "      <td>168.782982</td>\n",
       "      <td>125.667030</td>\n",
       "    </tr>\n",
       "    <tr>\n",
       "      <th>4262</th>\n",
       "      <td>212.335007</td>\n",
       "      <td>132.272712</td>\n",
       "      <td>80.062295</td>\n",
       "    </tr>\n",
       "    <tr>\n",
       "      <th>3160</th>\n",
       "      <td>167.339996</td>\n",
       "      <td>194.349357</td>\n",
       "      <td>27.009361</td>\n",
       "    </tr>\n",
       "    <tr>\n",
       "      <th>610</th>\n",
       "      <td>27.253599</td>\n",
       "      <td>199.295173</td>\n",
       "      <td>172.041574</td>\n",
       "    </tr>\n",
       "    <tr>\n",
       "      <th>5016</th>\n",
       "      <td>243.800003</td>\n",
       "      <td>163.106716</td>\n",
       "      <td>80.693287</td>\n",
       "    </tr>\n",
       "    <tr>\n",
       "      <th>4515</th>\n",
       "      <td>161.490005</td>\n",
       "      <td>224.894128</td>\n",
       "      <td>63.404123</td>\n",
       "    </tr>\n",
       "    <tr>\n",
       "      <th>6276</th>\n",
       "      <td>238.699997</td>\n",
       "      <td>56.153928</td>\n",
       "      <td>182.546069</td>\n",
       "    </tr>\n",
       "    <tr>\n",
       "      <th>587</th>\n",
       "      <td>26.932802</td>\n",
       "      <td>117.413552</td>\n",
       "      <td>90.480750</td>\n",
       "    </tr>\n",
       "  </tbody>\n",
       "</table>\n",
       "</div>"
      ],
      "text/plain": [
       "          Actual   Predicted  Difference\n",
       "3787  323.920013  167.360927  156.559086\n",
       "3717  244.899994  139.570985  105.329009\n",
       "5401  294.450012  168.782982  125.667030\n",
       "4262  212.335007  132.272712   80.062295\n",
       "3160  167.339996  194.349357   27.009361\n",
       "610    27.253599  199.295173  172.041574\n",
       "5016  243.800003  163.106716   80.693287\n",
       "4515  161.490005  224.894128   63.404123\n",
       "6276  238.699997   56.153928  182.546069\n",
       "587    26.932802  117.413552   90.480750"
      ]
     },
     "execution_count": 15,
     "metadata": {},
     "output_type": "execute_result"
    }
   ],
   "source": [
    "#predicting stock price using our model\n",
    "preds_knn = model_knn.predict(x_test)\n",
    "\n",
    "dfpred_knn = pd.DataFrame({'Actual':y_test,'Predicted':preds_knn, 'Difference':abs(y_test-preds_knn)})\n",
    "dfpred_knn.head(10)"
   ]
  },
  {
   "cell_type": "code",
   "execution_count": 16,
   "id": "christian-politics",
   "metadata": {},
   "outputs": [
    {
     "data": {
      "text/plain": [
       "{'cv': 7,\n",
       " 'error_score': nan,\n",
       " 'estimator__algorithm': 'auto',\n",
       " 'estimator__leaf_size': 30,\n",
       " 'estimator__metric': 'minkowski',\n",
       " 'estimator__metric_params': None,\n",
       " 'estimator__n_jobs': None,\n",
       " 'estimator__n_neighbors': 5,\n",
       " 'estimator__p': 2,\n",
       " 'estimator__weights': 'uniform',\n",
       " 'estimator': KNeighborsRegressor(),\n",
       " 'n_jobs': None,\n",
       " 'param_grid': {'n_neighbors': [1,\n",
       "   2,\n",
       "   3,\n",
       "   4,\n",
       "   5,\n",
       "   6,\n",
       "   7,\n",
       "   8,\n",
       "   9,\n",
       "   10,\n",
       "   11,\n",
       "   12,\n",
       "   13,\n",
       "   14]},\n",
       " 'pre_dispatch': '2*n_jobs',\n",
       " 'refit': True,\n",
       " 'return_train_score': False,\n",
       " 'scoring': None,\n",
       " 'verbose': 0}"
      ]
     },
     "execution_count": 16,
     "metadata": {},
     "output_type": "execute_result"
    }
   ],
   "source": [
    "model_knn.get_params()"
   ]
  },
  {
   "cell_type": "code",
   "execution_count": 17,
   "id": "natural-package",
   "metadata": {},
   "outputs": [
    {
     "name": "stdout",
     "output_type": "stream",
     "text": [
      "Score: 0.18426839201520195\n",
      "Mean Absolute Error: 79.37475261330982\n",
      "Mean Squared  Error: 9463.911524708574\n",
      "Root Mean Squared Error: 97.28263732397767\n",
      "Loss: 79.37475261330982\n"
     ]
    }
   ],
   "source": [
    "#Different Metrics calculated using our model\n",
    "print(\"Score:\", model_knn.score(x_test, y_test))\n",
    "print('Mean Absolute Error:',metrics.mean_absolute_error(y_test,preds_knn))\n",
    "print('Mean Squared  Error:',metrics.mean_squared_error(y_test,preds_knn))\n",
    "print('Root Mean Squared Error:',(metrics.mean_squared_error(y_test,preds_knn))**0.5)\n",
    "print('Loss:', abs(y_test-preds_knn).mean())"
   ]
  },
  {
   "cell_type": "markdown",
   "id": "limited-bottle",
   "metadata": {},
   "source": [
    "---\n",
    "# Decision Tree"
   ]
  },
  {
   "cell_type": "code",
   "execution_count": 18,
   "id": "hourly-radar",
   "metadata": {},
   "outputs": [
    {
     "data": {
      "text/plain": [
       "DecisionTreeRegressor()"
      ]
     },
     "execution_count": 18,
     "metadata": {},
     "output_type": "execute_result"
    }
   ],
   "source": [
    "model_dt = DecisionTreeRegressor()\n",
    "model_dt.fit(x_train,y_train)"
   ]
  },
  {
   "cell_type": "code",
   "execution_count": 19,
   "id": "front-commercial",
   "metadata": {},
   "outputs": [
    {
     "data": {
      "text/html": [
       "<div>\n",
       "<style scoped>\n",
       "    .dataframe tbody tr th:only-of-type {\n",
       "        vertical-align: middle;\n",
       "    }\n",
       "\n",
       "    .dataframe tbody tr th {\n",
       "        vertical-align: top;\n",
       "    }\n",
       "\n",
       "    .dataframe thead th {\n",
       "        text-align: right;\n",
       "    }\n",
       "</style>\n",
       "<table border=\"1\" class=\"dataframe\">\n",
       "  <thead>\n",
       "    <tr style=\"text-align: right;\">\n",
       "      <th></th>\n",
       "      <th>Actual</th>\n",
       "      <th>Predicted</th>\n",
       "      <th>Difference</th>\n",
       "    </tr>\n",
       "  </thead>\n",
       "  <tbody>\n",
       "    <tr>\n",
       "      <th>3787</th>\n",
       "      <td>323.920013</td>\n",
       "      <td>318.500000</td>\n",
       "      <td>5.420013</td>\n",
       "    </tr>\n",
       "    <tr>\n",
       "      <th>3717</th>\n",
       "      <td>244.899994</td>\n",
       "      <td>248.949997</td>\n",
       "      <td>4.050003</td>\n",
       "    </tr>\n",
       "    <tr>\n",
       "      <th>5401</th>\n",
       "      <td>294.450012</td>\n",
       "      <td>288.750000</td>\n",
       "      <td>5.700012</td>\n",
       "    </tr>\n",
       "    <tr>\n",
       "      <th>4262</th>\n",
       "      <td>212.335007</td>\n",
       "      <td>217.074997</td>\n",
       "      <td>4.739990</td>\n",
       "    </tr>\n",
       "    <tr>\n",
       "      <th>3160</th>\n",
       "      <td>167.339996</td>\n",
       "      <td>162.320007</td>\n",
       "      <td>5.019989</td>\n",
       "    </tr>\n",
       "    <tr>\n",
       "      <th>610</th>\n",
       "      <td>27.253599</td>\n",
       "      <td>27.805559</td>\n",
       "      <td>0.551960</td>\n",
       "    </tr>\n",
       "    <tr>\n",
       "      <th>5016</th>\n",
       "      <td>243.800003</td>\n",
       "      <td>248.949997</td>\n",
       "      <td>5.149994</td>\n",
       "    </tr>\n",
       "    <tr>\n",
       "      <th>4515</th>\n",
       "      <td>161.490005</td>\n",
       "      <td>159.255005</td>\n",
       "      <td>2.235000</td>\n",
       "    </tr>\n",
       "    <tr>\n",
       "      <th>6276</th>\n",
       "      <td>238.699997</td>\n",
       "      <td>246.399994</td>\n",
       "      <td>7.699997</td>\n",
       "    </tr>\n",
       "    <tr>\n",
       "      <th>587</th>\n",
       "      <td>26.932802</td>\n",
       "      <td>27.008284</td>\n",
       "      <td>0.075482</td>\n",
       "    </tr>\n",
       "  </tbody>\n",
       "</table>\n",
       "</div>"
      ],
      "text/plain": [
       "          Actual   Predicted  Difference\n",
       "3787  323.920013  318.500000    5.420013\n",
       "3717  244.899994  248.949997    4.050003\n",
       "5401  294.450012  288.750000    5.700012\n",
       "4262  212.335007  217.074997    4.739990\n",
       "3160  167.339996  162.320007    5.019989\n",
       "610    27.253599   27.805559    0.551960\n",
       "5016  243.800003  248.949997    5.149994\n",
       "4515  161.490005  159.255005    2.235000\n",
       "6276  238.699997  246.399994    7.699997\n",
       "587    26.932802   27.008284    0.075482"
      ]
     },
     "execution_count": 19,
     "metadata": {},
     "output_type": "execute_result"
    }
   ],
   "source": [
    "#predicting stock price using our model\n",
    "preds_dt = model_dt.predict(x_test)\n",
    "\n",
    "dfpred_dt = pd.DataFrame({'Actual':y_test,'Predicted':preds_dt, 'Difference':abs(y_test-preds_dt)})\n",
    "dfpred_dt.head(10)"
   ]
  },
  {
   "cell_type": "code",
   "execution_count": 20,
   "id": "lightweight-reception",
   "metadata": {},
   "outputs": [
    {
     "name": "stdout",
     "output_type": "stream",
     "text": [
      "Score: 0.9966633596099098\n",
      "Mean Absolute Error: 3.6553779301075275\n",
      "Mean Squared  Error: 38.71085677260005\n",
      "Root Mean Squared Error: 6.2218049449175155\n",
      "Loss: 3.6553779301075275\n"
     ]
    }
   ],
   "source": [
    "#Different Metrics calculated using our model\n",
    "print(\"Score:\", model_dt.score(x_test,y_test))\n",
    "print('Mean Absolute Error:',metrics.mean_absolute_error(y_test,preds_dt))\n",
    "print('Mean Squared  Error:',metrics.mean_squared_error(y_test,preds_dt))\n",
    "print('Root Mean Squared Error:',(metrics.mean_squared_error(y_test,preds_dt))**0.5)\n",
    "print('Loss:', abs(y_test-preds_dt).mean())"
   ]
  },
  {
   "cell_type": "markdown",
   "id": "certified-negative",
   "metadata": {},
   "source": [
    "---\n",
    "# Linear Regression"
   ]
  },
  {
   "cell_type": "code",
   "execution_count": 21,
   "id": "intensive-breach",
   "metadata": {
    "tags": []
   },
   "outputs": [
    {
     "data": {
      "text/plain": [
       "LinearRegression()"
      ]
     },
     "execution_count": 21,
     "metadata": {},
     "output_type": "execute_result"
    }
   ],
   "source": [
    "#linear Regression\n",
    "model_lr = LinearRegression()\n",
    "model_lr.fit(x_train,y_train)"
   ]
  },
  {
   "cell_type": "code",
   "execution_count": 22,
   "id": "grave-magnet",
   "metadata": {},
   "outputs": [
    {
     "name": "stdout",
     "output_type": "stream",
     "text": [
      "[-7.41837907e-02  9.00036728e-03  3.58367693e-02 -1.60711010e-09\n",
      "  1.02943084e+00]\n",
      "0.17599474096897438\n"
     ]
    }
   ],
   "source": [
    "#Coefficients and Intercept of LR\n",
    "print(model_lr.coef_)\n",
    "print(model_lr.intercept_)"
   ]
  },
  {
   "cell_type": "code",
   "execution_count": 23,
   "id": "improved-germany",
   "metadata": {},
   "outputs": [
    {
     "data": {
      "text/html": [
       "<div>\n",
       "<style scoped>\n",
       "    .dataframe tbody tr th:only-of-type {\n",
       "        vertical-align: middle;\n",
       "    }\n",
       "\n",
       "    .dataframe tbody tr th {\n",
       "        vertical-align: top;\n",
       "    }\n",
       "\n",
       "    .dataframe thead th {\n",
       "        text-align: right;\n",
       "    }\n",
       "</style>\n",
       "<table border=\"1\" class=\"dataframe\">\n",
       "  <thead>\n",
       "    <tr style=\"text-align: right;\">\n",
       "      <th></th>\n",
       "      <th>Actual</th>\n",
       "      <th>Predicted</th>\n",
       "      <th>Difference</th>\n",
       "    </tr>\n",
       "  </thead>\n",
       "  <tbody>\n",
       "    <tr>\n",
       "      <th>3787</th>\n",
       "      <td>323.920013</td>\n",
       "      <td>320.737725</td>\n",
       "      <td>3.182288</td>\n",
       "    </tr>\n",
       "    <tr>\n",
       "      <th>3717</th>\n",
       "      <td>244.899994</td>\n",
       "      <td>243.949916</td>\n",
       "      <td>0.950078</td>\n",
       "    </tr>\n",
       "    <tr>\n",
       "      <th>5401</th>\n",
       "      <td>294.450012</td>\n",
       "      <td>296.356748</td>\n",
       "      <td>1.906736</td>\n",
       "    </tr>\n",
       "    <tr>\n",
       "      <th>4262</th>\n",
       "      <td>212.335007</td>\n",
       "      <td>215.271318</td>\n",
       "      <td>2.936311</td>\n",
       "    </tr>\n",
       "    <tr>\n",
       "      <th>3160</th>\n",
       "      <td>167.339996</td>\n",
       "      <td>160.074464</td>\n",
       "      <td>7.265532</td>\n",
       "    </tr>\n",
       "    <tr>\n",
       "      <th>610</th>\n",
       "      <td>27.253599</td>\n",
       "      <td>27.436989</td>\n",
       "      <td>0.183390</td>\n",
       "    </tr>\n",
       "    <tr>\n",
       "      <th>5016</th>\n",
       "      <td>243.800003</td>\n",
       "      <td>244.661238</td>\n",
       "      <td>0.861235</td>\n",
       "    </tr>\n",
       "    <tr>\n",
       "      <th>4515</th>\n",
       "      <td>161.490005</td>\n",
       "      <td>163.933019</td>\n",
       "      <td>2.443014</td>\n",
       "    </tr>\n",
       "    <tr>\n",
       "      <th>6276</th>\n",
       "      <td>238.699997</td>\n",
       "      <td>242.611990</td>\n",
       "      <td>3.911993</td>\n",
       "    </tr>\n",
       "    <tr>\n",
       "      <th>587</th>\n",
       "      <td>26.932802</td>\n",
       "      <td>27.205066</td>\n",
       "      <td>0.272264</td>\n",
       "    </tr>\n",
       "  </tbody>\n",
       "</table>\n",
       "</div>"
      ],
      "text/plain": [
       "          Actual   Predicted  Difference\n",
       "3787  323.920013  320.737725    3.182288\n",
       "3717  244.899994  243.949916    0.950078\n",
       "5401  294.450012  296.356748    1.906736\n",
       "4262  212.335007  215.271318    2.936311\n",
       "3160  167.339996  160.074464    7.265532\n",
       "610    27.253599   27.436989    0.183390\n",
       "5016  243.800003  244.661238    0.861235\n",
       "4515  161.490005  163.933019    2.443014\n",
       "6276  238.699997  242.611990    3.911993\n",
       "587    26.932802   27.205066    0.272264"
      ]
     },
     "execution_count": 23,
     "metadata": {},
     "output_type": "execute_result"
    }
   ],
   "source": [
    "#predicting stock price using our model\n",
    "preds_lr = model_lr.predict(x_test)\n",
    "\n",
    "dfpred_lr = pd.DataFrame({'Actual':y_test,'Predicted':preds_lr, 'Difference':abs(y_test-preds_lr)})\n",
    "dfpred_lr.head(10)"
   ]
  },
  {
   "cell_type": "code",
   "execution_count": 24,
   "id": "recent-found",
   "metadata": {},
   "outputs": [
    {
     "name": "stdout",
     "output_type": "stream",
     "text": [
      "Score: 0.9986508593023031\n",
      "Mean Absolute Error: 2.3953065850604256\n",
      "Mean Squared  Error: 15.65238869305188\n",
      "Root Mean Squared Error: 3.9563099844491303\n",
      "Loss: 2.3953065850604256\n"
     ]
    }
   ],
   "source": [
    "#Different Metrics calculated using our model\n",
    "print(\"Score:\", model_lr.score(x_test,y_test))\n",
    "print('Mean Absolute Error:',metrics.mean_absolute_error(y_test,preds_lr))\n",
    "print('Mean Squared  Error:',metrics.mean_squared_error(y_test,preds_lr))\n",
    "print('Root Mean Squared Error:',(metrics.mean_squared_error(y_test,preds_lr))**0.5)\n",
    "print('Loss:', abs(y_test-preds_lr).mean())"
   ]
  }
 ],
 "metadata": {
  "kernelspec": {
   "display_name": "Python 3.7.7 64-bit ('datascience': conda)",
   "language": "python",
   "name": "python37764bitdatascienceconda67e0b92c992c46d7a01f8ce74cfb6bf2"
  },
  "language_info": {
   "codemirror_mode": {
    "name": "ipython",
    "version": 3
   },
   "file_extension": ".py",
   "mimetype": "text/x-python",
   "name": "python",
   "nbconvert_exporter": "python",
   "pygments_lexer": "ipython3",
   "version": "3.7.10"
  }
 },
 "nbformat": 4,
 "nbformat_minor": 5
}
