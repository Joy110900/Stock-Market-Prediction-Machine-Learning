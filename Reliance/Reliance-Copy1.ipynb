{
 "cells": [
  {
   "cell_type": "code",
   "execution_count": 1,
   "id": "moved-coupon",
   "metadata": {},
   "outputs": [],
   "source": [
    "#Importing Libraries\n",
    "import pandas as pd\n",
    "from sklearn.model_selection import train_test_split\n",
    "from sklearn.linear_model import LinearRegression\n",
    "from sklearn import metrics\n",
    "from sklearn.metrics import accuracy_score\n",
    "from sklearn.preprocessing import MinMaxScaler\n",
    "from sklearn.model_selection import GridSearchCV\n",
    "from sklearn.neighbors import KNeighborsRegressor\n",
    "from sklearn import neighbors\n",
    "from sklearn.tree import DecisionTreeRegressor \n",
    "from sklearn.ensemble import RandomForestRegressor \n",
    "from sklearn.model_selection import cross_val_score\n",
    "import numpy as np\n",
    "\n",
    "import matplotlib.pyplot as plt\n",
    "%matplotlib inline"
   ]
  },
  {
   "cell_type": "code",
   "execution_count": 2,
   "id": "joined-needle",
   "metadata": {},
   "outputs": [
    {
     "name": "stdout",
     "output_type": "stream",
     "text": [
      "Shape -> (6478, 5)\n"
     ]
    },
    {
     "data": {
      "text/html": [
       "<div>\n",
       "<style scoped>\n",
       "    .dataframe tbody tr th:only-of-type {\n",
       "        vertical-align: middle;\n",
       "    }\n",
       "\n",
       "    .dataframe tbody tr th {\n",
       "        vertical-align: top;\n",
       "    }\n",
       "\n",
       "    .dataframe thead th {\n",
       "        text-align: right;\n",
       "    }\n",
       "</style>\n",
       "<table border=\"1\" class=\"dataframe\">\n",
       "  <thead>\n",
       "    <tr style=\"text-align: right;\">\n",
       "      <th></th>\n",
       "      <th>Open</th>\n",
       "      <th>High</th>\n",
       "      <th>Low</th>\n",
       "      <th>Close</th>\n",
       "      <th>Volume</th>\n",
       "    </tr>\n",
       "  </thead>\n",
       "  <tbody>\n",
       "    <tr>\n",
       "      <th>0</th>\n",
       "      <td>24.817513</td>\n",
       "      <td>24.864784</td>\n",
       "      <td>24.439341</td>\n",
       "      <td>24.533884</td>\n",
       "      <td>2.988973e+09</td>\n",
       "    </tr>\n",
       "    <tr>\n",
       "      <th>1</th>\n",
       "      <td>24.533884</td>\n",
       "      <td>24.533884</td>\n",
       "      <td>24.533884</td>\n",
       "      <td>24.533884</td>\n",
       "      <td>0.000000e+00</td>\n",
       "    </tr>\n",
       "    <tr>\n",
       "      <th>2</th>\n",
       "      <td>24.722969</td>\n",
       "      <td>25.006599</td>\n",
       "      <td>24.675697</td>\n",
       "      <td>25.006599</td>\n",
       "      <td>3.814050e+09</td>\n",
       "    </tr>\n",
       "    <tr>\n",
       "      <th>3</th>\n",
       "      <td>25.053869</td>\n",
       "      <td>25.148413</td>\n",
       "      <td>24.912056</td>\n",
       "      <td>24.959328</td>\n",
       "      <td>3.284070e+09</td>\n",
       "    </tr>\n",
       "    <tr>\n",
       "      <th>4</th>\n",
       "      <td>25.006599</td>\n",
       "      <td>25.242956</td>\n",
       "      <td>24.912056</td>\n",
       "      <td>25.053869</td>\n",
       "      <td>2.625803e+09</td>\n",
       "    </tr>\n",
       "  </tbody>\n",
       "</table>\n",
       "</div>"
      ],
      "text/plain": [
       "        Open       High        Low      Close        Volume\n",
       "0  24.817513  24.864784  24.439341  24.533884  2.988973e+09\n",
       "1  24.533884  24.533884  24.533884  24.533884  0.000000e+00\n",
       "2  24.722969  25.006599  24.675697  25.006599  3.814050e+09\n",
       "3  25.053869  25.148413  24.912056  24.959328  3.284070e+09\n",
       "4  25.006599  25.242956  24.912056  25.053869  2.625803e+09"
      ]
     },
     "execution_count": 2,
     "metadata": {},
     "output_type": "execute_result"
    }
   ],
   "source": [
    "#Reading dataset in pandas\n",
    "df = pd.read_csv(\"Reliance.csv\")\n",
    "#Droping unwanted columns\n",
    "df.drop([\"Date\", \"Adj Close\"], axis=1, inplace=True)\n",
    "print(\"Shape ->\",df.shape)\n",
    "df.head()"
   ]
  },
  {
   "cell_type": "code",
   "execution_count": 3,
   "id": "referenced-geneva",
   "metadata": {},
   "outputs": [
    {
     "data": {
      "text/html": [
       "<div>\n",
       "<style scoped>\n",
       "    .dataframe tbody tr th:only-of-type {\n",
       "        vertical-align: middle;\n",
       "    }\n",
       "\n",
       "    .dataframe tbody tr th {\n",
       "        vertical-align: top;\n",
       "    }\n",
       "\n",
       "    .dataframe thead th {\n",
       "        text-align: right;\n",
       "    }\n",
       "</style>\n",
       "<table border=\"1\" class=\"dataframe\">\n",
       "  <thead>\n",
       "    <tr style=\"text-align: right;\">\n",
       "      <th></th>\n",
       "      <th>Open</th>\n",
       "      <th>High</th>\n",
       "      <th>Low</th>\n",
       "      <th>Volume</th>\n",
       "      <th>Close</th>\n",
       "      <th>Close_Tom</th>\n",
       "    </tr>\n",
       "  </thead>\n",
       "  <tbody>\n",
       "    <tr>\n",
       "      <th>0</th>\n",
       "      <td>24.817513</td>\n",
       "      <td>24.864784</td>\n",
       "      <td>24.439341</td>\n",
       "      <td>2.988973e+09</td>\n",
       "      <td>24.533884</td>\n",
       "      <td>24.533884</td>\n",
       "    </tr>\n",
       "    <tr>\n",
       "      <th>1</th>\n",
       "      <td>24.533884</td>\n",
       "      <td>24.533884</td>\n",
       "      <td>24.533884</td>\n",
       "      <td>0.000000e+00</td>\n",
       "      <td>24.533884</td>\n",
       "      <td>24.533884</td>\n",
       "    </tr>\n",
       "    <tr>\n",
       "      <th>2</th>\n",
       "      <td>24.722969</td>\n",
       "      <td>25.006599</td>\n",
       "      <td>24.675697</td>\n",
       "      <td>3.814050e+09</td>\n",
       "      <td>25.006599</td>\n",
       "      <td>25.006599</td>\n",
       "    </tr>\n",
       "    <tr>\n",
       "      <th>3</th>\n",
       "      <td>25.053869</td>\n",
       "      <td>25.148413</td>\n",
       "      <td>24.912056</td>\n",
       "      <td>3.284070e+09</td>\n",
       "      <td>24.959328</td>\n",
       "      <td>24.959328</td>\n",
       "    </tr>\n",
       "    <tr>\n",
       "      <th>4</th>\n",
       "      <td>25.006599</td>\n",
       "      <td>25.242956</td>\n",
       "      <td>24.912056</td>\n",
       "      <td>2.625803e+09</td>\n",
       "      <td>25.053869</td>\n",
       "      <td>25.053869</td>\n",
       "    </tr>\n",
       "  </tbody>\n",
       "</table>\n",
       "</div>"
      ],
      "text/plain": [
       "        Open       High        Low        Volume      Close  Close_Tom\n",
       "0  24.817513  24.864784  24.439341  2.988973e+09  24.533884  24.533884\n",
       "1  24.533884  24.533884  24.533884  0.000000e+00  24.533884  24.533884\n",
       "2  24.722969  25.006599  24.675697  3.814050e+09  25.006599  25.006599\n",
       "3  25.053869  25.148413  24.912056  3.284070e+09  24.959328  24.959328\n",
       "4  25.006599  25.242956  24.912056  2.625803e+09  25.053869  25.053869"
      ]
     },
     "execution_count": 3,
     "metadata": {},
     "output_type": "execute_result"
    }
   ],
   "source": [
    "#Reordering columns\n",
    "df = df[['Open', 'High', 'Low', 'Volume', 'Close']]\n",
    "df['Close_Tom'] =  df['Close']\n",
    "df.head()"
   ]
  },
  {
   "cell_type": "code",
   "execution_count": 4,
   "id": "initial-alcohol",
   "metadata": {},
   "outputs": [
    {
     "data": {
      "text/html": [
       "<div>\n",
       "<style scoped>\n",
       "    .dataframe tbody tr th:only-of-type {\n",
       "        vertical-align: middle;\n",
       "    }\n",
       "\n",
       "    .dataframe tbody tr th {\n",
       "        vertical-align: top;\n",
       "    }\n",
       "\n",
       "    .dataframe thead th {\n",
       "        text-align: right;\n",
       "    }\n",
       "</style>\n",
       "<table border=\"1\" class=\"dataframe\">\n",
       "  <thead>\n",
       "    <tr style=\"text-align: right;\">\n",
       "      <th></th>\n",
       "      <th>Open</th>\n",
       "      <th>High</th>\n",
       "      <th>Low</th>\n",
       "      <th>Volume</th>\n",
       "      <th>Close</th>\n",
       "      <th>Close_Tom</th>\n",
       "    </tr>\n",
       "  </thead>\n",
       "  <tbody>\n",
       "    <tr>\n",
       "      <th>0</th>\n",
       "      <td>24.817513</td>\n",
       "      <td>24.864784</td>\n",
       "      <td>24.439341</td>\n",
       "      <td>2.988973e+09</td>\n",
       "      <td>24.533884</td>\n",
       "      <td>24.533884</td>\n",
       "    </tr>\n",
       "    <tr>\n",
       "      <th>1</th>\n",
       "      <td>24.533884</td>\n",
       "      <td>24.533884</td>\n",
       "      <td>24.533884</td>\n",
       "      <td>0.000000e+00</td>\n",
       "      <td>24.533884</td>\n",
       "      <td>25.006599</td>\n",
       "    </tr>\n",
       "    <tr>\n",
       "      <th>2</th>\n",
       "      <td>24.722969</td>\n",
       "      <td>25.006599</td>\n",
       "      <td>24.675697</td>\n",
       "      <td>3.814050e+09</td>\n",
       "      <td>25.006599</td>\n",
       "      <td>24.959328</td>\n",
       "    </tr>\n",
       "    <tr>\n",
       "      <th>3</th>\n",
       "      <td>25.053869</td>\n",
       "      <td>25.148413</td>\n",
       "      <td>24.912056</td>\n",
       "      <td>3.284070e+09</td>\n",
       "      <td>24.959328</td>\n",
       "      <td>25.053869</td>\n",
       "    </tr>\n",
       "    <tr>\n",
       "      <th>4</th>\n",
       "      <td>25.006599</td>\n",
       "      <td>25.242956</td>\n",
       "      <td>24.912056</td>\n",
       "      <td>2.625803e+09</td>\n",
       "      <td>25.053869</td>\n",
       "      <td>25.337500</td>\n",
       "    </tr>\n",
       "  </tbody>\n",
       "</table>\n",
       "</div>"
      ],
      "text/plain": [
       "        Open       High        Low        Volume      Close  Close_Tom\n",
       "0  24.817513  24.864784  24.439341  2.988973e+09  24.533884  24.533884\n",
       "1  24.533884  24.533884  24.533884  0.000000e+00  24.533884  25.006599\n",
       "2  24.722969  25.006599  24.675697  3.814050e+09  25.006599  24.959328\n",
       "3  25.053869  25.148413  24.912056  3.284070e+09  24.959328  25.053869\n",
       "4  25.006599  25.242956  24.912056  2.625803e+09  25.053869  25.337500"
      ]
     },
     "execution_count": 4,
     "metadata": {},
     "output_type": "execute_result"
    }
   ],
   "source": [
    "#Shifting whole dataset down by one row so we can use yesterdays data to predict todays closing price\n",
    "df['Close_Tom'] =  df['Close_Tom'].shift(-1)\n",
    "df.head()"
   ]
  },
  {
   "cell_type": "code",
   "execution_count": 5,
   "id": "instrumental-commons",
   "metadata": {},
   "outputs": [
    {
     "data": {
      "text/html": [
       "<div>\n",
       "<style scoped>\n",
       "    .dataframe tbody tr th:only-of-type {\n",
       "        vertical-align: middle;\n",
       "    }\n",
       "\n",
       "    .dataframe tbody tr th {\n",
       "        vertical-align: top;\n",
       "    }\n",
       "\n",
       "    .dataframe thead th {\n",
       "        text-align: right;\n",
       "    }\n",
       "</style>\n",
       "<table border=\"1\" class=\"dataframe\">\n",
       "  <thead>\n",
       "    <tr style=\"text-align: right;\">\n",
       "      <th></th>\n",
       "      <th>Open</th>\n",
       "      <th>High</th>\n",
       "      <th>Low</th>\n",
       "      <th>Volume</th>\n",
       "      <th>Close</th>\n",
       "      <th>Close_Tom</th>\n",
       "    </tr>\n",
       "  </thead>\n",
       "  <tbody>\n",
       "    <tr>\n",
       "      <th>0</th>\n",
       "      <td>24.817513</td>\n",
       "      <td>24.864784</td>\n",
       "      <td>24.439341</td>\n",
       "      <td>2.988973e+09</td>\n",
       "      <td>24.533884</td>\n",
       "      <td>24.533884</td>\n",
       "    </tr>\n",
       "    <tr>\n",
       "      <th>1</th>\n",
       "      <td>24.533884</td>\n",
       "      <td>24.533884</td>\n",
       "      <td>24.533884</td>\n",
       "      <td>0.000000e+00</td>\n",
       "      <td>24.533884</td>\n",
       "      <td>25.006599</td>\n",
       "    </tr>\n",
       "    <tr>\n",
       "      <th>2</th>\n",
       "      <td>24.722969</td>\n",
       "      <td>25.006599</td>\n",
       "      <td>24.675697</td>\n",
       "      <td>3.814050e+09</td>\n",
       "      <td>25.006599</td>\n",
       "      <td>24.959328</td>\n",
       "    </tr>\n",
       "    <tr>\n",
       "      <th>3</th>\n",
       "      <td>25.053869</td>\n",
       "      <td>25.148413</td>\n",
       "      <td>24.912056</td>\n",
       "      <td>3.284070e+09</td>\n",
       "      <td>24.959328</td>\n",
       "      <td>25.053869</td>\n",
       "    </tr>\n",
       "    <tr>\n",
       "      <th>4</th>\n",
       "      <td>25.006599</td>\n",
       "      <td>25.242956</td>\n",
       "      <td>24.912056</td>\n",
       "      <td>2.625803e+09</td>\n",
       "      <td>25.053869</td>\n",
       "      <td>25.337500</td>\n",
       "    </tr>\n",
       "  </tbody>\n",
       "</table>\n",
       "</div>"
      ],
      "text/plain": [
       "        Open       High        Low        Volume      Close  Close_Tom\n",
       "0  24.817513  24.864784  24.439341  2.988973e+09  24.533884  24.533884\n",
       "1  24.533884  24.533884  24.533884  0.000000e+00  24.533884  25.006599\n",
       "2  24.722969  25.006599  24.675697  3.814050e+09  25.006599  24.959328\n",
       "3  25.053869  25.148413  24.912056  3.284070e+09  24.959328  25.053869\n",
       "4  25.006599  25.242956  24.912056  2.625803e+09  25.053869  25.337500"
      ]
     },
     "execution_count": 5,
     "metadata": {},
     "output_type": "execute_result"
    }
   ],
   "source": [
    "#Reordering columns\n",
    "df = df[['Open', 'High', 'Low', 'Volume', 'Close', 'Close_Tom']]\n",
    "df.head()"
   ]
  },
  {
   "cell_type": "code",
   "execution_count": 6,
   "id": "checked-rehabilitation",
   "metadata": {},
   "outputs": [
    {
     "data": {
      "text/plain": [
       "Open         0\n",
       "High         0\n",
       "Low          0\n",
       "Volume       0\n",
       "Close        0\n",
       "Close_Tom    0\n",
       "dtype: int64"
      ]
     },
     "execution_count": 6,
     "metadata": {},
     "output_type": "execute_result"
    }
   ],
   "source": [
    "#Filling null values using pad values, will fill next rows values to empty cells\n",
    "df.dropna(axis=0, how='any', inplace=True)\n",
    "df.isnull().sum()"
   ]
  },
  {
   "cell_type": "code",
   "execution_count": 7,
   "id": "spectacular-james",
   "metadata": {},
   "outputs": [
    {
     "data": {
      "text/plain": [
       "<AxesSubplot:>"
      ]
     },
     "execution_count": 7,
     "metadata": {},
     "output_type": "execute_result"
    },
    {
     "data": {
      "image/png": "[encoded data removed]",
      "text/plain": [
       "<Figure size 1440x648 with 1 Axes>"
      ]
     },
     "metadata": {
      "needs_background": "light"
     },
     "output_type": "display_data"
    }
   ],
   "source": [
    "#Dataset Plotted\n",
    "df['Close'].plot(figsize=(20,9))"
   ]
  },
  {
   "cell_type": "code",
   "execution_count": 8,
   "id": "south-tenant",
   "metadata": {},
   "outputs": [],
   "source": [
    "#columns for x and y\n",
    "x  = df[['Open','High','Low','Volume', 'Close']]\n",
    "y = df['Close_Tom']"
   ]
  },
  {
   "cell_type": "code",
   "execution_count": 9,
   "id": "floral-enlargement",
   "metadata": {},
   "outputs": [
    {
     "data": {
      "text/html": [
       "<div>\n",
       "<style scoped>\n",
       "    .dataframe tbody tr th:only-of-type {\n",
       "        vertical-align: middle;\n",
       "    }\n",
       "\n",
       "    .dataframe tbody tr th {\n",
       "        vertical-align: top;\n",
       "    }\n",
       "\n",
       "    .dataframe thead th {\n",
       "        text-align: right;\n",
       "    }\n",
       "</style>\n",
       "<table border=\"1\" class=\"dataframe\">\n",
       "  <thead>\n",
       "    <tr style=\"text-align: right;\">\n",
       "      <th></th>\n",
       "      <th>Open</th>\n",
       "      <th>High</th>\n",
       "      <th>Low</th>\n",
       "      <th>Volume</th>\n",
       "      <th>Close</th>\n",
       "      <th>Close_Tom</th>\n",
       "    </tr>\n",
       "  </thead>\n",
       "  <tbody>\n",
       "    <tr>\n",
       "      <th>0</th>\n",
       "      <td>0.004503</td>\n",
       "      <td>0.004337</td>\n",
       "      <td>0.004465</td>\n",
       "      <td>0.047188</td>\n",
       "      <td>0.004278</td>\n",
       "      <td>24.533884</td>\n",
       "    </tr>\n",
       "    <tr>\n",
       "      <th>1</th>\n",
       "      <td>0.004381</td>\n",
       "      <td>0.004197</td>\n",
       "      <td>0.004506</td>\n",
       "      <td>0.000000</td>\n",
       "      <td>0.004278</td>\n",
       "      <td>25.006599</td>\n",
       "    </tr>\n",
       "    <tr>\n",
       "      <th>2</th>\n",
       "      <td>0.004463</td>\n",
       "      <td>0.004398</td>\n",
       "      <td>0.004568</td>\n",
       "      <td>0.060214</td>\n",
       "      <td>0.004483</td>\n",
       "      <td>24.959328</td>\n",
       "    </tr>\n",
       "    <tr>\n",
       "      <th>3</th>\n",
       "      <td>0.004606</td>\n",
       "      <td>0.004458</td>\n",
       "      <td>0.004670</td>\n",
       "      <td>0.051847</td>\n",
       "      <td>0.004463</td>\n",
       "      <td>25.053869</td>\n",
       "    </tr>\n",
       "    <tr>\n",
       "      <th>4</th>\n",
       "      <td>0.004585</td>\n",
       "      <td>0.004498</td>\n",
       "      <td>0.004670</td>\n",
       "      <td>0.041454</td>\n",
       "      <td>0.004504</td>\n",
       "      <td>25.337500</td>\n",
       "    </tr>\n",
       "  </tbody>\n",
       "</table>\n",
       "</div>"
      ],
      "text/plain": [
       "       Open      High       Low    Volume     Close  Close_Tom\n",
       "0  0.004503  0.004337  0.004465  0.047188  0.004278  24.533884\n",
       "1  0.004381  0.004197  0.004506  0.000000  0.004278  25.006599\n",
       "2  0.004463  0.004398  0.004568  0.060214  0.004483  24.959328\n",
       "3  0.004606  0.004458  0.004670  0.051847  0.004463  25.053869\n",
       "4  0.004585  0.004498  0.004670  0.041454  0.004504  25.337500"
      ]
     },
     "execution_count": 9,
     "metadata": {},
     "output_type": "execute_result"
    }
   ],
   "source": [
    "#Normalising data\n",
    "scaler = MinMaxScaler()\n",
    "df[['Open','High','Low','Volume', 'Close']] = scaler.fit_transform(df[['Open', 'High', 'Low', 'Volume', 'Close']])\n",
    "df.head()"
   ]
  },
  {
   "cell_type": "code",
   "execution_count": 10,
   "id": "classical-niger",
   "metadata": {},
   "outputs": [
    {
     "name": "stdout",
     "output_type": "stream",
     "text": [
      "(4839, 5)\n",
      "(1614, 5)\n",
      "(4839,)\n",
      "(1614,)\n"
     ]
    }
   ],
   "source": [
    "#Splitting data\n",
    "x_train , x_test , y_train , y_test = train_test_split(x ,y)\n",
    "print(x_train.shape)\n",
    "print(x_test.shape)\n",
    "print(y_train.shape)\n",
    "print(y_test.shape)"
   ]
  },
  {
   "cell_type": "markdown",
   "id": "encouraging-pacific",
   "metadata": {},
   "source": [
    "---\n",
    "# Random Forest"
   ]
  },
  {
   "cell_type": "code",
   "execution_count": 11,
   "id": "configured-jackson",
   "metadata": {},
   "outputs": [
    {
     "data": {
      "text/plain": [
       "RandomForestRegressor(random_state=0)"
      ]
     },
     "execution_count": 11,
     "metadata": {},
     "output_type": "execute_result"
    }
   ],
   "source": [
    "model_rf = RandomForestRegressor(n_estimators = 100, random_state = 0) \n",
    "model_rf.fit(x_train, y_train)   "
   ]
  },
  {
   "cell_type": "code",
   "execution_count": 12,
   "id": "royal-sigma",
   "metadata": {},
   "outputs": [
    {
     "data": {
      "text/html": [
       "<div>\n",
       "<style scoped>\n",
       "    .dataframe tbody tr th:only-of-type {\n",
       "        vertical-align: middle;\n",
       "    }\n",
       "\n",
       "    .dataframe tbody tr th {\n",
       "        vertical-align: top;\n",
       "    }\n",
       "\n",
       "    .dataframe thead th {\n",
       "        text-align: right;\n",
       "    }\n",
       "</style>\n",
       "<table border=\"1\" class=\"dataframe\">\n",
       "  <thead>\n",
       "    <tr style=\"text-align: right;\">\n",
       "      <th></th>\n",
       "      <th>Actual</th>\n",
       "      <th>Predicted</th>\n",
       "      <th>Difference</th>\n",
       "    </tr>\n",
       "  </thead>\n",
       "  <tbody>\n",
       "    <tr>\n",
       "      <th>405</th>\n",
       "      <td>26.519285</td>\n",
       "      <td>25.831013</td>\n",
       "      <td>0.688272</td>\n",
       "    </tr>\n",
       "    <tr>\n",
       "      <th>625</th>\n",
       "      <td>30.017372</td>\n",
       "      <td>30.426459</td>\n",
       "      <td>0.409087</td>\n",
       "    </tr>\n",
       "    <tr>\n",
       "      <th>2601</th>\n",
       "      <td>98.116631</td>\n",
       "      <td>96.608783</td>\n",
       "      <td>1.507848</td>\n",
       "    </tr>\n",
       "    <tr>\n",
       "      <th>2693</th>\n",
       "      <td>126.903053</td>\n",
       "      <td>127.525299</td>\n",
       "      <td>0.622246</td>\n",
       "    </tr>\n",
       "    <tr>\n",
       "      <th>2887</th>\n",
       "      <td>282.312500</td>\n",
       "      <td>281.942877</td>\n",
       "      <td>0.369623</td>\n",
       "    </tr>\n",
       "    <tr>\n",
       "      <th>3655</th>\n",
       "      <td>544.549988</td>\n",
       "      <td>541.124877</td>\n",
       "      <td>3.425111</td>\n",
       "    </tr>\n",
       "    <tr>\n",
       "      <th>2578</th>\n",
       "      <td>81.429810</td>\n",
       "      <td>83.133866</td>\n",
       "      <td>1.704056</td>\n",
       "    </tr>\n",
       "    <tr>\n",
       "      <th>2809</th>\n",
       "      <td>277.125000</td>\n",
       "      <td>296.000753</td>\n",
       "      <td>18.875753</td>\n",
       "    </tr>\n",
       "    <tr>\n",
       "      <th>578</th>\n",
       "      <td>33.751820</td>\n",
       "      <td>32.899892</td>\n",
       "      <td>0.851928</td>\n",
       "    </tr>\n",
       "    <tr>\n",
       "      <th>3313</th>\n",
       "      <td>666.974976</td>\n",
       "      <td>650.015130</td>\n",
       "      <td>16.959846</td>\n",
       "    </tr>\n",
       "  </tbody>\n",
       "</table>\n",
       "</div>"
      ],
      "text/plain": [
       "          Actual   Predicted  Difference\n",
       "405    26.519285   25.831013    0.688272\n",
       "625    30.017372   30.426459    0.409087\n",
       "2601   98.116631   96.608783    1.507848\n",
       "2693  126.903053  127.525299    0.622246\n",
       "2887  282.312500  281.942877    0.369623\n",
       "3655  544.549988  541.124877    3.425111\n",
       "2578   81.429810   83.133866    1.704056\n",
       "2809  277.125000  296.000753   18.875753\n",
       "578    33.751820   32.899892    0.851928\n",
       "3313  666.974976  650.015130   16.959846"
      ]
     },
     "execution_count": 12,
     "metadata": {},
     "output_type": "execute_result"
    }
   ],
   "source": [
    "#predicting stock price using our model\n",
    "preds_rf = model_rf.predict(x_test)\n",
    "\n",
    "dfpred_rf = pd.DataFrame({'Actual':y_test,'Predicted':preds_rf, 'Difference':abs(y_test-preds_rf)})\n",
    "dfpred_rf.head(10)"
   ]
  },
  {
   "cell_type": "code",
   "execution_count": 13,
   "id": "eligible-prospect",
   "metadata": {},
   "outputs": [
    {
     "name": "stdout",
     "output_type": "stream",
     "text": [
      "Score: 0.9989763468287729\n",
      "Mean Absolute Error: 6.8621567607502785\n",
      "Mean Squared  Error: 203.25831500798327\n",
      "Root Mean Squared Error: 14.256869046462596\n",
      "Loss: 6.8621567607502785\n"
     ]
    }
   ],
   "source": [
    "#Different Metrics calculated using our model\n",
    "print(\"Score:\", model_rf.score(x_test, y_test))\n",
    "print('Mean Absolute Error:',metrics.mean_absolute_error(y_test,preds_rf))\n",
    "print('Mean Squared  Error:',metrics.mean_squared_error(y_test,preds_rf))\n",
    "print('Root Mean Squared Error:',(metrics.mean_squared_error(y_test,preds_rf))**0.5)\n",
    "print('Loss:', abs(y_test-preds_rf).mean())"
   ]
  },
  {
   "cell_type": "markdown",
   "id": "waiting-passion",
   "metadata": {},
   "source": [
    "---\n",
    "# k-NN"
   ]
  },
  {
   "cell_type": "code",
   "execution_count": 14,
   "id": "assured-vaccine",
   "metadata": {},
   "outputs": [
    {
     "data": {
      "text/plain": [
       "GridSearchCV(cv=7, estimator=KNeighborsRegressor(),\n",
       "             param_grid={'n_neighbors': [1, 2, 3, 4, 5, 6, 7, 8, 9, 10, 11, 12,\n",
       "                                         13, 14]})"
      ]
     },
     "execution_count": 14,
     "metadata": {},
     "output_type": "execute_result"
    }
   ],
   "source": [
    "#using gridsearch to find the best parameter\n",
    "params = {'n_neighbors':[1,2,3,4,5,6,7,8,9,10,11,12,13,14]}\n",
    "knn = neighbors.KNeighborsRegressor()\n",
    "model_knn = GridSearchCV(knn, params, cv=7)\n",
    "model_knn.fit(x_train,y_train)"
   ]
  },
  {
   "cell_type": "code",
   "execution_count": 15,
   "id": "cathedral-trance",
   "metadata": {},
   "outputs": [
    {
     "data": {
      "text/html": [
       "<div>\n",
       "<style scoped>\n",
       "    .dataframe tbody tr th:only-of-type {\n",
       "        vertical-align: middle;\n",
       "    }\n",
       "\n",
       "    .dataframe tbody tr th {\n",
       "        vertical-align: top;\n",
       "    }\n",
       "\n",
       "    .dataframe thead th {\n",
       "        text-align: right;\n",
       "    }\n",
       "</style>\n",
       "<table border=\"1\" class=\"dataframe\">\n",
       "  <thead>\n",
       "    <tr style=\"text-align: right;\">\n",
       "      <th></th>\n",
       "      <th>Actual</th>\n",
       "      <th>Predicted</th>\n",
       "      <th>Difference</th>\n",
       "    </tr>\n",
       "  </thead>\n",
       "  <tbody>\n",
       "    <tr>\n",
       "      <th>405</th>\n",
       "      <td>26.519285</td>\n",
       "      <td>26.141113</td>\n",
       "      <td>0.378172</td>\n",
       "    </tr>\n",
       "    <tr>\n",
       "      <th>625</th>\n",
       "      <td>30.017372</td>\n",
       "      <td>32.617302</td>\n",
       "      <td>2.599930</td>\n",
       "    </tr>\n",
       "    <tr>\n",
       "      <th>2601</th>\n",
       "      <td>98.116631</td>\n",
       "      <td>40.791481</td>\n",
       "      <td>57.325150</td>\n",
       "    </tr>\n",
       "    <tr>\n",
       "      <th>2693</th>\n",
       "      <td>126.903053</td>\n",
       "      <td>59.013683</td>\n",
       "      <td>67.889370</td>\n",
       "    </tr>\n",
       "    <tr>\n",
       "      <th>2887</th>\n",
       "      <td>282.312500</td>\n",
       "      <td>1088.550049</td>\n",
       "      <td>806.237549</td>\n",
       "    </tr>\n",
       "    <tr>\n",
       "      <th>3655</th>\n",
       "      <td>544.549988</td>\n",
       "      <td>466.174988</td>\n",
       "      <td>78.375000</td>\n",
       "    </tr>\n",
       "    <tr>\n",
       "      <th>2578</th>\n",
       "      <td>81.429810</td>\n",
       "      <td>81.552711</td>\n",
       "      <td>0.122901</td>\n",
       "    </tr>\n",
       "    <tr>\n",
       "      <th>2809</th>\n",
       "      <td>277.125000</td>\n",
       "      <td>482.850006</td>\n",
       "      <td>205.725006</td>\n",
       "    </tr>\n",
       "    <tr>\n",
       "      <th>578</th>\n",
       "      <td>33.751820</td>\n",
       "      <td>28.788315</td>\n",
       "      <td>4.963505</td>\n",
       "    </tr>\n",
       "    <tr>\n",
       "      <th>3313</th>\n",
       "      <td>666.974976</td>\n",
       "      <td>516.875000</td>\n",
       "      <td>150.099976</td>\n",
       "    </tr>\n",
       "  </tbody>\n",
       "</table>\n",
       "</div>"
      ],
      "text/plain": [
       "          Actual    Predicted  Difference\n",
       "405    26.519285    26.141113    0.378172\n",
       "625    30.017372    32.617302    2.599930\n",
       "2601   98.116631    40.791481   57.325150\n",
       "2693  126.903053    59.013683   67.889370\n",
       "2887  282.312500  1088.550049  806.237549\n",
       "3655  544.549988   466.174988   78.375000\n",
       "2578   81.429810    81.552711    0.122901\n",
       "2809  277.125000   482.850006  205.725006\n",
       "578    33.751820    28.788315    4.963505\n",
       "3313  666.974976   516.875000  150.099976"
      ]
     },
     "execution_count": 15,
     "metadata": {},
     "output_type": "execute_result"
    }
   ],
   "source": [
    "#predicting stock price using our model\n",
    "preds_knn = model_knn.predict(x_test)\n",
    "\n",
    "dfpred_knn = pd.DataFrame({'Actual':y_test,'Predicted':preds_knn, 'Difference':abs(y_test-preds_knn)})\n",
    "dfpred_knn.head(10)"
   ]
  },
  {
   "cell_type": "code",
   "execution_count": 16,
   "id": "packed-arkansas",
   "metadata": {},
   "outputs": [
    {
     "data": {
      "text/plain": [
       "{'cv': 7,\n",
       " 'error_score': nan,\n",
       " 'estimator__algorithm': 'auto',\n",
       " 'estimator__leaf_size': 30,\n",
       " 'estimator__metric': 'minkowski',\n",
       " 'estimator__metric_params': None,\n",
       " 'estimator__n_jobs': None,\n",
       " 'estimator__n_neighbors': 5,\n",
       " 'estimator__p': 2,\n",
       " 'estimator__weights': 'uniform',\n",
       " 'estimator': KNeighborsRegressor(),\n",
       " 'n_jobs': None,\n",
       " 'param_grid': {'n_neighbors': [1,\n",
       "   2,\n",
       "   3,\n",
       "   4,\n",
       "   5,\n",
       "   6,\n",
       "   7,\n",
       "   8,\n",
       "   9,\n",
       "   10,\n",
       "   11,\n",
       "   12,\n",
       "   13,\n",
       "   14]},\n",
       " 'pre_dispatch': '2*n_jobs',\n",
       " 'refit': True,\n",
       " 'return_train_score': False,\n",
       " 'scoring': None,\n",
       " 'verbose': 0}"
      ]
     },
     "execution_count": 16,
     "metadata": {},
     "output_type": "execute_result"
    }
   ],
   "source": [
    "model_knn.get_params()"
   ]
  },
  {
   "cell_type": "code",
   "execution_count": 17,
   "id": "macro-tonight",
   "metadata": {},
   "outputs": [
    {
     "name": "stdout",
     "output_type": "stream",
     "text": [
      "Score: 0.618809663457402\n",
      "Mean Absolute Error: 148.68424401053284\n",
      "Mean Squared  Error: 75689.80166406605\n",
      "Root Mean Squared Error: 275.11779597849727\n",
      "Loss: 148.68424401053284\n"
     ]
    }
   ],
   "source": [
    "#Different Metrics calculated using our model\n",
    "print(\"Score:\", model_knn.score(x_test, y_test))\n",
    "print('Mean Absolute Error:',metrics.mean_absolute_error(y_test,preds_knn))\n",
    "print('Mean Squared  Error:',metrics.mean_squared_error(y_test,preds_knn))\n",
    "print('Root Mean Squared Error:',(metrics.mean_squared_error(y_test,preds_knn))**0.5)\n",
    "print('Loss:', abs(y_test-preds_knn).mean())"
   ]
  },
  {
   "cell_type": "markdown",
   "id": "joined-spanish",
   "metadata": {},
   "source": [
    "---\n",
    "# Decision Tree"
   ]
  },
  {
   "cell_type": "code",
   "execution_count": 18,
   "id": "north-hamilton",
   "metadata": {},
   "outputs": [
    {
     "data": {
      "text/plain": [
       "DecisionTreeRegressor()"
      ]
     },
     "execution_count": 18,
     "metadata": {},
     "output_type": "execute_result"
    }
   ],
   "source": [
    "model_dt = DecisionTreeRegressor()\n",
    "model_dt.fit(x_train,y_train)"
   ]
  },
  {
   "cell_type": "code",
   "execution_count": 19,
   "id": "precious-treatment",
   "metadata": {},
   "outputs": [
    {
     "data": {
      "text/html": [
       "<div>\n",
       "<style scoped>\n",
       "    .dataframe tbody tr th:only-of-type {\n",
       "        vertical-align: middle;\n",
       "    }\n",
       "\n",
       "    .dataframe tbody tr th {\n",
       "        vertical-align: top;\n",
       "    }\n",
       "\n",
       "    .dataframe thead th {\n",
       "        text-align: right;\n",
       "    }\n",
       "</style>\n",
       "<table border=\"1\" class=\"dataframe\">\n",
       "  <thead>\n",
       "    <tr style=\"text-align: right;\">\n",
       "      <th></th>\n",
       "      <th>Actual</th>\n",
       "      <th>Predicted</th>\n",
       "      <th>Difference</th>\n",
       "    </tr>\n",
       "  </thead>\n",
       "  <tbody>\n",
       "    <tr>\n",
       "      <th>405</th>\n",
       "      <td>26.519285</td>\n",
       "      <td>25.413134</td>\n",
       "      <td>1.106151</td>\n",
       "    </tr>\n",
       "    <tr>\n",
       "      <th>625</th>\n",
       "      <td>30.017372</td>\n",
       "      <td>30.017372</td>\n",
       "      <td>0.000000</td>\n",
       "    </tr>\n",
       "    <tr>\n",
       "      <th>2601</th>\n",
       "      <td>98.116631</td>\n",
       "      <td>94.367058</td>\n",
       "      <td>3.749573</td>\n",
       "    </tr>\n",
       "    <tr>\n",
       "      <th>2693</th>\n",
       "      <td>126.903053</td>\n",
       "      <td>125.934937</td>\n",
       "      <td>0.968116</td>\n",
       "    </tr>\n",
       "    <tr>\n",
       "      <th>2887</th>\n",
       "      <td>282.312500</td>\n",
       "      <td>282.750000</td>\n",
       "      <td>0.437500</td>\n",
       "    </tr>\n",
       "    <tr>\n",
       "      <th>3655</th>\n",
       "      <td>544.549988</td>\n",
       "      <td>550.650024</td>\n",
       "      <td>6.100036</td>\n",
       "    </tr>\n",
       "    <tr>\n",
       "      <th>2578</th>\n",
       "      <td>81.429810</td>\n",
       "      <td>83.473824</td>\n",
       "      <td>2.044014</td>\n",
       "    </tr>\n",
       "    <tr>\n",
       "      <th>2809</th>\n",
       "      <td>277.125000</td>\n",
       "      <td>297.537506</td>\n",
       "      <td>20.412506</td>\n",
       "    </tr>\n",
       "    <tr>\n",
       "      <th>578</th>\n",
       "      <td>33.751820</td>\n",
       "      <td>32.711845</td>\n",
       "      <td>1.039975</td>\n",
       "    </tr>\n",
       "    <tr>\n",
       "      <th>3313</th>\n",
       "      <td>666.974976</td>\n",
       "      <td>652.200012</td>\n",
       "      <td>14.774964</td>\n",
       "    </tr>\n",
       "  </tbody>\n",
       "</table>\n",
       "</div>"
      ],
      "text/plain": [
       "          Actual   Predicted  Difference\n",
       "405    26.519285   25.413134    1.106151\n",
       "625    30.017372   30.017372    0.000000\n",
       "2601   98.116631   94.367058    3.749573\n",
       "2693  126.903053  125.934937    0.968116\n",
       "2887  282.312500  282.750000    0.437500\n",
       "3655  544.549988  550.650024    6.100036\n",
       "2578   81.429810   83.473824    2.044014\n",
       "2809  277.125000  297.537506   20.412506\n",
       "578    33.751820   32.711845    1.039975\n",
       "3313  666.974976  652.200012   14.774964"
      ]
     },
     "execution_count": 19,
     "metadata": {},
     "output_type": "execute_result"
    }
   ],
   "source": [
    "#predicting stock price using our model\n",
    "preds_dt = model_dt.predict(x_test)\n",
    "\n",
    "dfpred_dt = pd.DataFrame({'Actual':y_test,'Predicted':preds_dt, 'Difference':abs(y_test-preds_dt)})\n",
    "dfpred_dt.head(10)"
   ]
  },
  {
   "cell_type": "code",
   "execution_count": 20,
   "id": "constitutional-weight",
   "metadata": {},
   "outputs": [
    {
     "name": "stdout",
     "output_type": "stream",
     "text": [
      "Score: 0.9984445902273227\n",
      "Mean Absolute Error: 8.9192386744114\n",
      "Mean Squared  Error: 308.84481035929014\n",
      "Root Mean Squared Error: 17.573981061765434\n",
      "Loss: 8.9192386744114\n"
     ]
    }
   ],
   "source": [
    "#Different Metrics calculated using our model\n",
    "print(\"Score:\", model_dt.score(x_test,y_test))\n",
    "print('Mean Absolute Error:',metrics.mean_absolute_error(y_test,preds_dt))\n",
    "print('Mean Squared  Error:',metrics.mean_squared_error(y_test,preds_dt))\n",
    "print('Root Mean Squared Error:',(metrics.mean_squared_error(y_test,preds_dt))**0.5)\n",
    "print('Loss:', abs(y_test-preds_dt).mean())"
   ]
  },
  {
   "cell_type": "markdown",
   "id": "integrated-jaguar",
   "metadata": {},
   "source": [
    "---\n",
    "# Linear Regression"
   ]
  },
  {
   "cell_type": "code",
   "execution_count": 21,
   "id": "durable-february",
   "metadata": {
    "tags": []
   },
   "outputs": [
    {
     "data": {
      "text/plain": [
       "LinearRegression()"
      ]
     },
     "execution_count": 21,
     "metadata": {},
     "output_type": "execute_result"
    }
   ],
   "source": [
    "#linear Regression\n",
    "model_lr = LinearRegression()\n",
    "model_lr.fit(x_train,y_train)"
   ]
  },
  {
   "cell_type": "code",
   "execution_count": 22,
   "id": "perfect-probability",
   "metadata": {},
   "outputs": [
    {
     "name": "stdout",
     "output_type": "stream",
     "text": [
      "[-1.41728517e-01  5.57987298e-02  7.10482324e-02 -3.34343844e-12\n",
      "  1.01580007e+00]\n",
      "0.042201604683441474\n"
     ]
    }
   ],
   "source": [
    "#Coefficients and Intercept of LR\n",
    "print(model_lr.coef_)\n",
    "print(model_lr.intercept_)"
   ]
  },
  {
   "cell_type": "code",
   "execution_count": 23,
   "id": "incomplete-dodge",
   "metadata": {},
   "outputs": [
    {
     "data": {
      "text/html": [
       "<div>\n",
       "<style scoped>\n",
       "    .dataframe tbody tr th:only-of-type {\n",
       "        vertical-align: middle;\n",
       "    }\n",
       "\n",
       "    .dataframe tbody tr th {\n",
       "        vertical-align: top;\n",
       "    }\n",
       "\n",
       "    .dataframe thead th {\n",
       "        text-align: right;\n",
       "    }\n",
       "</style>\n",
       "<table border=\"1\" class=\"dataframe\">\n",
       "  <thead>\n",
       "    <tr style=\"text-align: right;\">\n",
       "      <th></th>\n",
       "      <th>Actual</th>\n",
       "      <th>Predicted</th>\n",
       "      <th>Difference</th>\n",
       "    </tr>\n",
       "  </thead>\n",
       "  <tbody>\n",
       "    <tr>\n",
       "      <th>405</th>\n",
       "      <td>26.519285</td>\n",
       "      <td>25.795465</td>\n",
       "      <td>0.723820</td>\n",
       "    </tr>\n",
       "    <tr>\n",
       "      <th>625</th>\n",
       "      <td>30.017372</td>\n",
       "      <td>30.519626</td>\n",
       "      <td>0.502254</td>\n",
       "    </tr>\n",
       "    <tr>\n",
       "      <th>2601</th>\n",
       "      <td>98.116631</td>\n",
       "      <td>99.167377</td>\n",
       "      <td>1.050746</td>\n",
       "    </tr>\n",
       "    <tr>\n",
       "      <th>2693</th>\n",
       "      <td>126.903053</td>\n",
       "      <td>127.706135</td>\n",
       "      <td>0.803082</td>\n",
       "    </tr>\n",
       "    <tr>\n",
       "      <th>2887</th>\n",
       "      <td>282.312500</td>\n",
       "      <td>279.535591</td>\n",
       "      <td>2.776909</td>\n",
       "    </tr>\n",
       "    <tr>\n",
       "      <th>3655</th>\n",
       "      <td>544.549988</td>\n",
       "      <td>542.314852</td>\n",
       "      <td>2.235136</td>\n",
       "    </tr>\n",
       "    <tr>\n",
       "      <th>2578</th>\n",
       "      <td>81.429810</td>\n",
       "      <td>83.250655</td>\n",
       "      <td>1.820845</td>\n",
       "    </tr>\n",
       "    <tr>\n",
       "      <th>2809</th>\n",
       "      <td>277.125000</td>\n",
       "      <td>293.193264</td>\n",
       "      <td>16.068264</td>\n",
       "    </tr>\n",
       "    <tr>\n",
       "      <th>578</th>\n",
       "      <td>33.751820</td>\n",
       "      <td>33.115210</td>\n",
       "      <td>0.636610</td>\n",
       "    </tr>\n",
       "    <tr>\n",
       "      <th>3313</th>\n",
       "      <td>666.974976</td>\n",
       "      <td>649.951192</td>\n",
       "      <td>17.023784</td>\n",
       "    </tr>\n",
       "  </tbody>\n",
       "</table>\n",
       "</div>"
      ],
      "text/plain": [
       "          Actual   Predicted  Difference\n",
       "405    26.519285   25.795465    0.723820\n",
       "625    30.017372   30.519626    0.502254\n",
       "2601   98.116631   99.167377    1.050746\n",
       "2693  126.903053  127.706135    0.803082\n",
       "2887  282.312500  279.535591    2.776909\n",
       "3655  544.549988  542.314852    2.235136\n",
       "2578   81.429810   83.250655    1.820845\n",
       "2809  277.125000  293.193264   16.068264\n",
       "578    33.751820   33.115210    0.636610\n",
       "3313  666.974976  649.951192   17.023784"
      ]
     },
     "execution_count": 23,
     "metadata": {},
     "output_type": "execute_result"
    }
   ],
   "source": [
    "#predicting stock price using our model\n",
    "preds_lr = model_lr.predict(x_test)\n",
    "\n",
    "dfpred_lr = pd.DataFrame({'Actual':y_test,'Predicted':preds_lr, 'Difference':abs(y_test-preds_lr)})\n",
    "dfpred_lr.head(10)"
   ]
  },
  {
   "cell_type": "code",
   "execution_count": 24,
   "id": "neither-browse",
   "metadata": {},
   "outputs": [
    {
     "name": "stdout",
     "output_type": "stream",
     "text": [
      "Score: 0.9991210777989199\n",
      "Mean Absolute Error: 6.036078544237866\n",
      "Mean Squared  Error: 174.52028737476468\n",
      "Root Mean Squared Error: 13.210612679764882\n",
      "Loss: 6.036078544237866\n"
     ]
    }
   ],
   "source": [
    "#Different Metrics calculated using our model\n",
    "print(\"Score:\", model_lr.score(x_test,y_test))\n",
    "print('Mean Absolute Error:',metrics.mean_absolute_error(y_test,preds_lr))\n",
    "print('Mean Squared  Error:',metrics.mean_squared_error(y_test,preds_lr))\n",
    "print('Root Mean Squared Error:',(metrics.mean_squared_error(y_test,preds_lr))**0.5)\n",
    "print('Loss:', abs(y_test-preds_lr).mean())"
   ]
  }
 ],
 "metadata": {
  "kernelspec": {
   "display_name": "Python 3.7.7 64-bit ('datascience': conda)",
   "language": "python",
   "name": "python37764bitdatascienceconda67e0b92c992c46d7a01f8ce74cfb6bf2"
  },
  "language_info": {
   "codemirror_mode": {
    "name": "ipython",
    "version": 3
   },
   "file_extension": ".py",
   "mimetype": "text/x-python",
   "name": "python",
   "nbconvert_exporter": "python",
   "pygments_lexer": "ipython3",
   "version": "3.7.10"
  }
 },
 "nbformat": 4,
 "nbformat_minor": 5
}
