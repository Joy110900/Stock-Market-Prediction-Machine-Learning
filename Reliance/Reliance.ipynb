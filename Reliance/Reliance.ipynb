{
 "cells": [
  {
   "cell_type": "code",
   "execution_count": 1,
   "id": "convertible-brooklyn",
   "metadata": {},
   "outputs": [],
   "source": [
    "#Importing Libraries\n",
    "import pandas as pd\n",
    "from sklearn.model_selection import train_test_split\n",
    "from sklearn.linear_model import LinearRegression\n",
    "from sklearn import metrics\n",
    "from sklearn.metrics import accuracy_score\n",
    "from sklearn.preprocessing import MinMaxScaler\n",
    "from sklearn.model_selection import GridSearchCV\n",
    "from sklearn.neighbors import KNeighborsRegressor\n",
    "from sklearn import neighbors\n",
    "from sklearn.tree import DecisionTreeRegressor \n",
    "from sklearn.ensemble import RandomForestRegressor \n",
    "import numpy as np\n",
    "\n",
    "import matplotlib.pyplot as plt\n",
    "%matplotlib inline"
   ]
  },
  {
   "cell_type": "code",
   "execution_count": 2,
   "id": "unknown-armstrong",
   "metadata": {},
   "outputs": [
    {
     "name": "stdout",
     "output_type": "stream",
     "text": [
      "Shape -> (6478, 5)\n"
     ]
    },
    {
     "data": {
      "text/html": [
       "<div>\n",
       "<style scoped>\n",
       "    .dataframe tbody tr th:only-of-type {\n",
       "        vertical-align: middle;\n",
       "    }\n",
       "\n",
       "    .dataframe tbody tr th {\n",
       "        vertical-align: top;\n",
       "    }\n",
       "\n",
       "    .dataframe thead th {\n",
       "        text-align: right;\n",
       "    }\n",
       "</style>\n",
       "<table border=\"1\" class=\"dataframe\">\n",
       "  <thead>\n",
       "    <tr style=\"text-align: right;\">\n",
       "      <th></th>\n",
       "      <th>Open</th>\n",
       "      <th>High</th>\n",
       "      <th>Low</th>\n",
       "      <th>Close</th>\n",
       "      <th>Volume</th>\n",
       "    </tr>\n",
       "  </thead>\n",
       "  <tbody>\n",
       "    <tr>\n",
       "      <th>0</th>\n",
       "      <td>24.817513</td>\n",
       "      <td>24.864784</td>\n",
       "      <td>24.439341</td>\n",
       "      <td>24.533884</td>\n",
       "      <td>2.988973e+09</td>\n",
       "    </tr>\n",
       "    <tr>\n",
       "      <th>1</th>\n",
       "      <td>24.533884</td>\n",
       "      <td>24.533884</td>\n",
       "      <td>24.533884</td>\n",
       "      <td>24.533884</td>\n",
       "      <td>0.000000e+00</td>\n",
       "    </tr>\n",
       "    <tr>\n",
       "      <th>2</th>\n",
       "      <td>24.722969</td>\n",
       "      <td>25.006599</td>\n",
       "      <td>24.675697</td>\n",
       "      <td>25.006599</td>\n",
       "      <td>3.814050e+09</td>\n",
       "    </tr>\n",
       "    <tr>\n",
       "      <th>3</th>\n",
       "      <td>25.053869</td>\n",
       "      <td>25.148413</td>\n",
       "      <td>24.912056</td>\n",
       "      <td>24.959328</td>\n",
       "      <td>3.284070e+09</td>\n",
       "    </tr>\n",
       "    <tr>\n",
       "      <th>4</th>\n",
       "      <td>25.006599</td>\n",
       "      <td>25.242956</td>\n",
       "      <td>24.912056</td>\n",
       "      <td>25.053869</td>\n",
       "      <td>2.625803e+09</td>\n",
       "    </tr>\n",
       "  </tbody>\n",
       "</table>\n",
       "</div>"
      ],
      "text/plain": [
       "        Open       High        Low      Close        Volume\n",
       "0  24.817513  24.864784  24.439341  24.533884  2.988973e+09\n",
       "1  24.533884  24.533884  24.533884  24.533884  0.000000e+00\n",
       "2  24.722969  25.006599  24.675697  25.006599  3.814050e+09\n",
       "3  25.053869  25.148413  24.912056  24.959328  3.284070e+09\n",
       "4  25.006599  25.242956  24.912056  25.053869  2.625803e+09"
      ]
     },
     "execution_count": 2,
     "metadata": {},
     "output_type": "execute_result"
    }
   ],
   "source": [
    "#Reading dataset in pandas\n",
    "df = pd.read_csv(\"Reliance.csv\")\n",
    "#Droping unwanted columns\n",
    "df.drop([\"Date\", \"Adj Close\"], axis=1, inplace=True)\n",
    "print(\"Shape ->\",df.shape)\n",
    "df.head()"
   ]
  },
  {
   "cell_type": "code",
   "execution_count": 3,
   "id": "congressional-darkness",
   "metadata": {},
   "outputs": [
    {
     "data": {
      "text/html": [
       "<div>\n",
       "<style scoped>\n",
       "    .dataframe tbody tr th:only-of-type {\n",
       "        vertical-align: middle;\n",
       "    }\n",
       "\n",
       "    .dataframe tbody tr th {\n",
       "        vertical-align: top;\n",
       "    }\n",
       "\n",
       "    .dataframe thead th {\n",
       "        text-align: right;\n",
       "    }\n",
       "</style>\n",
       "<table border=\"1\" class=\"dataframe\">\n",
       "  <thead>\n",
       "    <tr style=\"text-align: right;\">\n",
       "      <th></th>\n",
       "      <th>Open</th>\n",
       "      <th>High</th>\n",
       "      <th>Low</th>\n",
       "      <th>Close</th>\n",
       "      <th>Volume</th>\n",
       "    </tr>\n",
       "  </thead>\n",
       "  <tbody>\n",
       "    <tr>\n",
       "      <th>0</th>\n",
       "      <td>24.817513</td>\n",
       "      <td>24.864784</td>\n",
       "      <td>24.439341</td>\n",
       "      <td>24.533884</td>\n",
       "      <td>2.988973e+09</td>\n",
       "    </tr>\n",
       "    <tr>\n",
       "      <th>1</th>\n",
       "      <td>24.533884</td>\n",
       "      <td>24.533884</td>\n",
       "      <td>24.533884</td>\n",
       "      <td>25.006599</td>\n",
       "      <td>0.000000e+00</td>\n",
       "    </tr>\n",
       "    <tr>\n",
       "      <th>2</th>\n",
       "      <td>24.722969</td>\n",
       "      <td>25.006599</td>\n",
       "      <td>24.675697</td>\n",
       "      <td>24.959328</td>\n",
       "      <td>3.814050e+09</td>\n",
       "    </tr>\n",
       "    <tr>\n",
       "      <th>3</th>\n",
       "      <td>25.053869</td>\n",
       "      <td>25.148413</td>\n",
       "      <td>24.912056</td>\n",
       "      <td>25.053869</td>\n",
       "      <td>3.284070e+09</td>\n",
       "    </tr>\n",
       "    <tr>\n",
       "      <th>4</th>\n",
       "      <td>25.006599</td>\n",
       "      <td>25.242956</td>\n",
       "      <td>24.912056</td>\n",
       "      <td>25.337500</td>\n",
       "      <td>2.625803e+09</td>\n",
       "    </tr>\n",
       "  </tbody>\n",
       "</table>\n",
       "</div>"
      ],
      "text/plain": [
       "        Open       High        Low      Close        Volume\n",
       "0  24.817513  24.864784  24.439341  24.533884  2.988973e+09\n",
       "1  24.533884  24.533884  24.533884  25.006599  0.000000e+00\n",
       "2  24.722969  25.006599  24.675697  24.959328  3.814050e+09\n",
       "3  25.053869  25.148413  24.912056  25.053869  3.284070e+09\n",
       "4  25.006599  25.242956  24.912056  25.337500  2.625803e+09"
      ]
     },
     "execution_count": 3,
     "metadata": {},
     "output_type": "execute_result"
    }
   ],
   "source": [
    "#Shifting whole dataset down by one row so we can use yesterdays data to predict todays closing price\n",
    "df['Close'] =  df['Close'].shift(-1)\n",
    "df.head()"
   ]
  },
  {
   "cell_type": "code",
   "execution_count": 4,
   "id": "broadband-engine",
   "metadata": {},
   "outputs": [
    {
     "data": {
      "text/html": [
       "<div>\n",
       "<style scoped>\n",
       "    .dataframe tbody tr th:only-of-type {\n",
       "        vertical-align: middle;\n",
       "    }\n",
       "\n",
       "    .dataframe tbody tr th {\n",
       "        vertical-align: top;\n",
       "    }\n",
       "\n",
       "    .dataframe thead th {\n",
       "        text-align: right;\n",
       "    }\n",
       "</style>\n",
       "<table border=\"1\" class=\"dataframe\">\n",
       "  <thead>\n",
       "    <tr style=\"text-align: right;\">\n",
       "      <th></th>\n",
       "      <th>Open</th>\n",
       "      <th>High</th>\n",
       "      <th>Low</th>\n",
       "      <th>Volume</th>\n",
       "      <th>Close</th>\n",
       "    </tr>\n",
       "  </thead>\n",
       "  <tbody>\n",
       "    <tr>\n",
       "      <th>0</th>\n",
       "      <td>24.817513</td>\n",
       "      <td>24.864784</td>\n",
       "      <td>24.439341</td>\n",
       "      <td>2.988973e+09</td>\n",
       "      <td>24.533884</td>\n",
       "    </tr>\n",
       "    <tr>\n",
       "      <th>1</th>\n",
       "      <td>24.533884</td>\n",
       "      <td>24.533884</td>\n",
       "      <td>24.533884</td>\n",
       "      <td>0.000000e+00</td>\n",
       "      <td>25.006599</td>\n",
       "    </tr>\n",
       "    <tr>\n",
       "      <th>2</th>\n",
       "      <td>24.722969</td>\n",
       "      <td>25.006599</td>\n",
       "      <td>24.675697</td>\n",
       "      <td>3.814050e+09</td>\n",
       "      <td>24.959328</td>\n",
       "    </tr>\n",
       "    <tr>\n",
       "      <th>3</th>\n",
       "      <td>25.053869</td>\n",
       "      <td>25.148413</td>\n",
       "      <td>24.912056</td>\n",
       "      <td>3.284070e+09</td>\n",
       "      <td>25.053869</td>\n",
       "    </tr>\n",
       "    <tr>\n",
       "      <th>4</th>\n",
       "      <td>25.006599</td>\n",
       "      <td>25.242956</td>\n",
       "      <td>24.912056</td>\n",
       "      <td>2.625803e+09</td>\n",
       "      <td>25.337500</td>\n",
       "    </tr>\n",
       "  </tbody>\n",
       "</table>\n",
       "</div>"
      ],
      "text/plain": [
       "        Open       High        Low        Volume      Close\n",
       "0  24.817513  24.864784  24.439341  2.988973e+09  24.533884\n",
       "1  24.533884  24.533884  24.533884  0.000000e+00  25.006599\n",
       "2  24.722969  25.006599  24.675697  3.814050e+09  24.959328\n",
       "3  25.053869  25.148413  24.912056  3.284070e+09  25.053869\n",
       "4  25.006599  25.242956  24.912056  2.625803e+09  25.337500"
      ]
     },
     "execution_count": 4,
     "metadata": {},
     "output_type": "execute_result"
    }
   ],
   "source": [
    "#Reordering columns\n",
    "df = df[['Open', 'High', 'Low', 'Volume', 'Close']]\n",
    "df.head()"
   ]
  },
  {
   "cell_type": "code",
   "execution_count": 5,
   "id": "aware-green",
   "metadata": {},
   "outputs": [
    {
     "data": {
      "text/plain": [
       "Open      0\n",
       "High      0\n",
       "Low       0\n",
       "Volume    0\n",
       "Close     0\n",
       "dtype: int64"
      ]
     },
     "execution_count": 5,
     "metadata": {},
     "output_type": "execute_result"
    }
   ],
   "source": [
    "#Filling null values using pad values, will fill next rows values to empty cells\n",
    "df.dropna(axis=0, how='any', inplace=True)\n",
    "df.isnull().sum()"
   ]
  },
  {
   "cell_type": "code",
   "execution_count": 6,
   "id": "liberal-activation",
   "metadata": {},
   "outputs": [
    {
     "data": {
      "text/plain": [
       "<AxesSubplot:>"
      ]
     },
     "execution_count": 6,
     "metadata": {},
     "output_type": "execute_result"
    },
    {
     "data": {
      "image/png": "[encoded data removed]",
      "text/plain": [
       "<Figure size 1440x648 with 1 Axes>"
      ]
     },
     "metadata": {
      "needs_background": "light"
     },
     "output_type": "display_data"
    }
   ],
   "source": [
    "#Dataset Plotted\n",
    "df['Close'].plot(figsize=(20,9))"
   ]
  },
  {
   "cell_type": "code",
   "execution_count": 7,
   "id": "european-nancy",
   "metadata": {},
   "outputs": [],
   "source": [
    "#columns for x and y\n",
    "x  = df[['Open','High','Low','Volume']]\n",
    "y = df['Close']"
   ]
  },
  {
   "cell_type": "code",
   "execution_count": 8,
   "id": "early-yukon",
   "metadata": {},
   "outputs": [
    {
     "data": {
      "text/html": [
       "<div>\n",
       "<style scoped>\n",
       "    .dataframe tbody tr th:only-of-type {\n",
       "        vertical-align: middle;\n",
       "    }\n",
       "\n",
       "    .dataframe tbody tr th {\n",
       "        vertical-align: top;\n",
       "    }\n",
       "\n",
       "    .dataframe thead th {\n",
       "        text-align: right;\n",
       "    }\n",
       "</style>\n",
       "<table border=\"1\" class=\"dataframe\">\n",
       "  <thead>\n",
       "    <tr style=\"text-align: right;\">\n",
       "      <th></th>\n",
       "      <th>Open</th>\n",
       "      <th>High</th>\n",
       "      <th>Low</th>\n",
       "      <th>Volume</th>\n",
       "      <th>Close</th>\n",
       "    </tr>\n",
       "  </thead>\n",
       "  <tbody>\n",
       "    <tr>\n",
       "      <th>0</th>\n",
       "      <td>0.004503</td>\n",
       "      <td>0.004337</td>\n",
       "      <td>0.004465</td>\n",
       "      <td>0.047188</td>\n",
       "      <td>24.533884</td>\n",
       "    </tr>\n",
       "    <tr>\n",
       "      <th>1</th>\n",
       "      <td>0.004381</td>\n",
       "      <td>0.004197</td>\n",
       "      <td>0.004506</td>\n",
       "      <td>0.000000</td>\n",
       "      <td>25.006599</td>\n",
       "    </tr>\n",
       "    <tr>\n",
       "      <th>2</th>\n",
       "      <td>0.004463</td>\n",
       "      <td>0.004398</td>\n",
       "      <td>0.004568</td>\n",
       "      <td>0.060214</td>\n",
       "      <td>24.959328</td>\n",
       "    </tr>\n",
       "    <tr>\n",
       "      <th>3</th>\n",
       "      <td>0.004606</td>\n",
       "      <td>0.004458</td>\n",
       "      <td>0.004670</td>\n",
       "      <td>0.051847</td>\n",
       "      <td>25.053869</td>\n",
       "    </tr>\n",
       "    <tr>\n",
       "      <th>4</th>\n",
       "      <td>0.004585</td>\n",
       "      <td>0.004498</td>\n",
       "      <td>0.004670</td>\n",
       "      <td>0.041454</td>\n",
       "      <td>25.337500</td>\n",
       "    </tr>\n",
       "  </tbody>\n",
       "</table>\n",
       "</div>"
      ],
      "text/plain": [
       "       Open      High       Low    Volume      Close\n",
       "0  0.004503  0.004337  0.004465  0.047188  24.533884\n",
       "1  0.004381  0.004197  0.004506  0.000000  25.006599\n",
       "2  0.004463  0.004398  0.004568  0.060214  24.959328\n",
       "3  0.004606  0.004458  0.004670  0.051847  25.053869\n",
       "4  0.004585  0.004498  0.004670  0.041454  25.337500"
      ]
     },
     "execution_count": 8,
     "metadata": {},
     "output_type": "execute_result"
    }
   ],
   "source": [
    "#Normalising data\n",
    "scaler = MinMaxScaler()\n",
    "df[['Open','High','Low','Volume']] = scaler.fit_transform(df[['Open','High','Low','Volume']])\n",
    "df.head()"
   ]
  },
  {
   "cell_type": "code",
   "execution_count": 9,
   "id": "usual-cycle",
   "metadata": {},
   "outputs": [
    {
     "name": "stdout",
     "output_type": "stream",
     "text": [
      "(4839, 4)\n",
      "(1614, 4)\n",
      "(4839,)\n",
      "(1614,)\n"
     ]
    }
   ],
   "source": [
    "#Splitting data\n",
    "x_train , x_test , y_train , y_test = train_test_split(x ,y)\n",
    "print(x_train.shape)\n",
    "print(x_test.shape)\n",
    "print(y_train.shape)\n",
    "print(y_test.shape)"
   ]
  },
  {
   "cell_type": "markdown",
   "id": "wireless-review",
   "metadata": {},
   "source": [
    "---\n",
    "# Random Forest"
   ]
  },
  {
   "cell_type": "code",
   "execution_count": 10,
   "id": "boring-wireless",
   "metadata": {},
   "outputs": [
    {
     "data": {
      "text/plain": [
       "RandomForestRegressor(random_state=0)"
      ]
     },
     "execution_count": 10,
     "metadata": {},
     "output_type": "execute_result"
    }
   ],
   "source": [
    "model_rf = RandomForestRegressor(n_estimators = 100, random_state = 0) \n",
    "model_rf.fit(x_train, y_train)   "
   ]
  },
  {
   "cell_type": "code",
   "execution_count": 11,
   "id": "conservative-rolling",
   "metadata": {},
   "outputs": [
    {
     "data": {
      "text/html": [
       "<div>\n",
       "<style scoped>\n",
       "    .dataframe tbody tr th:only-of-type {\n",
       "        vertical-align: middle;\n",
       "    }\n",
       "\n",
       "    .dataframe tbody tr th {\n",
       "        vertical-align: top;\n",
       "    }\n",
       "\n",
       "    .dataframe thead th {\n",
       "        text-align: right;\n",
       "    }\n",
       "</style>\n",
       "<table border=\"1\" class=\"dataframe\">\n",
       "  <thead>\n",
       "    <tr style=\"text-align: right;\">\n",
       "      <th></th>\n",
       "      <th>Actual</th>\n",
       "      <th>Predicted</th>\n",
       "      <th>Difference</th>\n",
       "    </tr>\n",
       "  </thead>\n",
       "  <tbody>\n",
       "    <tr>\n",
       "      <th>2218</th>\n",
       "      <td>88.531868</td>\n",
       "      <td>90.351329</td>\n",
       "      <td>1.819461</td>\n",
       "    </tr>\n",
       "    <tr>\n",
       "      <th>4030</th>\n",
       "      <td>505.075012</td>\n",
       "      <td>506.847000</td>\n",
       "      <td>1.771988</td>\n",
       "    </tr>\n",
       "    <tr>\n",
       "      <th>1891</th>\n",
       "      <td>36.603233</td>\n",
       "      <td>36.674422</td>\n",
       "      <td>0.071189</td>\n",
       "    </tr>\n",
       "    <tr>\n",
       "      <th>3870</th>\n",
       "      <td>484.049988</td>\n",
       "      <td>488.432252</td>\n",
       "      <td>4.382264</td>\n",
       "    </tr>\n",
       "    <tr>\n",
       "      <th>4897</th>\n",
       "      <td>466.174988</td>\n",
       "      <td>481.699248</td>\n",
       "      <td>15.524260</td>\n",
       "    </tr>\n",
       "    <tr>\n",
       "      <th>1476</th>\n",
       "      <td>77.525185</td>\n",
       "      <td>77.878263</td>\n",
       "      <td>0.353078</td>\n",
       "    </tr>\n",
       "    <tr>\n",
       "      <th>2378</th>\n",
       "      <td>71.222954</td>\n",
       "      <td>74.406383</td>\n",
       "      <td>3.183429</td>\n",
       "    </tr>\n",
       "    <tr>\n",
       "      <th>4313</th>\n",
       "      <td>357.049988</td>\n",
       "      <td>347.734628</td>\n",
       "      <td>9.315360</td>\n",
       "    </tr>\n",
       "    <tr>\n",
       "      <th>3431</th>\n",
       "      <td>301.750000</td>\n",
       "      <td>316.076003</td>\n",
       "      <td>14.326003</td>\n",
       "    </tr>\n",
       "    <tr>\n",
       "      <th>1255</th>\n",
       "      <td>62.114689</td>\n",
       "      <td>68.925277</td>\n",
       "      <td>6.810588</td>\n",
       "    </tr>\n",
       "  </tbody>\n",
       "</table>\n",
       "</div>"
      ],
      "text/plain": [
       "          Actual   Predicted  Difference\n",
       "2218   88.531868   90.351329    1.819461\n",
       "4030  505.075012  506.847000    1.771988\n",
       "1891   36.603233   36.674422    0.071189\n",
       "3870  484.049988  488.432252    4.382264\n",
       "4897  466.174988  481.699248   15.524260\n",
       "1476   77.525185   77.878263    0.353078\n",
       "2378   71.222954   74.406383    3.183429\n",
       "4313  357.049988  347.734628    9.315360\n",
       "3431  301.750000  316.076003   14.326003\n",
       "1255   62.114689   68.925277    6.810588"
      ]
     },
     "execution_count": 11,
     "metadata": {},
     "output_type": "execute_result"
    }
   ],
   "source": [
    "#predicting stock price using our model\n",
    "preds_rf = model_rf.predict(x_test)\n",
    "\n",
    "dfpred_rf = pd.DataFrame({'Actual':y_test,'Predicted':preds_rf, 'Difference':abs(y_test-preds_rf)})\n",
    "dfpred_rf.head(10)"
   ]
  },
  {
   "cell_type": "code",
   "execution_count": 12,
   "id": "adequate-speech",
   "metadata": {},
   "outputs": [
    {
     "name": "stdout",
     "output_type": "stream",
     "text": [
      "Score: 0.9990327239157282\n",
      "Mean Absolute Error: 7.189697567083382\n",
      "Mean Squared  Error: 207.44098511563737\n",
      "Root Mean Squared Error: 14.402811708678183\n",
      "Loss: 7.189697567083382\n"
     ]
    }
   ],
   "source": [
    "#Different Metrics calculated using our model\n",
    "print(\"Score:\", model_rf.score(x_test, y_test))\n",
    "print('Mean Absolute Error:',metrics.mean_absolute_error(y_test,preds_rf))\n",
    "print('Mean Squared  Error:',metrics.mean_squared_error(y_test,preds_rf))\n",
    "print('Root Mean Squared Error:',(metrics.mean_squared_error(y_test,preds_rf))**0.5)\n",
    "print('Loss:', abs(y_test-preds_rf).mean())"
   ]
  },
  {
   "cell_type": "markdown",
   "id": "breeding-laugh",
   "metadata": {},
   "source": [
    "---\n",
    "# k-NN"
   ]
  },
  {
   "cell_type": "code",
   "execution_count": 13,
   "id": "chinese-footwear",
   "metadata": {},
   "outputs": [
    {
     "data": {
      "text/plain": [
       "GridSearchCV(cv=7, estimator=KNeighborsRegressor(),\n",
       "             param_grid={'n_neighbors': [1, 2, 3, 4, 5, 6, 7, 8, 9, 10, 11, 12,\n",
       "                                         13, 14]})"
      ]
     },
     "execution_count": 13,
     "metadata": {},
     "output_type": "execute_result"
    }
   ],
   "source": [
    "#using gridsearch to find the best parameter\n",
    "params = {'n_neighbors':[1,2,3,4,5,6,7,8,9,10,11,12,13,14]}\n",
    "knn = neighbors.KNeighborsRegressor()\n",
    "model_knn = GridSearchCV(knn, params, cv=7)\n",
    "model_knn.fit(x_train,y_train)"
   ]
  },
  {
   "cell_type": "code",
   "execution_count": 14,
   "id": "hindu-train",
   "metadata": {},
   "outputs": [
    {
     "data": {
      "text/html": [
       "<div>\n",
       "<style scoped>\n",
       "    .dataframe tbody tr th:only-of-type {\n",
       "        vertical-align: middle;\n",
       "    }\n",
       "\n",
       "    .dataframe tbody tr th {\n",
       "        vertical-align: top;\n",
       "    }\n",
       "\n",
       "    .dataframe thead th {\n",
       "        text-align: right;\n",
       "    }\n",
       "</style>\n",
       "<table border=\"1\" class=\"dataframe\">\n",
       "  <thead>\n",
       "    <tr style=\"text-align: right;\">\n",
       "      <th></th>\n",
       "      <th>Actual</th>\n",
       "      <th>Predicted</th>\n",
       "      <th>Difference</th>\n",
       "    </tr>\n",
       "  </thead>\n",
       "  <tbody>\n",
       "    <tr>\n",
       "      <th>2218</th>\n",
       "      <td>88.531868</td>\n",
       "      <td>164.564129</td>\n",
       "      <td>76.032261</td>\n",
       "    </tr>\n",
       "    <tr>\n",
       "      <th>4030</th>\n",
       "      <td>505.075012</td>\n",
       "      <td>436.825012</td>\n",
       "      <td>68.250000</td>\n",
       "    </tr>\n",
       "    <tr>\n",
       "      <th>1891</th>\n",
       "      <td>36.603233</td>\n",
       "      <td>548.375000</td>\n",
       "      <td>511.771767</td>\n",
       "    </tr>\n",
       "    <tr>\n",
       "      <th>3870</th>\n",
       "      <td>484.049988</td>\n",
       "      <td>476.074997</td>\n",
       "      <td>7.974991</td>\n",
       "    </tr>\n",
       "    <tr>\n",
       "      <th>4897</th>\n",
       "      <td>466.174988</td>\n",
       "      <td>509.125000</td>\n",
       "      <td>42.950012</td>\n",
       "    </tr>\n",
       "    <tr>\n",
       "      <th>1476</th>\n",
       "      <td>77.525185</td>\n",
       "      <td>73.407841</td>\n",
       "      <td>4.117344</td>\n",
       "    </tr>\n",
       "    <tr>\n",
       "      <th>2378</th>\n",
       "      <td>71.222954</td>\n",
       "      <td>54.008581</td>\n",
       "      <td>17.214373</td>\n",
       "    </tr>\n",
       "    <tr>\n",
       "      <th>4313</th>\n",
       "      <td>357.049988</td>\n",
       "      <td>398.362503</td>\n",
       "      <td>41.312515</td>\n",
       "    </tr>\n",
       "    <tr>\n",
       "      <th>3431</th>\n",
       "      <td>301.750000</td>\n",
       "      <td>277.041914</td>\n",
       "      <td>24.708086</td>\n",
       "    </tr>\n",
       "    <tr>\n",
       "      <th>1255</th>\n",
       "      <td>62.114689</td>\n",
       "      <td>66.867363</td>\n",
       "      <td>4.752674</td>\n",
       "    </tr>\n",
       "  </tbody>\n",
       "</table>\n",
       "</div>"
      ],
      "text/plain": [
       "          Actual   Predicted  Difference\n",
       "2218   88.531868  164.564129   76.032261\n",
       "4030  505.075012  436.825012   68.250000\n",
       "1891   36.603233  548.375000  511.771767\n",
       "3870  484.049988  476.074997    7.974991\n",
       "4897  466.174988  509.125000   42.950012\n",
       "1476   77.525185   73.407841    4.117344\n",
       "2378   71.222954   54.008581   17.214373\n",
       "4313  357.049988  398.362503   41.312515\n",
       "3431  301.750000  277.041914   24.708086\n",
       "1255   62.114689   66.867363    4.752674"
      ]
     },
     "execution_count": 14,
     "metadata": {},
     "output_type": "execute_result"
    }
   ],
   "source": [
    "#predicting stock price using our model\n",
    "preds_knn = model_knn.predict(x_test)\n",
    "\n",
    "dfpred_knn = pd.DataFrame({'Actual':y_test,'Predicted':preds_knn, 'Difference':abs(y_test-preds_knn)})\n",
    "dfpred_knn.head(10)"
   ]
  },
  {
   "cell_type": "code",
   "execution_count": 15,
   "id": "defined-craft",
   "metadata": {},
   "outputs": [
    {
     "data": {
      "text/plain": [
       "{'cv': 7,\n",
       " 'error_score': nan,\n",
       " 'estimator__algorithm': 'auto',\n",
       " 'estimator__leaf_size': 30,\n",
       " 'estimator__metric': 'minkowski',\n",
       " 'estimator__metric_params': None,\n",
       " 'estimator__n_jobs': None,\n",
       " 'estimator__n_neighbors': 5,\n",
       " 'estimator__p': 2,\n",
       " 'estimator__weights': 'uniform',\n",
       " 'estimator': KNeighborsRegressor(),\n",
       " 'n_jobs': None,\n",
       " 'param_grid': {'n_neighbors': [1,\n",
       "   2,\n",
       "   3,\n",
       "   4,\n",
       "   5,\n",
       "   6,\n",
       "   7,\n",
       "   8,\n",
       "   9,\n",
       "   10,\n",
       "   11,\n",
       "   12,\n",
       "   13,\n",
       "   14]},\n",
       " 'pre_dispatch': '2*n_jobs',\n",
       " 'refit': True,\n",
       " 'return_train_score': False,\n",
       " 'scoring': None,\n",
       " 'verbose': 0}"
      ]
     },
     "execution_count": 15,
     "metadata": {},
     "output_type": "execute_result"
    }
   ],
   "source": [
    "model_knn.get_params()"
   ]
  },
  {
   "cell_type": "code",
   "execution_count": 16,
   "id": "answering-cream",
   "metadata": {},
   "outputs": [
    {
     "name": "stdout",
     "output_type": "stream",
     "text": [
      "Score: 0.6292771291496433\n",
      "Mean Absolute Error: 148.57012893153654\n",
      "Mean Squared  Error: 79504.8267858197\n",
      "Root Mean Squared Error: 281.9660028900997\n",
      "Loss: 148.57012893153654\n"
     ]
    }
   ],
   "source": [
    "#Different Metrics calculated using our model\n",
    "print(\"Score:\", model_knn.score(x_test, y_test))\n",
    "print('Mean Absolute Error:',metrics.mean_absolute_error(y_test,preds_knn))\n",
    "print('Mean Squared  Error:',metrics.mean_squared_error(y_test,preds_knn))\n",
    "print('Root Mean Squared Error:',(metrics.mean_squared_error(y_test,preds_knn))**0.5)\n",
    "print('Loss:', abs(y_test-preds_knn).mean())"
   ]
  },
  {
   "cell_type": "markdown",
   "id": "political-joseph",
   "metadata": {},
   "source": [
    "---\n",
    "# Decision Tree"
   ]
  },
  {
   "cell_type": "code",
   "execution_count": 17,
   "id": "considerable-costs",
   "metadata": {},
   "outputs": [
    {
     "data": {
      "text/plain": [
       "DecisionTreeRegressor()"
      ]
     },
     "execution_count": 17,
     "metadata": {},
     "output_type": "execute_result"
    }
   ],
   "source": [
    "model_dt = DecisionTreeRegressor()\n",
    "model_dt.fit(x_train,y_train)"
   ]
  },
  {
   "cell_type": "code",
   "execution_count": 18,
   "id": "assured-sheep",
   "metadata": {},
   "outputs": [
    {
     "data": {
      "text/html": [
       "<div>\n",
       "<style scoped>\n",
       "    .dataframe tbody tr th:only-of-type {\n",
       "        vertical-align: middle;\n",
       "    }\n",
       "\n",
       "    .dataframe tbody tr th {\n",
       "        vertical-align: top;\n",
       "    }\n",
       "\n",
       "    .dataframe thead th {\n",
       "        text-align: right;\n",
       "    }\n",
       "</style>\n",
       "<table border=\"1\" class=\"dataframe\">\n",
       "  <thead>\n",
       "    <tr style=\"text-align: right;\">\n",
       "      <th></th>\n",
       "      <th>Actual</th>\n",
       "      <th>Predicted</th>\n",
       "      <th>Difference</th>\n",
       "    </tr>\n",
       "  </thead>\n",
       "  <tbody>\n",
       "    <tr>\n",
       "      <th>2218</th>\n",
       "      <td>88.531868</td>\n",
       "      <td>90.299820</td>\n",
       "      <td>1.767952</td>\n",
       "    </tr>\n",
       "    <tr>\n",
       "      <th>4030</th>\n",
       "      <td>505.075012</td>\n",
       "      <td>513.025024</td>\n",
       "      <td>7.950012</td>\n",
       "    </tr>\n",
       "    <tr>\n",
       "      <th>1891</th>\n",
       "      <td>36.603233</td>\n",
       "      <td>36.682648</td>\n",
       "      <td>0.079415</td>\n",
       "    </tr>\n",
       "    <tr>\n",
       "      <th>3870</th>\n",
       "      <td>484.049988</td>\n",
       "      <td>489.000000</td>\n",
       "      <td>4.950012</td>\n",
       "    </tr>\n",
       "    <tr>\n",
       "      <th>4897</th>\n",
       "      <td>466.174988</td>\n",
       "      <td>484.725006</td>\n",
       "      <td>18.550018</td>\n",
       "    </tr>\n",
       "    <tr>\n",
       "      <th>1476</th>\n",
       "      <td>77.525185</td>\n",
       "      <td>77.863647</td>\n",
       "      <td>0.338462</td>\n",
       "    </tr>\n",
       "    <tr>\n",
       "      <th>2378</th>\n",
       "      <td>71.222954</td>\n",
       "      <td>75.157829</td>\n",
       "      <td>3.934875</td>\n",
       "    </tr>\n",
       "    <tr>\n",
       "      <th>4313</th>\n",
       "      <td>357.049988</td>\n",
       "      <td>350.600006</td>\n",
       "      <td>6.449982</td>\n",
       "    </tr>\n",
       "    <tr>\n",
       "      <th>3431</th>\n",
       "      <td>301.750000</td>\n",
       "      <td>315.350006</td>\n",
       "      <td>13.600006</td>\n",
       "    </tr>\n",
       "    <tr>\n",
       "      <th>1255</th>\n",
       "      <td>62.114689</td>\n",
       "      <td>73.365295</td>\n",
       "      <td>11.250606</td>\n",
       "    </tr>\n",
       "  </tbody>\n",
       "</table>\n",
       "</div>"
      ],
      "text/plain": [
       "          Actual   Predicted  Difference\n",
       "2218   88.531868   90.299820    1.767952\n",
       "4030  505.075012  513.025024    7.950012\n",
       "1891   36.603233   36.682648    0.079415\n",
       "3870  484.049988  489.000000    4.950012\n",
       "4897  466.174988  484.725006   18.550018\n",
       "1476   77.525185   77.863647    0.338462\n",
       "2378   71.222954   75.157829    3.934875\n",
       "4313  357.049988  350.600006    6.449982\n",
       "3431  301.750000  315.350006   13.600006\n",
       "1255   62.114689   73.365295   11.250606"
      ]
     },
     "execution_count": 18,
     "metadata": {},
     "output_type": "execute_result"
    }
   ],
   "source": [
    "#predicting stock price using our model\n",
    "preds_dt = model_dt.predict(x_test)\n",
    "\n",
    "dfpred_dt = pd.DataFrame({'Actual':y_test,'Predicted':preds_dt, 'Difference':abs(y_test-preds_dt)})\n",
    "dfpred_dt.head(10)"
   ]
  },
  {
   "cell_type": "code",
   "execution_count": 19,
   "id": "adolescent-cruise",
   "metadata": {},
   "outputs": [
    {
     "name": "stdout",
     "output_type": "stream",
     "text": [
      "Score: 0.9983530042989055\n",
      "Mean Absolute Error: 9.451486156237092\n",
      "Mean Squared  Error: 353.2129205628796\n",
      "Root Mean Squared Error: 18.79395968291088\n",
      "Loss: 9.451486156237092\n"
     ]
    }
   ],
   "source": [
    "#Different Metrics calculated using our model\n",
    "print(\"Score:\", model_dt.score(x_test,y_test))\n",
    "print('Mean Absolute Error:',metrics.mean_absolute_error(y_test,preds_dt))\n",
    "print('Mean Squared  Error:',metrics.mean_squared_error(y_test,preds_dt))\n",
    "print('Root Mean Squared Error:',(metrics.mean_squared_error(y_test,preds_dt))**0.5)\n",
    "print('Loss:', abs(y_test-preds_dt).mean())"
   ]
  },
  {
   "cell_type": "markdown",
   "id": "satisfactory-shape",
   "metadata": {},
   "source": [
    "---\n",
    "# Linear Regression"
   ]
  },
  {
   "cell_type": "code",
   "execution_count": 20,
   "id": "mathematical-accreditation",
   "metadata": {
    "tags": []
   },
   "outputs": [
    {
     "data": {
      "text/plain": [
       "LinearRegression()"
      ]
     },
     "execution_count": 20,
     "metadata": {},
     "output_type": "execute_result"
    }
   ],
   "source": [
    "#linear Regression\n",
    "model_lr = LinearRegression()\n",
    "model_lr.fit(x_train,y_train)"
   ]
  },
  {
   "cell_type": "code",
   "execution_count": 21,
   "id": "shared-hunter",
   "metadata": {},
   "outputs": [
    {
     "name": "stdout",
     "output_type": "stream",
     "text": [
      "[-6.68290108e-01  8.75947216e-01  7.91845328e-01 -1.88318101e-13]\n",
      "-0.032958536218529844\n"
     ]
    }
   ],
   "source": [
    "#Coefficients and Intercept of LR\n",
    "print(model_lr.coef_)\n",
    "print(model_lr.intercept_)"
   ]
  },
  {
   "cell_type": "code",
   "execution_count": 22,
   "id": "extreme-wallet",
   "metadata": {},
   "outputs": [
    {
     "data": {
      "text/html": [
       "<div>\n",
       "<style scoped>\n",
       "    .dataframe tbody tr th:only-of-type {\n",
       "        vertical-align: middle;\n",
       "    }\n",
       "\n",
       "    .dataframe tbody tr th {\n",
       "        vertical-align: top;\n",
       "    }\n",
       "\n",
       "    .dataframe thead th {\n",
       "        text-align: right;\n",
       "    }\n",
       "</style>\n",
       "<table border=\"1\" class=\"dataframe\">\n",
       "  <thead>\n",
       "    <tr style=\"text-align: right;\">\n",
       "      <th></th>\n",
       "      <th>Actual</th>\n",
       "      <th>Predicted</th>\n",
       "      <th>Difference</th>\n",
       "    </tr>\n",
       "  </thead>\n",
       "  <tbody>\n",
       "    <tr>\n",
       "      <th>2218</th>\n",
       "      <td>88.531868</td>\n",
       "      <td>91.493308</td>\n",
       "      <td>2.961440</td>\n",
       "    </tr>\n",
       "    <tr>\n",
       "      <th>4030</th>\n",
       "      <td>505.075012</td>\n",
       "      <td>505.189724</td>\n",
       "      <td>0.114712</td>\n",
       "    </tr>\n",
       "    <tr>\n",
       "      <th>1891</th>\n",
       "      <td>36.603233</td>\n",
       "      <td>37.251284</td>\n",
       "      <td>0.648051</td>\n",
       "    </tr>\n",
       "    <tr>\n",
       "      <th>3870</th>\n",
       "      <td>484.049988</td>\n",
       "      <td>485.676472</td>\n",
       "      <td>1.626484</td>\n",
       "    </tr>\n",
       "    <tr>\n",
       "      <th>4897</th>\n",
       "      <td>466.174988</td>\n",
       "      <td>480.277925</td>\n",
       "      <td>14.102937</td>\n",
       "    </tr>\n",
       "    <tr>\n",
       "      <th>1476</th>\n",
       "      <td>77.525185</td>\n",
       "      <td>77.349707</td>\n",
       "      <td>0.175478</td>\n",
       "    </tr>\n",
       "    <tr>\n",
       "      <th>2378</th>\n",
       "      <td>71.222954</td>\n",
       "      <td>73.040164</td>\n",
       "      <td>1.817210</td>\n",
       "    </tr>\n",
       "    <tr>\n",
       "      <th>4313</th>\n",
       "      <td>357.049988</td>\n",
       "      <td>351.402023</td>\n",
       "      <td>5.647965</td>\n",
       "    </tr>\n",
       "    <tr>\n",
       "      <th>3431</th>\n",
       "      <td>301.750000</td>\n",
       "      <td>321.441120</td>\n",
       "      <td>19.691120</td>\n",
       "    </tr>\n",
       "    <tr>\n",
       "      <th>1255</th>\n",
       "      <td>62.114689</td>\n",
       "      <td>65.528276</td>\n",
       "      <td>3.413587</td>\n",
       "    </tr>\n",
       "  </tbody>\n",
       "</table>\n",
       "</div>"
      ],
      "text/plain": [
       "          Actual   Predicted  Difference\n",
       "2218   88.531868   91.493308    2.961440\n",
       "4030  505.075012  505.189724    0.114712\n",
       "1891   36.603233   37.251284    0.648051\n",
       "3870  484.049988  485.676472    1.626484\n",
       "4897  466.174988  480.277925   14.102937\n",
       "1476   77.525185   77.349707    0.175478\n",
       "2378   71.222954   73.040164    1.817210\n",
       "4313  357.049988  351.402023    5.647965\n",
       "3431  301.750000  321.441120   19.691120\n",
       "1255   62.114689   65.528276    3.413587"
      ]
     },
     "execution_count": 22,
     "metadata": {},
     "output_type": "execute_result"
    }
   ],
   "source": [
    "#predicting stock price using our model\n",
    "preds_lr = model_lr.predict(x_test)\n",
    "\n",
    "dfpred_lr = pd.DataFrame({'Actual':y_test,'Predicted':preds_lr, 'Difference':abs(y_test-preds_lr)})\n",
    "dfpred_lr.head(10)"
   ]
  },
  {
   "cell_type": "code",
   "execution_count": 23,
   "id": "spatial-nursery",
   "metadata": {},
   "outputs": [
    {
     "name": "stdout",
     "output_type": "stream",
     "text": [
      "Score: 0.9992699292826105\n",
      "Mean Absolute Error: 6.2898424632671786\n",
      "Mean Squared  Error: 156.5701781341827\n",
      "Root Mean Squared Error: 12.512800571182405\n",
      "Loss: 6.2898424632671786\n"
     ]
    }
   ],
   "source": [
    "#Different Metrics calculated using our model\n",
    "print(\"Score:\", model_lr.score(x_test,y_test))\n",
    "print('Mean Absolute Error:',metrics.mean_absolute_error(y_test,preds_lr))\n",
    "print('Mean Squared  Error:',metrics.mean_squared_error(y_test,preds_lr))\n",
    "print('Root Mean Squared Error:',(metrics.mean_squared_error(y_test,preds_lr))**0.5)\n",
    "print('Loss:', abs(y_test-preds_lr).mean())"
   ]
  }
 ],
 "metadata": {
  "kernelspec": {
   "display_name": "Python 3.7.7 64-bit ('datascience': conda)",
   "language": "python",
   "name": "python37764bitdatascienceconda67e0b92c992c46d7a01f8ce74cfb6bf2"
  },
  "language_info": {
   "codemirror_mode": {
    "name": "ipython",
    "version": 3
   },
   "file_extension": ".py",
   "mimetype": "text/x-python",
   "name": "python",
   "nbconvert_exporter": "python",
   "pygments_lexer": "ipython3",
   "version": "3.7.10"
  }
 },
 "nbformat": 4,
 "nbformat_minor": 5
}
