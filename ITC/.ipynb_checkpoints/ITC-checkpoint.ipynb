{
 "cells": [
  {
   "cell_type": "code",
   "execution_count": 1,
   "id": "north-compilation",
   "metadata": {},
   "outputs": [],
   "source": [
    "#Importing Libraries\n",
    "import pandas as pd\n",
    "from sklearn.model_selection import train_test_split\n",
    "from sklearn.linear_model import LinearRegression\n",
    "from sklearn import metrics\n",
    "from sklearn.metrics import accuracy_score\n",
    "from sklearn.preprocessing import MinMaxScaler\n",
    "from sklearn.model_selection import GridSearchCV\n",
    "from sklearn.neighbors import KNeighborsRegressor\n",
    "from sklearn import neighbors\n",
    "from sklearn.tree import DecisionTreeRegressor \n",
    "from sklearn.ensemble import RandomForestRegressor \n",
    "import numpy as np\n",
    "\n",
    "import matplotlib.pyplot as plt\n",
    "%matplotlib inline"
   ]
  },
  {
   "cell_type": "code",
   "execution_count": 2,
   "id": "treated-malawi",
   "metadata": {},
   "outputs": [
    {
     "name": "stdout",
     "output_type": "stream",
     "text": [
      "Shape -> (6353, 5)\n"
     ]
    },
    {
     "data": {
      "text/html": [
       "<div>\n",
       "<style scoped>\n",
       "    .dataframe tbody tr th:only-of-type {\n",
       "        vertical-align: middle;\n",
       "    }\n",
       "\n",
       "    .dataframe tbody tr th {\n",
       "        vertical-align: top;\n",
       "    }\n",
       "\n",
       "    .dataframe thead th {\n",
       "        text-align: right;\n",
       "    }\n",
       "</style>\n",
       "<table border=\"1\" class=\"dataframe\">\n",
       "  <thead>\n",
       "    <tr style=\"text-align: right;\">\n",
       "      <th></th>\n",
       "      <th>Open</th>\n",
       "      <th>High</th>\n",
       "      <th>Low</th>\n",
       "      <th>Close</th>\n",
       "      <th>Volume</th>\n",
       "    </tr>\n",
       "  </thead>\n",
       "  <tbody>\n",
       "    <tr>\n",
       "      <th>0</th>\n",
       "      <td>5.550000</td>\n",
       "      <td>5.600000</td>\n",
       "      <td>5.533333</td>\n",
       "      <td>5.583333</td>\n",
       "      <td>985500.0</td>\n",
       "    </tr>\n",
       "    <tr>\n",
       "      <th>1</th>\n",
       "      <td>5.466666</td>\n",
       "      <td>5.566666</td>\n",
       "      <td>5.288888</td>\n",
       "      <td>5.372222</td>\n",
       "      <td>7470000.0</td>\n",
       "    </tr>\n",
       "    <tr>\n",
       "      <th>2</th>\n",
       "      <td>5.133333</td>\n",
       "      <td>5.254444</td>\n",
       "      <td>5.101111</td>\n",
       "      <td>5.200000</td>\n",
       "      <td>15160500.0</td>\n",
       "    </tr>\n",
       "    <tr>\n",
       "      <th>3</th>\n",
       "      <td>5.200000</td>\n",
       "      <td>5.332222</td>\n",
       "      <td>5.144444</td>\n",
       "      <td>5.297777</td>\n",
       "      <td>12397500.0</td>\n",
       "    </tr>\n",
       "    <tr>\n",
       "      <th>4</th>\n",
       "      <td>5.297777</td>\n",
       "      <td>5.277777</td>\n",
       "      <td>5.188888</td>\n",
       "      <td>5.202222</td>\n",
       "      <td>5008500.0</td>\n",
       "    </tr>\n",
       "  </tbody>\n",
       "</table>\n",
       "</div>"
      ],
      "text/plain": [
       "       Open      High       Low     Close      Volume\n",
       "0  5.550000  5.600000  5.533333  5.583333    985500.0\n",
       "1  5.466666  5.566666  5.288888  5.372222   7470000.0\n",
       "2  5.133333  5.254444  5.101111  5.200000  15160500.0\n",
       "3  5.200000  5.332222  5.144444  5.297777  12397500.0\n",
       "4  5.297777  5.277777  5.188888  5.202222   5008500.0"
      ]
     },
     "execution_count": 2,
     "metadata": {},
     "output_type": "execute_result"
    }
   ],
   "source": [
    "#Reading dataset in pandas\n",
    "df = pd.read_csv(\"ITC.csv\")\n",
    "#Droping unwanted columns\n",
    "df.drop([\"Date\", \"Adj Close\"], axis=1, inplace=True)\n",
    "print(\"Shape ->\",df.shape)\n",
    "df.head()"
   ]
  },
  {
   "cell_type": "code",
   "execution_count": 3,
   "id": "settled-knock",
   "metadata": {},
   "outputs": [
    {
     "data": {
      "text/html": [
       "<div>\n",
       "<style scoped>\n",
       "    .dataframe tbody tr th:only-of-type {\n",
       "        vertical-align: middle;\n",
       "    }\n",
       "\n",
       "    .dataframe tbody tr th {\n",
       "        vertical-align: top;\n",
       "    }\n",
       "\n",
       "    .dataframe thead th {\n",
       "        text-align: right;\n",
       "    }\n",
       "</style>\n",
       "<table border=\"1\" class=\"dataframe\">\n",
       "  <thead>\n",
       "    <tr style=\"text-align: right;\">\n",
       "      <th></th>\n",
       "      <th>Open</th>\n",
       "      <th>High</th>\n",
       "      <th>Low</th>\n",
       "      <th>Close</th>\n",
       "      <th>Volume</th>\n",
       "    </tr>\n",
       "  </thead>\n",
       "  <tbody>\n",
       "    <tr>\n",
       "      <th>0</th>\n",
       "      <td>5.550000</td>\n",
       "      <td>5.600000</td>\n",
       "      <td>5.533333</td>\n",
       "      <td>5.372222</td>\n",
       "      <td>985500.0</td>\n",
       "    </tr>\n",
       "    <tr>\n",
       "      <th>1</th>\n",
       "      <td>5.466666</td>\n",
       "      <td>5.566666</td>\n",
       "      <td>5.288888</td>\n",
       "      <td>5.200000</td>\n",
       "      <td>7470000.0</td>\n",
       "    </tr>\n",
       "    <tr>\n",
       "      <th>2</th>\n",
       "      <td>5.133333</td>\n",
       "      <td>5.254444</td>\n",
       "      <td>5.101111</td>\n",
       "      <td>5.297777</td>\n",
       "      <td>15160500.0</td>\n",
       "    </tr>\n",
       "    <tr>\n",
       "      <th>3</th>\n",
       "      <td>5.200000</td>\n",
       "      <td>5.332222</td>\n",
       "      <td>5.144444</td>\n",
       "      <td>5.202222</td>\n",
       "      <td>12397500.0</td>\n",
       "    </tr>\n",
       "    <tr>\n",
       "      <th>4</th>\n",
       "      <td>5.297777</td>\n",
       "      <td>5.277777</td>\n",
       "      <td>5.188888</td>\n",
       "      <td>5.042222</td>\n",
       "      <td>5008500.0</td>\n",
       "    </tr>\n",
       "  </tbody>\n",
       "</table>\n",
       "</div>"
      ],
      "text/plain": [
       "       Open      High       Low     Close      Volume\n",
       "0  5.550000  5.600000  5.533333  5.372222    985500.0\n",
       "1  5.466666  5.566666  5.288888  5.200000   7470000.0\n",
       "2  5.133333  5.254444  5.101111  5.297777  15160500.0\n",
       "3  5.200000  5.332222  5.144444  5.202222  12397500.0\n",
       "4  5.297777  5.277777  5.188888  5.042222   5008500.0"
      ]
     },
     "execution_count": 3,
     "metadata": {},
     "output_type": "execute_result"
    }
   ],
   "source": [
    "#Shifting whole dataset down by one row so we can use yesterdays data to predict todays closing price\n",
    "df['Close'] =  df['Close'].shift(-1)\n",
    "df.head()"
   ]
  },
  {
   "cell_type": "code",
   "execution_count": 4,
   "id": "military-huntington",
   "metadata": {},
   "outputs": [
    {
     "data": {
      "text/html": [
       "<div>\n",
       "<style scoped>\n",
       "    .dataframe tbody tr th:only-of-type {\n",
       "        vertical-align: middle;\n",
       "    }\n",
       "\n",
       "    .dataframe tbody tr th {\n",
       "        vertical-align: top;\n",
       "    }\n",
       "\n",
       "    .dataframe thead th {\n",
       "        text-align: right;\n",
       "    }\n",
       "</style>\n",
       "<table border=\"1\" class=\"dataframe\">\n",
       "  <thead>\n",
       "    <tr style=\"text-align: right;\">\n",
       "      <th></th>\n",
       "      <th>Open</th>\n",
       "      <th>High</th>\n",
       "      <th>Low</th>\n",
       "      <th>Volume</th>\n",
       "      <th>Close</th>\n",
       "    </tr>\n",
       "  </thead>\n",
       "  <tbody>\n",
       "    <tr>\n",
       "      <th>0</th>\n",
       "      <td>5.550000</td>\n",
       "      <td>5.600000</td>\n",
       "      <td>5.533333</td>\n",
       "      <td>985500.0</td>\n",
       "      <td>5.372222</td>\n",
       "    </tr>\n",
       "    <tr>\n",
       "      <th>1</th>\n",
       "      <td>5.466666</td>\n",
       "      <td>5.566666</td>\n",
       "      <td>5.288888</td>\n",
       "      <td>7470000.0</td>\n",
       "      <td>5.200000</td>\n",
       "    </tr>\n",
       "    <tr>\n",
       "      <th>2</th>\n",
       "      <td>5.133333</td>\n",
       "      <td>5.254444</td>\n",
       "      <td>5.101111</td>\n",
       "      <td>15160500.0</td>\n",
       "      <td>5.297777</td>\n",
       "    </tr>\n",
       "    <tr>\n",
       "      <th>3</th>\n",
       "      <td>5.200000</td>\n",
       "      <td>5.332222</td>\n",
       "      <td>5.144444</td>\n",
       "      <td>12397500.0</td>\n",
       "      <td>5.202222</td>\n",
       "    </tr>\n",
       "    <tr>\n",
       "      <th>4</th>\n",
       "      <td>5.297777</td>\n",
       "      <td>5.277777</td>\n",
       "      <td>5.188888</td>\n",
       "      <td>5008500.0</td>\n",
       "      <td>5.042222</td>\n",
       "    </tr>\n",
       "  </tbody>\n",
       "</table>\n",
       "</div>"
      ],
      "text/plain": [
       "       Open      High       Low      Volume     Close\n",
       "0  5.550000  5.600000  5.533333    985500.0  5.372222\n",
       "1  5.466666  5.566666  5.288888   7470000.0  5.200000\n",
       "2  5.133333  5.254444  5.101111  15160500.0  5.297777\n",
       "3  5.200000  5.332222  5.144444  12397500.0  5.202222\n",
       "4  5.297777  5.277777  5.188888   5008500.0  5.042222"
      ]
     },
     "execution_count": 4,
     "metadata": {},
     "output_type": "execute_result"
    }
   ],
   "source": [
    "#Reordering columns\n",
    "df = df[['Open', 'High', 'Low', 'Volume', 'Close']]\n",
    "df.head()"
   ]
  },
  {
   "cell_type": "code",
   "execution_count": 5,
   "id": "educational-hypothetical",
   "metadata": {},
   "outputs": [
    {
     "data": {
      "text/plain": [
       "Open      0\n",
       "High      0\n",
       "Low       0\n",
       "Volume    0\n",
       "Close     0\n",
       "dtype: int64"
      ]
     },
     "execution_count": 5,
     "metadata": {},
     "output_type": "execute_result"
    }
   ],
   "source": [
    "#Filling null values using pad values, will fill next rows values to empty cells\n",
    "df.dropna(axis=0, how='any', inplace=True)\n",
    "df.isnull().sum()"
   ]
  },
  {
   "cell_type": "code",
   "execution_count": 6,
   "id": "polish-madison",
   "metadata": {},
   "outputs": [
    {
     "data": {
      "text/plain": [
       "<AxesSubplot:>"
      ]
     },
     "execution_count": 6,
     "metadata": {},
     "output_type": "execute_result"
    },
    {
     "data": {
      "image/png": "[encoded data removed]",
      "text/plain": [
       "<Figure size 1440x648 with 1 Axes>"
      ]
     },
     "metadata": {
      "needs_background": "light"
     },
     "output_type": "display_data"
    }
   ],
   "source": [
    "#Dataset Plotted\n",
    "df['Close'].plot(figsize=(20,9))"
   ]
  },
  {
   "cell_type": "code",
   "execution_count": 7,
   "id": "extensive-fishing",
   "metadata": {},
   "outputs": [],
   "source": [
    "#columns for x and y\n",
    "x  = df[['Open','High','Low','Volume']]\n",
    "y = df['Close']"
   ]
  },
  {
   "cell_type": "code",
   "execution_count": 8,
   "id": "christian-science",
   "metadata": {},
   "outputs": [
    {
     "data": {
      "text/html": [
       "<div>\n",
       "<style scoped>\n",
       "    .dataframe tbody tr th:only-of-type {\n",
       "        vertical-align: middle;\n",
       "    }\n",
       "\n",
       "    .dataframe tbody tr th {\n",
       "        vertical-align: top;\n",
       "    }\n",
       "\n",
       "    .dataframe thead th {\n",
       "        text-align: right;\n",
       "    }\n",
       "</style>\n",
       "<table border=\"1\" class=\"dataframe\">\n",
       "  <thead>\n",
       "    <tr style=\"text-align: right;\">\n",
       "      <th></th>\n",
       "      <th>Open</th>\n",
       "      <th>High</th>\n",
       "      <th>Low</th>\n",
       "      <th>Volume</th>\n",
       "      <th>Close</th>\n",
       "    </tr>\n",
       "  </thead>\n",
       "  <tbody>\n",
       "    <tr>\n",
       "      <th>0</th>\n",
       "      <td>0.004001</td>\n",
       "      <td>0.004044</td>\n",
       "      <td>0.004132</td>\n",
       "      <td>0.000761</td>\n",
       "      <td>5.372222</td>\n",
       "    </tr>\n",
       "    <tr>\n",
       "      <th>1</th>\n",
       "      <td>0.003758</td>\n",
       "      <td>0.003949</td>\n",
       "      <td>0.003405</td>\n",
       "      <td>0.005772</td>\n",
       "      <td>5.200000</td>\n",
       "    </tr>\n",
       "    <tr>\n",
       "      <th>2</th>\n",
       "      <td>0.002783</td>\n",
       "      <td>0.003058</td>\n",
       "      <td>0.002846</td>\n",
       "      <td>0.011714</td>\n",
       "      <td>5.297777</td>\n",
       "    </tr>\n",
       "    <tr>\n",
       "      <th>3</th>\n",
       "      <td>0.002978</td>\n",
       "      <td>0.003280</td>\n",
       "      <td>0.002975</td>\n",
       "      <td>0.009580</td>\n",
       "      <td>5.202222</td>\n",
       "    </tr>\n",
       "    <tr>\n",
       "      <th>4</th>\n",
       "      <td>0.003264</td>\n",
       "      <td>0.003125</td>\n",
       "      <td>0.003107</td>\n",
       "      <td>0.003870</td>\n",
       "      <td>5.042222</td>\n",
       "    </tr>\n",
       "  </tbody>\n",
       "</table>\n",
       "</div>"
      ],
      "text/plain": [
       "       Open      High       Low    Volume     Close\n",
       "0  0.004001  0.004044  0.004132  0.000761  5.372222\n",
       "1  0.003758  0.003949  0.003405  0.005772  5.200000\n",
       "2  0.002783  0.003058  0.002846  0.011714  5.297777\n",
       "3  0.002978  0.003280  0.002975  0.009580  5.202222\n",
       "4  0.003264  0.003125  0.003107  0.003870  5.042222"
      ]
     },
     "execution_count": 8,
     "metadata": {},
     "output_type": "execute_result"
    }
   ],
   "source": [
    "#Normalising data\n",
    "scaler = MinMaxScaler()\n",
    "df[['Open','High','Low','Volume']] = scaler.fit_transform(df[['Open','High','Low','Volume']])\n",
    "df.head()"
   ]
  },
  {
   "cell_type": "code",
   "execution_count": 9,
   "id": "psychological-milton",
   "metadata": {},
   "outputs": [
    {
     "name": "stdout",
     "output_type": "stream",
     "text": [
      "(4740, 4)\n",
      "(1580, 4)\n",
      "(4740,)\n",
      "(1580,)\n"
     ]
    }
   ],
   "source": [
    "#Splitting data\n",
    "x_train , x_test , y_train , y_test = train_test_split(x ,y)\n",
    "print(x_train.shape)\n",
    "print(x_test.shape)\n",
    "print(y_train.shape)\n",
    "print(y_test.shape)"
   ]
  },
  {
   "cell_type": "markdown",
   "id": "better-gabriel",
   "metadata": {},
   "source": [
    "---\n",
    "# Random Forest"
   ]
  },
  {
   "cell_type": "code",
   "execution_count": 10,
   "id": "backed-pillow",
   "metadata": {},
   "outputs": [
    {
     "data": {
      "text/plain": [
       "RandomForestRegressor(random_state=0)"
      ]
     },
     "execution_count": 10,
     "metadata": {},
     "output_type": "execute_result"
    }
   ],
   "source": [
    "model_rf = RandomForestRegressor(n_estimators = 100, random_state = 0) \n",
    "model_rf.fit(x_train, y_train)   "
   ]
  },
  {
   "cell_type": "code",
   "execution_count": 11,
   "id": "brief-alliance",
   "metadata": {},
   "outputs": [
    {
     "data": {
      "text/html": [
       "<div>\n",
       "<style scoped>\n",
       "    .dataframe tbody tr th:only-of-type {\n",
       "        vertical-align: middle;\n",
       "    }\n",
       "\n",
       "    .dataframe tbody tr th {\n",
       "        vertical-align: top;\n",
       "    }\n",
       "\n",
       "    .dataframe thead th {\n",
       "        text-align: right;\n",
       "    }\n",
       "</style>\n",
       "<table border=\"1\" class=\"dataframe\">\n",
       "  <thead>\n",
       "    <tr style=\"text-align: right;\">\n",
       "      <th></th>\n",
       "      <th>Actual</th>\n",
       "      <th>Predicted</th>\n",
       "      <th>Difference</th>\n",
       "    </tr>\n",
       "  </thead>\n",
       "  <tbody>\n",
       "    <tr>\n",
       "      <th>2921</th>\n",
       "      <td>52.150002</td>\n",
       "      <td>52.122833</td>\n",
       "      <td>0.027169</td>\n",
       "    </tr>\n",
       "    <tr>\n",
       "      <th>2516</th>\n",
       "      <td>38.481110</td>\n",
       "      <td>38.167033</td>\n",
       "      <td>0.314077</td>\n",
       "    </tr>\n",
       "    <tr>\n",
       "      <th>1980</th>\n",
       "      <td>16.261110</td>\n",
       "      <td>16.025733</td>\n",
       "      <td>0.235377</td>\n",
       "    </tr>\n",
       "    <tr>\n",
       "      <th>2847</th>\n",
       "      <td>58.483334</td>\n",
       "      <td>58.843499</td>\n",
       "      <td>0.360165</td>\n",
       "    </tr>\n",
       "    <tr>\n",
       "      <th>3862</th>\n",
       "      <td>103.400002</td>\n",
       "      <td>104.652667</td>\n",
       "      <td>1.252665</td>\n",
       "    </tr>\n",
       "    <tr>\n",
       "      <th>2419</th>\n",
       "      <td>30.596666</td>\n",
       "      <td>31.746133</td>\n",
       "      <td>1.149467</td>\n",
       "    </tr>\n",
       "    <tr>\n",
       "      <th>3794</th>\n",
       "      <td>117.033333</td>\n",
       "      <td>115.211332</td>\n",
       "      <td>1.822001</td>\n",
       "    </tr>\n",
       "    <tr>\n",
       "      <th>1136</th>\n",
       "      <td>11.844444</td>\n",
       "      <td>11.975222</td>\n",
       "      <td>0.130778</td>\n",
       "    </tr>\n",
       "    <tr>\n",
       "      <th>3361</th>\n",
       "      <td>60.299999</td>\n",
       "      <td>60.170166</td>\n",
       "      <td>0.129833</td>\n",
       "    </tr>\n",
       "    <tr>\n",
       "      <th>303</th>\n",
       "      <td>9.472222</td>\n",
       "      <td>8.536188</td>\n",
       "      <td>0.936034</td>\n",
       "    </tr>\n",
       "  </tbody>\n",
       "</table>\n",
       "</div>"
      ],
      "text/plain": [
       "          Actual   Predicted  Difference\n",
       "2921   52.150002   52.122833    0.027169\n",
       "2516   38.481110   38.167033    0.314077\n",
       "1980   16.261110   16.025733    0.235377\n",
       "2847   58.483334   58.843499    0.360165\n",
       "3862  103.400002  104.652667    1.252665\n",
       "2419   30.596666   31.746133    1.149467\n",
       "3794  117.033333  115.211332    1.822001\n",
       "1136   11.844444   11.975222    0.130778\n",
       "3361   60.299999   60.170166    0.129833\n",
       "303     9.472222    8.536188    0.936034"
      ]
     },
     "execution_count": 11,
     "metadata": {},
     "output_type": "execute_result"
    }
   ],
   "source": [
    "#predicting stock price using our model\n",
    "preds_rf = model_rf.predict(x_test)\n",
    "\n",
    "dfpred_rf = pd.DataFrame({'Actual':y_test,'Predicted':preds_rf, 'Difference':abs(y_test-preds_rf)})\n",
    "dfpred_rf.head(10)"
   ]
  },
  {
   "cell_type": "code",
   "execution_count": 12,
   "id": "single-architecture",
   "metadata": {},
   "outputs": [
    {
     "name": "stdout",
     "output_type": "stream",
     "text": [
      "Score: 0.9992029264001481\n",
      "Mean Absolute Error: 1.599509211336682\n",
      "Mean Squared  Error: 7.559154129719244\n",
      "Root Mean Squared Error: 2.7493915926472248\n",
      "Loss: 1.599509211336682\n"
     ]
    }
   ],
   "source": [
    "#Different Metrics calculated using our model\n",
    "print(\"Score:\", model_rf.score(x_test, y_test))\n",
    "print('Mean Absolute Error:',metrics.mean_absolute_error(y_test,preds_rf))\n",
    "print('Mean Squared  Error:',metrics.mean_squared_error(y_test,preds_rf))\n",
    "print('Root Mean Squared Error:',(metrics.mean_squared_error(y_test,preds_rf))**0.5)\n",
    "print('Loss:', abs(y_test-preds_rf).mean())"
   ]
  },
  {
   "cell_type": "markdown",
   "id": "earlier-estimate",
   "metadata": {},
   "source": [
    "---\n",
    "# k-NN"
   ]
  },
  {
   "cell_type": "code",
   "execution_count": 13,
   "id": "infrared-tobago",
   "metadata": {},
   "outputs": [
    {
     "data": {
      "text/plain": [
       "GridSearchCV(cv=7, estimator=KNeighborsRegressor(),\n",
       "             param_grid={'n_neighbors': [1, 2, 3, 4, 5, 6, 7, 8, 9, 10, 11, 12,\n",
       "                                         13, 14]})"
      ]
     },
     "execution_count": 13,
     "metadata": {},
     "output_type": "execute_result"
    }
   ],
   "source": [
    "#using gridsearch to find the best parameter\n",
    "params = {'n_neighbors':[1,2,3,4,5,6,7,8,9,10,11,12,13,14]}\n",
    "knn = neighbors.KNeighborsRegressor()\n",
    "model_knn = GridSearchCV(knn, params, cv=7)\n",
    "model_knn.fit(x_train,y_train)"
   ]
  },
  {
   "cell_type": "code",
   "execution_count": 14,
   "id": "willing-prisoner",
   "metadata": {},
   "outputs": [
    {
     "data": {
      "text/html": [
       "<div>\n",
       "<style scoped>\n",
       "    .dataframe tbody tr th:only-of-type {\n",
       "        vertical-align: middle;\n",
       "    }\n",
       "\n",
       "    .dataframe tbody tr th {\n",
       "        vertical-align: top;\n",
       "    }\n",
       "\n",
       "    .dataframe thead th {\n",
       "        text-align: right;\n",
       "    }\n",
       "</style>\n",
       "<table border=\"1\" class=\"dataframe\">\n",
       "  <thead>\n",
       "    <tr style=\"text-align: right;\">\n",
       "      <th></th>\n",
       "      <th>Actual</th>\n",
       "      <th>Predicted</th>\n",
       "      <th>Difference</th>\n",
       "    </tr>\n",
       "  </thead>\n",
       "  <tbody>\n",
       "    <tr>\n",
       "      <th>2921</th>\n",
       "      <td>52.150002</td>\n",
       "      <td>85.369604</td>\n",
       "      <td>33.219602</td>\n",
       "    </tr>\n",
       "    <tr>\n",
       "      <th>2516</th>\n",
       "      <td>38.481110</td>\n",
       "      <td>136.130397</td>\n",
       "      <td>97.649287</td>\n",
       "    </tr>\n",
       "    <tr>\n",
       "      <th>1980</th>\n",
       "      <td>16.261110</td>\n",
       "      <td>124.952779</td>\n",
       "      <td>108.691669</td>\n",
       "    </tr>\n",
       "    <tr>\n",
       "      <th>2847</th>\n",
       "      <td>58.483334</td>\n",
       "      <td>181.686666</td>\n",
       "      <td>123.203332</td>\n",
       "    </tr>\n",
       "    <tr>\n",
       "      <th>3862</th>\n",
       "      <td>103.400002</td>\n",
       "      <td>118.223014</td>\n",
       "      <td>14.823012</td>\n",
       "    </tr>\n",
       "    <tr>\n",
       "      <th>2419</th>\n",
       "      <td>30.596666</td>\n",
       "      <td>147.262222</td>\n",
       "      <td>116.665556</td>\n",
       "    </tr>\n",
       "    <tr>\n",
       "      <th>3794</th>\n",
       "      <td>117.033333</td>\n",
       "      <td>176.797378</td>\n",
       "      <td>59.764045</td>\n",
       "    </tr>\n",
       "    <tr>\n",
       "      <th>1136</th>\n",
       "      <td>11.844444</td>\n",
       "      <td>120.769046</td>\n",
       "      <td>108.924602</td>\n",
       "    </tr>\n",
       "    <tr>\n",
       "      <th>3361</th>\n",
       "      <td>60.299999</td>\n",
       "      <td>87.190158</td>\n",
       "      <td>26.890159</td>\n",
       "    </tr>\n",
       "    <tr>\n",
       "      <th>303</th>\n",
       "      <td>9.472222</td>\n",
       "      <td>11.962460</td>\n",
       "      <td>2.490238</td>\n",
       "    </tr>\n",
       "  </tbody>\n",
       "</table>\n",
       "</div>"
      ],
      "text/plain": [
       "          Actual   Predicted  Difference\n",
       "2921   52.150002   85.369604   33.219602\n",
       "2516   38.481110  136.130397   97.649287\n",
       "1980   16.261110  124.952779  108.691669\n",
       "2847   58.483334  181.686666  123.203332\n",
       "3862  103.400002  118.223014   14.823012\n",
       "2419   30.596666  147.262222  116.665556\n",
       "3794  117.033333  176.797378   59.764045\n",
       "1136   11.844444  120.769046  108.924602\n",
       "3361   60.299999   87.190158   26.890159\n",
       "303     9.472222   11.962460    2.490238"
      ]
     },
     "execution_count": 14,
     "metadata": {},
     "output_type": "execute_result"
    }
   ],
   "source": [
    "#predicting stock price using our model\n",
    "preds_knn = model_knn.predict(x_test)\n",
    "\n",
    "dfpred_knn = pd.DataFrame({'Actual':y_test,'Predicted':preds_knn, 'Difference':abs(y_test-preds_knn)})\n",
    "dfpred_knn.head(10)"
   ]
  },
  {
   "cell_type": "code",
   "execution_count": 15,
   "id": "fossil-amount",
   "metadata": {},
   "outputs": [
    {
     "data": {
      "text/plain": [
       "{'cv': 7,\n",
       " 'error_score': nan,\n",
       " 'estimator__algorithm': 'auto',\n",
       " 'estimator__leaf_size': 30,\n",
       " 'estimator__metric': 'minkowski',\n",
       " 'estimator__metric_params': None,\n",
       " 'estimator__n_jobs': None,\n",
       " 'estimator__n_neighbors': 5,\n",
       " 'estimator__p': 2,\n",
       " 'estimator__weights': 'uniform',\n",
       " 'estimator': KNeighborsRegressor(),\n",
       " 'n_jobs': None,\n",
       " 'param_grid': {'n_neighbors': [1,\n",
       "   2,\n",
       "   3,\n",
       "   4,\n",
       "   5,\n",
       "   6,\n",
       "   7,\n",
       "   8,\n",
       "   9,\n",
       "   10,\n",
       "   11,\n",
       "   12,\n",
       "   13,\n",
       "   14]},\n",
       " 'pre_dispatch': '2*n_jobs',\n",
       " 'refit': True,\n",
       " 'return_train_score': False,\n",
       " 'scoring': None,\n",
       " 'verbose': 0}"
      ]
     },
     "execution_count": 15,
     "metadata": {},
     "output_type": "execute_result"
    }
   ],
   "source": [
    "model_knn.get_params()"
   ]
  },
  {
   "cell_type": "code",
   "execution_count": 16,
   "id": "single-episode",
   "metadata": {},
   "outputs": [
    {
     "name": "stdout",
     "output_type": "stream",
     "text": [
      "Score: 0.185327635280651\n",
      "Mean Absolute Error: 71.995119226085\n",
      "Mean Squared  Error: 7726.054370989669\n",
      "Root Mean Squared Error: 87.89797705857438\n",
      "Loss: 71.995119226085\n"
     ]
    }
   ],
   "source": [
    "#Different Metrics calculated using our model\n",
    "print(\"Score:\", model_knn.score(x_test, y_test))\n",
    "print('Mean Absolute Error:',metrics.mean_absolute_error(y_test,preds_knn))\n",
    "print('Mean Squared  Error:',metrics.mean_squared_error(y_test,preds_knn))\n",
    "print('Root Mean Squared Error:',(metrics.mean_squared_error(y_test,preds_knn))**0.5)\n",
    "print('Loss:', abs(y_test-preds_knn).mean())"
   ]
  },
  {
   "cell_type": "markdown",
   "id": "vocational-junior",
   "metadata": {},
   "source": [
    "---\n",
    "# Decision Tree"
   ]
  },
  {
   "cell_type": "code",
   "execution_count": 17,
   "id": "broken-consumption",
   "metadata": {},
   "outputs": [
    {
     "data": {
      "text/plain": [
       "DecisionTreeRegressor()"
      ]
     },
     "execution_count": 17,
     "metadata": {},
     "output_type": "execute_result"
    }
   ],
   "source": [
    "model_dt = DecisionTreeRegressor()\n",
    "model_dt.fit(x_train,y_train)"
   ]
  },
  {
   "cell_type": "code",
   "execution_count": 18,
   "id": "waiting-registration",
   "metadata": {},
   "outputs": [
    {
     "data": {
      "text/html": [
       "<div>\n",
       "<style scoped>\n",
       "    .dataframe tbody tr th:only-of-type {\n",
       "        vertical-align: middle;\n",
       "    }\n",
       "\n",
       "    .dataframe tbody tr th {\n",
       "        vertical-align: top;\n",
       "    }\n",
       "\n",
       "    .dataframe thead th {\n",
       "        text-align: right;\n",
       "    }\n",
       "</style>\n",
       "<table border=\"1\" class=\"dataframe\">\n",
       "  <thead>\n",
       "    <tr style=\"text-align: right;\">\n",
       "      <th></th>\n",
       "      <th>Actual</th>\n",
       "      <th>Predicted</th>\n",
       "      <th>Difference</th>\n",
       "    </tr>\n",
       "  </thead>\n",
       "  <tbody>\n",
       "    <tr>\n",
       "      <th>2921</th>\n",
       "      <td>52.150002</td>\n",
       "      <td>51.383331</td>\n",
       "      <td>0.766671</td>\n",
       "    </tr>\n",
       "    <tr>\n",
       "      <th>2516</th>\n",
       "      <td>38.481110</td>\n",
       "      <td>38.483334</td>\n",
       "      <td>0.002224</td>\n",
       "    </tr>\n",
       "    <tr>\n",
       "      <th>1980</th>\n",
       "      <td>16.261110</td>\n",
       "      <td>16.135555</td>\n",
       "      <td>0.125555</td>\n",
       "    </tr>\n",
       "    <tr>\n",
       "      <th>2847</th>\n",
       "      <td>58.483334</td>\n",
       "      <td>58.349998</td>\n",
       "      <td>0.133336</td>\n",
       "    </tr>\n",
       "    <tr>\n",
       "      <th>3862</th>\n",
       "      <td>103.400002</td>\n",
       "      <td>104.266663</td>\n",
       "      <td>0.866661</td>\n",
       "    </tr>\n",
       "    <tr>\n",
       "      <th>2419</th>\n",
       "      <td>30.596666</td>\n",
       "      <td>31.948889</td>\n",
       "      <td>1.352223</td>\n",
       "    </tr>\n",
       "    <tr>\n",
       "      <th>3794</th>\n",
       "      <td>117.033333</td>\n",
       "      <td>114.500000</td>\n",
       "      <td>2.533333</td>\n",
       "    </tr>\n",
       "    <tr>\n",
       "      <th>1136</th>\n",
       "      <td>11.844444</td>\n",
       "      <td>11.895555</td>\n",
       "      <td>0.051111</td>\n",
       "    </tr>\n",
       "    <tr>\n",
       "      <th>3361</th>\n",
       "      <td>60.299999</td>\n",
       "      <td>60.450001</td>\n",
       "      <td>0.150002</td>\n",
       "    </tr>\n",
       "    <tr>\n",
       "      <th>303</th>\n",
       "      <td>9.472222</td>\n",
       "      <td>8.318888</td>\n",
       "      <td>1.153334</td>\n",
       "    </tr>\n",
       "  </tbody>\n",
       "</table>\n",
       "</div>"
      ],
      "text/plain": [
       "          Actual   Predicted  Difference\n",
       "2921   52.150002   51.383331    0.766671\n",
       "2516   38.481110   38.483334    0.002224\n",
       "1980   16.261110   16.135555    0.125555\n",
       "2847   58.483334   58.349998    0.133336\n",
       "3862  103.400002  104.266663    0.866661\n",
       "2419   30.596666   31.948889    1.352223\n",
       "3794  117.033333  114.500000    2.533333\n",
       "1136   11.844444   11.895555    0.051111\n",
       "3361   60.299999   60.450001    0.150002\n",
       "303     9.472222    8.318888    1.153334"
      ]
     },
     "execution_count": 18,
     "metadata": {},
     "output_type": "execute_result"
    }
   ],
   "source": [
    "#predicting stock price using our model\n",
    "preds_dt = model_dt.predict(x_test)\n",
    "\n",
    "dfpred_dt = pd.DataFrame({'Actual':y_test,'Predicted':preds_dt, 'Difference':abs(y_test-preds_dt)})\n",
    "dfpred_dt.head(10)"
   ]
  },
  {
   "cell_type": "code",
   "execution_count": 19,
   "id": "suffering-virginia",
   "metadata": {},
   "outputs": [
    {
     "name": "stdout",
     "output_type": "stream",
     "text": [
      "Score: 0.9985385755839763\n",
      "Mean Absolute Error: 2.1625371430379747\n",
      "Mean Squared  Error: 13.859613982586088\n",
      "Root Mean Squared Error: 3.7228502498201683\n",
      "Loss: 2.1625371430379747\n"
     ]
    }
   ],
   "source": [
    "#Different Metrics calculated using our model\n",
    "print(\"Score:\", model_dt.score(x_test,y_test))\n",
    "print('Mean Absolute Error:',metrics.mean_absolute_error(y_test,preds_dt))\n",
    "print('Mean Squared  Error:',metrics.mean_squared_error(y_test,preds_dt))\n",
    "print('Root Mean Squared Error:',(metrics.mean_squared_error(y_test,preds_dt))**0.5)\n",
    "print('Loss:', abs(y_test-preds_dt).mean())"
   ]
  },
  {
   "cell_type": "markdown",
   "id": "hazardous-evidence",
   "metadata": {},
   "source": [
    "---\n",
    "# Linear Regression"
   ]
  },
  {
   "cell_type": "code",
   "execution_count": 20,
   "id": "announced-italian",
   "metadata": {
    "tags": []
   },
   "outputs": [
    {
     "data": {
      "text/plain": [
       "LinearRegression()"
      ]
     },
     "execution_count": 20,
     "metadata": {},
     "output_type": "execute_result"
    }
   ],
   "source": [
    "#linear Regression\n",
    "model_lr = LinearRegression()\n",
    "model_lr.fit(x_train,y_train)"
   ]
  },
  {
   "cell_type": "code",
   "execution_count": 21,
   "id": "electronic-peace",
   "metadata": {},
   "outputs": [
    {
     "name": "stdout",
     "output_type": "stream",
     "text": [
      "[-4.77779810e-01  8.53765765e-01  6.21634795e-01 -1.81156445e-10]\n",
      "0.0442084561105105\n"
     ]
    }
   ],
   "source": [
    "#Coefficients and Intercept of LR\n",
    "print(model_lr.coef_)\n",
    "print(model_lr.intercept_)"
   ]
  },
  {
   "cell_type": "code",
   "execution_count": 22,
   "id": "alpine-representative",
   "metadata": {},
   "outputs": [
    {
     "data": {
      "text/html": [
       "<div>\n",
       "<style scoped>\n",
       "    .dataframe tbody tr th:only-of-type {\n",
       "        vertical-align: middle;\n",
       "    }\n",
       "\n",
       "    .dataframe tbody tr th {\n",
       "        vertical-align: top;\n",
       "    }\n",
       "\n",
       "    .dataframe thead th {\n",
       "        text-align: right;\n",
       "    }\n",
       "</style>\n",
       "<table border=\"1\" class=\"dataframe\">\n",
       "  <thead>\n",
       "    <tr style=\"text-align: right;\">\n",
       "      <th></th>\n",
       "      <th>Actual</th>\n",
       "      <th>Predicted</th>\n",
       "      <th>Difference</th>\n",
       "    </tr>\n",
       "  </thead>\n",
       "  <tbody>\n",
       "    <tr>\n",
       "      <th>2921</th>\n",
       "      <td>52.150002</td>\n",
       "      <td>52.635837</td>\n",
       "      <td>0.485835</td>\n",
       "    </tr>\n",
       "    <tr>\n",
       "      <th>2516</th>\n",
       "      <td>38.481110</td>\n",
       "      <td>38.300980</td>\n",
       "      <td>0.180130</td>\n",
       "    </tr>\n",
       "    <tr>\n",
       "      <th>1980</th>\n",
       "      <td>16.261110</td>\n",
       "      <td>16.315857</td>\n",
       "      <td>0.054747</td>\n",
       "    </tr>\n",
       "    <tr>\n",
       "      <th>2847</th>\n",
       "      <td>58.483334</td>\n",
       "      <td>59.068615</td>\n",
       "      <td>0.585281</td>\n",
       "    </tr>\n",
       "    <tr>\n",
       "      <th>3862</th>\n",
       "      <td>103.400002</td>\n",
       "      <td>105.301271</td>\n",
       "      <td>1.901269</td>\n",
       "    </tr>\n",
       "    <tr>\n",
       "      <th>2419</th>\n",
       "      <td>30.596666</td>\n",
       "      <td>31.538494</td>\n",
       "      <td>0.941828</td>\n",
       "    </tr>\n",
       "    <tr>\n",
       "      <th>3794</th>\n",
       "      <td>117.033333</td>\n",
       "      <td>115.097022</td>\n",
       "      <td>1.936311</td>\n",
       "    </tr>\n",
       "    <tr>\n",
       "      <th>1136</th>\n",
       "      <td>11.844444</td>\n",
       "      <td>11.836329</td>\n",
       "      <td>0.008115</td>\n",
       "    </tr>\n",
       "    <tr>\n",
       "      <th>3361</th>\n",
       "      <td>60.299999</td>\n",
       "      <td>61.052782</td>\n",
       "      <td>0.752783</td>\n",
       "    </tr>\n",
       "    <tr>\n",
       "      <th>303</th>\n",
       "      <td>9.472222</td>\n",
       "      <td>8.678938</td>\n",
       "      <td>0.793284</td>\n",
       "    </tr>\n",
       "  </tbody>\n",
       "</table>\n",
       "</div>"
      ],
      "text/plain": [
       "          Actual   Predicted  Difference\n",
       "2921   52.150002   52.635837    0.485835\n",
       "2516   38.481110   38.300980    0.180130\n",
       "1980   16.261110   16.315857    0.054747\n",
       "2847   58.483334   59.068615    0.585281\n",
       "3862  103.400002  105.301271    1.901269\n",
       "2419   30.596666   31.538494    0.941828\n",
       "3794  117.033333  115.097022    1.936311\n",
       "1136   11.844444   11.836329    0.008115\n",
       "3361   60.299999   61.052782    0.752783\n",
       "303     9.472222    8.678938    0.793284"
      ]
     },
     "execution_count": 22,
     "metadata": {},
     "output_type": "execute_result"
    }
   ],
   "source": [
    "#predicting stock price using our model\n",
    "preds_lr = model_lr.predict(x_test)\n",
    "\n",
    "dfpred_lr = pd.DataFrame({'Actual':y_test,'Predicted':preds_lr, 'Difference':abs(y_test-preds_lr)})\n",
    "dfpred_lr.head(10)"
   ]
  },
  {
   "cell_type": "code",
   "execution_count": 23,
   "id": "vulnerable-professional",
   "metadata": {},
   "outputs": [
    {
     "name": "stdout",
     "output_type": "stream",
     "text": [
      "Score: 0.999349567322392\n",
      "Mean Absolute Error: 1.4462665554432337\n",
      "Mean Squared  Error: 6.168465323601391\n",
      "Root Mean Squared Error: 2.483639531735914\n",
      "Loss: 1.4462665554432337\n"
     ]
    }
   ],
   "source": [
    "#Different Metrics calculated using our model\n",
    "print(\"Score:\", model_lr.score(x_test,y_test))\n",
    "print('Mean Absolute Error:',metrics.mean_absolute_error(y_test,preds_lr))\n",
    "print('Mean Squared  Error:',metrics.mean_squared_error(y_test,preds_lr))\n",
    "print('Root Mean Squared Error:',(metrics.mean_squared_error(y_test,preds_lr))**0.5)\n",
    "print('Loss:', abs(y_test-preds_lr).mean())"
   ]
  }
 ],
 "metadata": {
  "kernelspec": {
   "display_name": "Python 3.7.7 64-bit ('datascience': conda)",
   "language": "python",
   "name": "python37764bitdatascienceconda67e0b92c992c46d7a01f8ce74cfb6bf2"
  },
  "language_info": {
   "codemirror_mode": {
    "name": "ipython",
    "version": 3
   },
   "file_extension": ".py",
   "mimetype": "text/x-python",
   "name": "python",
   "nbconvert_exporter": "python",
   "pygments_lexer": "ipython3",
   "version": "3.7.10"
  }
 },
 "nbformat": 4,
 "nbformat_minor": 5
}
