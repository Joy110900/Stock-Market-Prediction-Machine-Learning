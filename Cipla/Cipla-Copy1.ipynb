{
 "cells": [
  {
   "cell_type": "code",
   "execution_count": 1,
   "id": "indoor-intellectual",
   "metadata": {},
   "outputs": [],
   "source": [
    "#Importing Libraries\n",
    "import pandas as pd\n",
    "from sklearn.model_selection import train_test_split\n",
    "from sklearn.linear_model import LinearRegression\n",
    "from sklearn import metrics\n",
    "from sklearn.metrics import accuracy_score\n",
    "from sklearn.preprocessing import MinMaxScaler\n",
    "from sklearn.model_selection import GridSearchCV\n",
    "from sklearn.neighbors import KNeighborsRegressor\n",
    "from sklearn import neighbors\n",
    "from sklearn.tree import DecisionTreeRegressor \n",
    "from sklearn.ensemble import RandomForestRegressor \n",
    "from sklearn.model_selection import cross_val_score\n",
    "import numpy as np\n",
    "\n",
    "import matplotlib.pyplot as plt\n",
    "%matplotlib inline"
   ]
  },
  {
   "cell_type": "code",
   "execution_count": 2,
   "id": "african-cassette",
   "metadata": {},
   "outputs": [
    {
     "name": "stdout",
     "output_type": "stream",
     "text": [
      "Shape -> (6520, 5)\n"
     ]
    },
    {
     "data": {
      "text/html": [
       "<div>\n",
       "<style scoped>\n",
       "    .dataframe tbody tr th:only-of-type {\n",
       "        vertical-align: middle;\n",
       "    }\n",
       "\n",
       "    .dataframe tbody tr th {\n",
       "        vertical-align: top;\n",
       "    }\n",
       "\n",
       "    .dataframe thead th {\n",
       "        text-align: right;\n",
       "    }\n",
       "</style>\n",
       "<table border=\"1\" class=\"dataframe\">\n",
       "  <thead>\n",
       "    <tr style=\"text-align: right;\">\n",
       "      <th></th>\n",
       "      <th>Open</th>\n",
       "      <th>High</th>\n",
       "      <th>Low</th>\n",
       "      <th>Close</th>\n",
       "      <th>Volume</th>\n",
       "    </tr>\n",
       "  </thead>\n",
       "  <tbody>\n",
       "    <tr>\n",
       "      <th>0</th>\n",
       "      <td>14.133333</td>\n",
       "      <td>14.133333</td>\n",
       "      <td>14.133333</td>\n",
       "      <td>14.133333</td>\n",
       "      <td>0.0</td>\n",
       "    </tr>\n",
       "    <tr>\n",
       "      <th>1</th>\n",
       "      <td>NaN</td>\n",
       "      <td>NaN</td>\n",
       "      <td>NaN</td>\n",
       "      <td>NaN</td>\n",
       "      <td>NaN</td>\n",
       "    </tr>\n",
       "    <tr>\n",
       "      <th>2</th>\n",
       "      <td>NaN</td>\n",
       "      <td>NaN</td>\n",
       "      <td>NaN</td>\n",
       "      <td>NaN</td>\n",
       "      <td>NaN</td>\n",
       "    </tr>\n",
       "    <tr>\n",
       "      <th>3</th>\n",
       "      <td>NaN</td>\n",
       "      <td>NaN</td>\n",
       "      <td>NaN</td>\n",
       "      <td>NaN</td>\n",
       "      <td>NaN</td>\n",
       "    </tr>\n",
       "    <tr>\n",
       "      <th>4</th>\n",
       "      <td>NaN</td>\n",
       "      <td>NaN</td>\n",
       "      <td>NaN</td>\n",
       "      <td>NaN</td>\n",
       "      <td>NaN</td>\n",
       "    </tr>\n",
       "  </tbody>\n",
       "</table>\n",
       "</div>"
      ],
      "text/plain": [
       "        Open       High        Low      Close  Volume\n",
       "0  14.133333  14.133333  14.133333  14.133333     0.0\n",
       "1        NaN        NaN        NaN        NaN     NaN\n",
       "2        NaN        NaN        NaN        NaN     NaN\n",
       "3        NaN        NaN        NaN        NaN     NaN\n",
       "4        NaN        NaN        NaN        NaN     NaN"
      ]
     },
     "execution_count": 2,
     "metadata": {},
     "output_type": "execute_result"
    }
   ],
   "source": [
    "#Reading dataset in pandas\n",
    "df = pd.read_csv(\"Cipla.csv\")\n",
    "#Droping unwanted columns\n",
    "df.drop([\"Date\", \"Adj Close\"], axis=1, inplace=True)\n",
    "print(\"Shape ->\",df.shape)\n",
    "df.head()"
   ]
  },
  {
   "cell_type": "code",
   "execution_count": 3,
   "id": "further-caution",
   "metadata": {},
   "outputs": [
    {
     "data": {
      "text/html": [
       "<div>\n",
       "<style scoped>\n",
       "    .dataframe tbody tr th:only-of-type {\n",
       "        vertical-align: middle;\n",
       "    }\n",
       "\n",
       "    .dataframe tbody tr th {\n",
       "        vertical-align: top;\n",
       "    }\n",
       "\n",
       "    .dataframe thead th {\n",
       "        text-align: right;\n",
       "    }\n",
       "</style>\n",
       "<table border=\"1\" class=\"dataframe\">\n",
       "  <thead>\n",
       "    <tr style=\"text-align: right;\">\n",
       "      <th></th>\n",
       "      <th>Open</th>\n",
       "      <th>High</th>\n",
       "      <th>Low</th>\n",
       "      <th>Volume</th>\n",
       "      <th>Close</th>\n",
       "      <th>Close_Tom</th>\n",
       "    </tr>\n",
       "  </thead>\n",
       "  <tbody>\n",
       "    <tr>\n",
       "      <th>0</th>\n",
       "      <td>14.133333</td>\n",
       "      <td>14.133333</td>\n",
       "      <td>14.133333</td>\n",
       "      <td>0.0</td>\n",
       "      <td>14.133333</td>\n",
       "      <td>14.133333</td>\n",
       "    </tr>\n",
       "    <tr>\n",
       "      <th>1</th>\n",
       "      <td>NaN</td>\n",
       "      <td>NaN</td>\n",
       "      <td>NaN</td>\n",
       "      <td>NaN</td>\n",
       "      <td>NaN</td>\n",
       "      <td>NaN</td>\n",
       "    </tr>\n",
       "    <tr>\n",
       "      <th>2</th>\n",
       "      <td>NaN</td>\n",
       "      <td>NaN</td>\n",
       "      <td>NaN</td>\n",
       "      <td>NaN</td>\n",
       "      <td>NaN</td>\n",
       "      <td>NaN</td>\n",
       "    </tr>\n",
       "    <tr>\n",
       "      <th>3</th>\n",
       "      <td>NaN</td>\n",
       "      <td>NaN</td>\n",
       "      <td>NaN</td>\n",
       "      <td>NaN</td>\n",
       "      <td>NaN</td>\n",
       "      <td>NaN</td>\n",
       "    </tr>\n",
       "    <tr>\n",
       "      <th>4</th>\n",
       "      <td>NaN</td>\n",
       "      <td>NaN</td>\n",
       "      <td>NaN</td>\n",
       "      <td>NaN</td>\n",
       "      <td>NaN</td>\n",
       "      <td>NaN</td>\n",
       "    </tr>\n",
       "  </tbody>\n",
       "</table>\n",
       "</div>"
      ],
      "text/plain": [
       "        Open       High        Low  Volume      Close  Close_Tom\n",
       "0  14.133333  14.133333  14.133333     0.0  14.133333  14.133333\n",
       "1        NaN        NaN        NaN     NaN        NaN        NaN\n",
       "2        NaN        NaN        NaN     NaN        NaN        NaN\n",
       "3        NaN        NaN        NaN     NaN        NaN        NaN\n",
       "4        NaN        NaN        NaN     NaN        NaN        NaN"
      ]
     },
     "execution_count": 3,
     "metadata": {},
     "output_type": "execute_result"
    }
   ],
   "source": [
    "#Reordering columns\n",
    "df = df[['Open', 'High', 'Low', 'Volume', 'Close']]\n",
    "df['Close_Tom'] =  df['Close']\n",
    "df.head()"
   ]
  },
  {
   "cell_type": "code",
   "execution_count": 4,
   "id": "attractive-russian",
   "metadata": {},
   "outputs": [
    {
     "data": {
      "text/html": [
       "<div>\n",
       "<style scoped>\n",
       "    .dataframe tbody tr th:only-of-type {\n",
       "        vertical-align: middle;\n",
       "    }\n",
       "\n",
       "    .dataframe tbody tr th {\n",
       "        vertical-align: top;\n",
       "    }\n",
       "\n",
       "    .dataframe thead th {\n",
       "        text-align: right;\n",
       "    }\n",
       "</style>\n",
       "<table border=\"1\" class=\"dataframe\">\n",
       "  <thead>\n",
       "    <tr style=\"text-align: right;\">\n",
       "      <th></th>\n",
       "      <th>Open</th>\n",
       "      <th>High</th>\n",
       "      <th>Low</th>\n",
       "      <th>Volume</th>\n",
       "      <th>Close</th>\n",
       "      <th>Close_Tom</th>\n",
       "    </tr>\n",
       "  </thead>\n",
       "  <tbody>\n",
       "    <tr>\n",
       "      <th>0</th>\n",
       "      <td>14.133333</td>\n",
       "      <td>14.133333</td>\n",
       "      <td>14.133333</td>\n",
       "      <td>0.0</td>\n",
       "      <td>14.133333</td>\n",
       "      <td>NaN</td>\n",
       "    </tr>\n",
       "    <tr>\n",
       "      <th>1</th>\n",
       "      <td>NaN</td>\n",
       "      <td>NaN</td>\n",
       "      <td>NaN</td>\n",
       "      <td>NaN</td>\n",
       "      <td>NaN</td>\n",
       "      <td>NaN</td>\n",
       "    </tr>\n",
       "    <tr>\n",
       "      <th>2</th>\n",
       "      <td>NaN</td>\n",
       "      <td>NaN</td>\n",
       "      <td>NaN</td>\n",
       "      <td>NaN</td>\n",
       "      <td>NaN</td>\n",
       "      <td>NaN</td>\n",
       "    </tr>\n",
       "    <tr>\n",
       "      <th>3</th>\n",
       "      <td>NaN</td>\n",
       "      <td>NaN</td>\n",
       "      <td>NaN</td>\n",
       "      <td>NaN</td>\n",
       "      <td>NaN</td>\n",
       "      <td>NaN</td>\n",
       "    </tr>\n",
       "    <tr>\n",
       "      <th>4</th>\n",
       "      <td>NaN</td>\n",
       "      <td>NaN</td>\n",
       "      <td>NaN</td>\n",
       "      <td>NaN</td>\n",
       "      <td>NaN</td>\n",
       "      <td>NaN</td>\n",
       "    </tr>\n",
       "  </tbody>\n",
       "</table>\n",
       "</div>"
      ],
      "text/plain": [
       "        Open       High        Low  Volume      Close  Close_Tom\n",
       "0  14.133333  14.133333  14.133333     0.0  14.133333        NaN\n",
       "1        NaN        NaN        NaN     NaN        NaN        NaN\n",
       "2        NaN        NaN        NaN     NaN        NaN        NaN\n",
       "3        NaN        NaN        NaN     NaN        NaN        NaN\n",
       "4        NaN        NaN        NaN     NaN        NaN        NaN"
      ]
     },
     "execution_count": 4,
     "metadata": {},
     "output_type": "execute_result"
    }
   ],
   "source": [
    "#Shifting whole dataset down by one row so we can use yesterdays data to predict todays closing price\n",
    "df['Close_Tom'] =  df['Close_Tom'].shift(-1)\n",
    "df.head()"
   ]
  },
  {
   "cell_type": "code",
   "execution_count": 5,
   "id": "experimental-delicious",
   "metadata": {},
   "outputs": [
    {
     "data": {
      "text/html": [
       "<div>\n",
       "<style scoped>\n",
       "    .dataframe tbody tr th:only-of-type {\n",
       "        vertical-align: middle;\n",
       "    }\n",
       "\n",
       "    .dataframe tbody tr th {\n",
       "        vertical-align: top;\n",
       "    }\n",
       "\n",
       "    .dataframe thead th {\n",
       "        text-align: right;\n",
       "    }\n",
       "</style>\n",
       "<table border=\"1\" class=\"dataframe\">\n",
       "  <thead>\n",
       "    <tr style=\"text-align: right;\">\n",
       "      <th></th>\n",
       "      <th>Open</th>\n",
       "      <th>High</th>\n",
       "      <th>Low</th>\n",
       "      <th>Volume</th>\n",
       "      <th>Close</th>\n",
       "      <th>Close_Tom</th>\n",
       "    </tr>\n",
       "  </thead>\n",
       "  <tbody>\n",
       "    <tr>\n",
       "      <th>0</th>\n",
       "      <td>14.133333</td>\n",
       "      <td>14.133333</td>\n",
       "      <td>14.133333</td>\n",
       "      <td>0.0</td>\n",
       "      <td>14.133333</td>\n",
       "      <td>NaN</td>\n",
       "    </tr>\n",
       "    <tr>\n",
       "      <th>1</th>\n",
       "      <td>NaN</td>\n",
       "      <td>NaN</td>\n",
       "      <td>NaN</td>\n",
       "      <td>NaN</td>\n",
       "      <td>NaN</td>\n",
       "      <td>NaN</td>\n",
       "    </tr>\n",
       "    <tr>\n",
       "      <th>2</th>\n",
       "      <td>NaN</td>\n",
       "      <td>NaN</td>\n",
       "      <td>NaN</td>\n",
       "      <td>NaN</td>\n",
       "      <td>NaN</td>\n",
       "      <td>NaN</td>\n",
       "    </tr>\n",
       "    <tr>\n",
       "      <th>3</th>\n",
       "      <td>NaN</td>\n",
       "      <td>NaN</td>\n",
       "      <td>NaN</td>\n",
       "      <td>NaN</td>\n",
       "      <td>NaN</td>\n",
       "      <td>NaN</td>\n",
       "    </tr>\n",
       "    <tr>\n",
       "      <th>4</th>\n",
       "      <td>NaN</td>\n",
       "      <td>NaN</td>\n",
       "      <td>NaN</td>\n",
       "      <td>NaN</td>\n",
       "      <td>NaN</td>\n",
       "      <td>NaN</td>\n",
       "    </tr>\n",
       "  </tbody>\n",
       "</table>\n",
       "</div>"
      ],
      "text/plain": [
       "        Open       High        Low  Volume      Close  Close_Tom\n",
       "0  14.133333  14.133333  14.133333     0.0  14.133333        NaN\n",
       "1        NaN        NaN        NaN     NaN        NaN        NaN\n",
       "2        NaN        NaN        NaN     NaN        NaN        NaN\n",
       "3        NaN        NaN        NaN     NaN        NaN        NaN\n",
       "4        NaN        NaN        NaN     NaN        NaN        NaN"
      ]
     },
     "execution_count": 5,
     "metadata": {},
     "output_type": "execute_result"
    }
   ],
   "source": [
    "#Reordering columns\n",
    "df = df[['Open', 'High', 'Low', 'Volume', 'Close', 'Close_Tom']]\n",
    "df.head()"
   ]
  },
  {
   "cell_type": "code",
   "execution_count": 6,
   "id": "amino-teacher",
   "metadata": {},
   "outputs": [
    {
     "data": {
      "text/plain": [
       "Open         0\n",
       "High         0\n",
       "Low          0\n",
       "Volume       0\n",
       "Close        0\n",
       "Close_Tom    0\n",
       "dtype: int64"
      ]
     },
     "execution_count": 6,
     "metadata": {},
     "output_type": "execute_result"
    }
   ],
   "source": [
    "#Filling null values using pad values, will fill next rows values to empty cells\n",
    "df.dropna(axis=0, how='any', inplace=True)\n",
    "df.isnull().sum()"
   ]
  },
  {
   "cell_type": "code",
   "execution_count": 7,
   "id": "indian-legend",
   "metadata": {},
   "outputs": [
    {
     "data": {
      "text/plain": [
       "<AxesSubplot:>"
      ]
     },
     "execution_count": 7,
     "metadata": {},
     "output_type": "execute_result"
    },
    {
     "data": {
      "image/png": "[encoded data removed]",
      "text/plain": [
       "<Figure size 1440x648 with 1 Axes>"
      ]
     },
     "metadata": {
      "needs_background": "light"
     },
     "output_type": "display_data"
    }
   ],
   "source": [
    "#Dataset Plotted\n",
    "df['Close'].plot(figsize=(20,9))"
   ]
  },
  {
   "cell_type": "code",
   "execution_count": 8,
   "id": "known-climate",
   "metadata": {},
   "outputs": [],
   "source": [
    "#columns for x and y\n",
    "x  = df[['Open','High','Low','Volume', 'Close']]\n",
    "y = df['Close_Tom']"
   ]
  },
  {
   "cell_type": "code",
   "execution_count": 9,
   "id": "brazilian-friendship",
   "metadata": {},
   "outputs": [
    {
     "data": {
      "text/html": [
       "<div>\n",
       "<style scoped>\n",
       "    .dataframe tbody tr th:only-of-type {\n",
       "        vertical-align: middle;\n",
       "    }\n",
       "\n",
       "    .dataframe tbody tr th {\n",
       "        vertical-align: top;\n",
       "    }\n",
       "\n",
       "    .dataframe thead th {\n",
       "        text-align: right;\n",
       "    }\n",
       "</style>\n",
       "<table border=\"1\" class=\"dataframe\">\n",
       "  <thead>\n",
       "    <tr style=\"text-align: right;\">\n",
       "      <th></th>\n",
       "      <th>Open</th>\n",
       "      <th>High</th>\n",
       "      <th>Low</th>\n",
       "      <th>Volume</th>\n",
       "      <th>Close</th>\n",
       "      <th>Close_Tom</th>\n",
       "    </tr>\n",
       "  </thead>\n",
       "  <tbody>\n",
       "    <tr>\n",
       "      <th>15</th>\n",
       "      <td>0.005996</td>\n",
       "      <td>0.00591</td>\n",
       "      <td>0.006158</td>\n",
       "      <td>0.0</td>\n",
       "      <td>0.006014</td>\n",
       "      <td>13.066666</td>\n",
       "    </tr>\n",
       "    <tr>\n",
       "      <th>16</th>\n",
       "      <td>0.005996</td>\n",
       "      <td>0.00591</td>\n",
       "      <td>0.006158</td>\n",
       "      <td>0.0</td>\n",
       "      <td>0.006014</td>\n",
       "      <td>13.066666</td>\n",
       "    </tr>\n",
       "    <tr>\n",
       "      <th>17</th>\n",
       "      <td>0.005996</td>\n",
       "      <td>0.00591</td>\n",
       "      <td>0.006158</td>\n",
       "      <td>0.0</td>\n",
       "      <td>0.006014</td>\n",
       "      <td>13.066666</td>\n",
       "    </tr>\n",
       "    <tr>\n",
       "      <th>18</th>\n",
       "      <td>0.005996</td>\n",
       "      <td>0.00591</td>\n",
       "      <td>0.006158</td>\n",
       "      <td>0.0</td>\n",
       "      <td>0.006014</td>\n",
       "      <td>13.066666</td>\n",
       "    </tr>\n",
       "    <tr>\n",
       "      <th>19</th>\n",
       "      <td>0.005996</td>\n",
       "      <td>0.00591</td>\n",
       "      <td>0.006158</td>\n",
       "      <td>0.0</td>\n",
       "      <td>0.006014</td>\n",
       "      <td>13.066666</td>\n",
       "    </tr>\n",
       "  </tbody>\n",
       "</table>\n",
       "</div>"
      ],
      "text/plain": [
       "        Open     High       Low  Volume     Close  Close_Tom\n",
       "15  0.005996  0.00591  0.006158     0.0  0.006014  13.066666\n",
       "16  0.005996  0.00591  0.006158     0.0  0.006014  13.066666\n",
       "17  0.005996  0.00591  0.006158     0.0  0.006014  13.066666\n",
       "18  0.005996  0.00591  0.006158     0.0  0.006014  13.066666\n",
       "19  0.005996  0.00591  0.006158     0.0  0.006014  13.066666"
      ]
     },
     "execution_count": 9,
     "metadata": {},
     "output_type": "execute_result"
    }
   ],
   "source": [
    "#Normalising data\n",
    "scaler = MinMaxScaler()\n",
    "df[['Open','High','Low','Volume', 'Close']] = scaler.fit_transform(df[['Open', 'High', 'Low', 'Volume', 'Close']])\n",
    "df.head()"
   ]
  },
  {
   "cell_type": "code",
   "execution_count": 10,
   "id": "registered-rebate",
   "metadata": {},
   "outputs": [
    {
     "name": "stdout",
     "output_type": "stream",
     "text": [
      "(4860, 5)\n",
      "(1620, 5)\n",
      "(4860,)\n",
      "(1620,)\n"
     ]
    }
   ],
   "source": [
    "#Splitting data\n",
    "x_train , x_test , y_train , y_test = train_test_split(x ,y)\n",
    "print(x_train.shape)\n",
    "print(x_test.shape)\n",
    "print(y_train.shape)\n",
    "print(y_test.shape)"
   ]
  },
  {
   "cell_type": "markdown",
   "id": "defined-celebration",
   "metadata": {},
   "source": [
    "---\n",
    "# Random Forest"
   ]
  },
  {
   "cell_type": "code",
   "execution_count": 11,
   "id": "thorough-string",
   "metadata": {},
   "outputs": [
    {
     "data": {
      "text/plain": [
       "RandomForestRegressor(random_state=0)"
      ]
     },
     "execution_count": 11,
     "metadata": {},
     "output_type": "execute_result"
    }
   ],
   "source": [
    "model_rf = RandomForestRegressor(n_estimators = 100, random_state = 0) \n",
    "model_rf.fit(x_train, y_train)   "
   ]
  },
  {
   "cell_type": "code",
   "execution_count": 12,
   "id": "expanded-kentucky",
   "metadata": {},
   "outputs": [
    {
     "data": {
      "text/html": [
       "<div>\n",
       "<style scoped>\n",
       "    .dataframe tbody tr th:only-of-type {\n",
       "        vertical-align: middle;\n",
       "    }\n",
       "\n",
       "    .dataframe tbody tr th {\n",
       "        vertical-align: top;\n",
       "    }\n",
       "\n",
       "    .dataframe thead th {\n",
       "        text-align: right;\n",
       "    }\n",
       "</style>\n",
       "<table border=\"1\" class=\"dataframe\">\n",
       "  <thead>\n",
       "    <tr style=\"text-align: right;\">\n",
       "      <th></th>\n",
       "      <th>Actual</th>\n",
       "      <th>Predicted</th>\n",
       "      <th>Difference</th>\n",
       "    </tr>\n",
       "  </thead>\n",
       "  <tbody>\n",
       "    <tr>\n",
       "      <th>5085</th>\n",
       "      <td>660.000000</td>\n",
       "      <td>671.714501</td>\n",
       "      <td>11.714501</td>\n",
       "    </tr>\n",
       "    <tr>\n",
       "      <th>1457</th>\n",
       "      <td>85.727997</td>\n",
       "      <td>81.742266</td>\n",
       "      <td>3.985731</td>\n",
       "    </tr>\n",
       "    <tr>\n",
       "      <th>553</th>\n",
       "      <td>19.086666</td>\n",
       "      <td>19.723333</td>\n",
       "      <td>0.636667</td>\n",
       "    </tr>\n",
       "    <tr>\n",
       "      <th>4811</th>\n",
       "      <td>396.649994</td>\n",
       "      <td>399.674498</td>\n",
       "      <td>3.024504</td>\n",
       "    </tr>\n",
       "    <tr>\n",
       "      <th>2480</th>\n",
       "      <td>111.599998</td>\n",
       "      <td>109.952400</td>\n",
       "      <td>1.647598</td>\n",
       "    </tr>\n",
       "    <tr>\n",
       "      <th>5931</th>\n",
       "      <td>610.700012</td>\n",
       "      <td>622.441008</td>\n",
       "      <td>11.740996</td>\n",
       "    </tr>\n",
       "    <tr>\n",
       "      <th>425</th>\n",
       "      <td>13.390666</td>\n",
       "      <td>13.161382</td>\n",
       "      <td>0.229284</td>\n",
       "    </tr>\n",
       "    <tr>\n",
       "      <th>2877</th>\n",
       "      <td>210.350006</td>\n",
       "      <td>199.690999</td>\n",
       "      <td>10.659007</td>\n",
       "    </tr>\n",
       "    <tr>\n",
       "      <th>5960</th>\n",
       "      <td>515.099976</td>\n",
       "      <td>521.337505</td>\n",
       "      <td>6.237529</td>\n",
       "    </tr>\n",
       "    <tr>\n",
       "      <th>4908</th>\n",
       "      <td>514.299988</td>\n",
       "      <td>513.979515</td>\n",
       "      <td>0.320473</td>\n",
       "    </tr>\n",
       "  </tbody>\n",
       "</table>\n",
       "</div>"
      ],
      "text/plain": [
       "          Actual   Predicted  Difference\n",
       "5085  660.000000  671.714501   11.714501\n",
       "1457   85.727997   81.742266    3.985731\n",
       "553    19.086666   19.723333    0.636667\n",
       "4811  396.649994  399.674498    3.024504\n",
       "2480  111.599998  109.952400    1.647598\n",
       "5931  610.700012  622.441008   11.740996\n",
       "425    13.390666   13.161382    0.229284\n",
       "2877  210.350006  199.690999   10.659007\n",
       "5960  515.099976  521.337505    6.237529\n",
       "4908  514.299988  513.979515    0.320473"
      ]
     },
     "execution_count": 12,
     "metadata": {},
     "output_type": "execute_result"
    }
   ],
   "source": [
    "#predicting stock price using our model\n",
    "preds_rf = model_rf.predict(x_test)\n",
    "\n",
    "dfpred_rf = pd.DataFrame({'Actual':y_test,'Predicted':preds_rf, 'Difference':abs(y_test-preds_rf)})\n",
    "dfpred_rf.head(10)"
   ]
  },
  {
   "cell_type": "code",
   "execution_count": 13,
   "id": "cathedral-maximum",
   "metadata": {},
   "outputs": [
    {
     "name": "stdout",
     "output_type": "stream",
     "text": [
      "Score: 0.9990679499278112\n",
      "Mean Absolute Error: 3.9520540291201267\n",
      "Mean Squared  Error: 45.252719604953576\n",
      "Root Mean Squared Error: 6.727014167143814\n",
      "Loss: 3.9520540291201267\n"
     ]
    }
   ],
   "source": [
    "#Different Metrics calculated using our model\n",
    "print(\"Score:\", model_rf.score(x_test, y_test))\n",
    "print('Mean Absolute Error:',metrics.mean_absolute_error(y_test,preds_rf))\n",
    "print('Mean Squared  Error:',metrics.mean_squared_error(y_test,preds_rf))\n",
    "print('Root Mean Squared Error:',(metrics.mean_squared_error(y_test,preds_rf))**0.5)\n",
    "print('Loss:', abs(y_test-preds_rf).mean())"
   ]
  },
  {
   "cell_type": "markdown",
   "id": "imported-chart",
   "metadata": {},
   "source": [
    "---\n",
    "# k-NN"
   ]
  },
  {
   "cell_type": "code",
   "execution_count": 14,
   "id": "interracial-blond",
   "metadata": {},
   "outputs": [
    {
     "data": {
      "text/plain": [
       "GridSearchCV(cv=7, estimator=KNeighborsRegressor(),\n",
       "             param_grid={'n_neighbors': [1, 2, 3, 4, 5, 6, 7, 8, 9, 10, 11, 12,\n",
       "                                         13, 14]})"
      ]
     },
     "execution_count": 14,
     "metadata": {},
     "output_type": "execute_result"
    }
   ],
   "source": [
    "#using gridsearch to find the best parameter\n",
    "params = {'n_neighbors':[1,2,3,4,5,6,7,8,9,10,11,12,13,14]}\n",
    "knn = neighbors.KNeighborsRegressor()\n",
    "model_knn = GridSearchCV(knn, params, cv=7)\n",
    "model_knn.fit(x_train,y_train)"
   ]
  },
  {
   "cell_type": "code",
   "execution_count": 15,
   "id": "filled-french",
   "metadata": {},
   "outputs": [
    {
     "data": {
      "text/html": [
       "<div>\n",
       "<style scoped>\n",
       "    .dataframe tbody tr th:only-of-type {\n",
       "        vertical-align: middle;\n",
       "    }\n",
       "\n",
       "    .dataframe tbody tr th {\n",
       "        vertical-align: top;\n",
       "    }\n",
       "\n",
       "    .dataframe thead th {\n",
       "        text-align: right;\n",
       "    }\n",
       "</style>\n",
       "<table border=\"1\" class=\"dataframe\">\n",
       "  <thead>\n",
       "    <tr style=\"text-align: right;\">\n",
       "      <th></th>\n",
       "      <th>Actual</th>\n",
       "      <th>Predicted</th>\n",
       "      <th>Difference</th>\n",
       "    </tr>\n",
       "  </thead>\n",
       "  <tbody>\n",
       "    <tr>\n",
       "      <th>5085</th>\n",
       "      <td>660.000000</td>\n",
       "      <td>625.399994</td>\n",
       "      <td>34.600006</td>\n",
       "    </tr>\n",
       "    <tr>\n",
       "      <th>1457</th>\n",
       "      <td>85.727997</td>\n",
       "      <td>91.028000</td>\n",
       "      <td>5.300003</td>\n",
       "    </tr>\n",
       "    <tr>\n",
       "      <th>553</th>\n",
       "      <td>19.086666</td>\n",
       "      <td>550.450012</td>\n",
       "      <td>531.363346</td>\n",
       "    </tr>\n",
       "    <tr>\n",
       "      <th>4811</th>\n",
       "      <td>396.649994</td>\n",
       "      <td>194.034992</td>\n",
       "      <td>202.615002</td>\n",
       "    </tr>\n",
       "    <tr>\n",
       "      <th>2480</th>\n",
       "      <td>111.599998</td>\n",
       "      <td>96.841999</td>\n",
       "      <td>14.757999</td>\n",
       "    </tr>\n",
       "    <tr>\n",
       "      <th>5931</th>\n",
       "      <td>610.700012</td>\n",
       "      <td>567.175018</td>\n",
       "      <td>43.524994</td>\n",
       "    </tr>\n",
       "    <tr>\n",
       "      <th>425</th>\n",
       "      <td>13.390666</td>\n",
       "      <td>12.420000</td>\n",
       "      <td>0.970666</td>\n",
       "    </tr>\n",
       "    <tr>\n",
       "      <th>2877</th>\n",
       "      <td>210.350006</td>\n",
       "      <td>201.166660</td>\n",
       "      <td>9.183346</td>\n",
       "    </tr>\n",
       "    <tr>\n",
       "      <th>5960</th>\n",
       "      <td>515.099976</td>\n",
       "      <td>477.075012</td>\n",
       "      <td>38.024964</td>\n",
       "    </tr>\n",
       "    <tr>\n",
       "      <th>4908</th>\n",
       "      <td>514.299988</td>\n",
       "      <td>434.074997</td>\n",
       "      <td>80.224991</td>\n",
       "    </tr>\n",
       "  </tbody>\n",
       "</table>\n",
       "</div>"
      ],
      "text/plain": [
       "          Actual   Predicted  Difference\n",
       "5085  660.000000  625.399994   34.600006\n",
       "1457   85.727997   91.028000    5.300003\n",
       "553    19.086666  550.450012  531.363346\n",
       "4811  396.649994  194.034992  202.615002\n",
       "2480  111.599998   96.841999   14.757999\n",
       "5931  610.700012  567.175018   43.524994\n",
       "425    13.390666   12.420000    0.970666\n",
       "2877  210.350006  201.166660    9.183346\n",
       "5960  515.099976  477.075012   38.024964\n",
       "4908  514.299988  434.074997   80.224991"
      ]
     },
     "execution_count": 15,
     "metadata": {},
     "output_type": "execute_result"
    }
   ],
   "source": [
    "#predicting stock price using our model\n",
    "preds_knn = model_knn.predict(x_test)\n",
    "\n",
    "dfpred_knn = pd.DataFrame({'Actual':y_test,'Predicted':preds_knn, 'Difference':abs(y_test-preds_knn)})\n",
    "dfpred_knn.head(10)"
   ]
  },
  {
   "cell_type": "code",
   "execution_count": 16,
   "id": "advisory-leave",
   "metadata": {},
   "outputs": [
    {
     "data": {
      "text/plain": [
       "{'cv': 7,\n",
       " 'error_score': nan,\n",
       " 'estimator__algorithm': 'auto',\n",
       " 'estimator__leaf_size': 30,\n",
       " 'estimator__metric': 'minkowski',\n",
       " 'estimator__metric_params': None,\n",
       " 'estimator__n_jobs': None,\n",
       " 'estimator__n_neighbors': 5,\n",
       " 'estimator__p': 2,\n",
       " 'estimator__weights': 'uniform',\n",
       " 'estimator': KNeighborsRegressor(),\n",
       " 'n_jobs': None,\n",
       " 'param_grid': {'n_neighbors': [1,\n",
       "   2,\n",
       "   3,\n",
       "   4,\n",
       "   5,\n",
       "   6,\n",
       "   7,\n",
       "   8,\n",
       "   9,\n",
       "   10,\n",
       "   11,\n",
       "   12,\n",
       "   13,\n",
       "   14]},\n",
       " 'pre_dispatch': '2*n_jobs',\n",
       " 'refit': True,\n",
       " 'return_train_score': False,\n",
       " 'scoring': None,\n",
       " 'verbose': 0}"
      ]
     },
     "execution_count": 16,
     "metadata": {},
     "output_type": "execute_result"
    }
   ],
   "source": [
    "model_knn.get_params()"
   ]
  },
  {
   "cell_type": "code",
   "execution_count": 17,
   "id": "center-jewelry",
   "metadata": {},
   "outputs": [
    {
     "name": "stdout",
     "output_type": "stream",
     "text": [
      "Score: 0.7725516853073013\n",
      "Mean Absolute Error: 67.49163936666666\n",
      "Mean Squared  Error: 11043.027747679713\n",
      "Root Mean Squared Error: 105.08581135281638\n",
      "Loss: 67.49163936666666\n"
     ]
    }
   ],
   "source": [
    "#Different Metrics calculated using our model\n",
    "print(\"Score:\", model_knn.score(x_test, y_test))\n",
    "print('Mean Absolute Error:',metrics.mean_absolute_error(y_test,preds_knn))\n",
    "print('Mean Squared  Error:',metrics.mean_squared_error(y_test,preds_knn))\n",
    "print('Root Mean Squared Error:',(metrics.mean_squared_error(y_test,preds_knn))**0.5)\n",
    "print('Loss:', abs(y_test-preds_knn).mean())"
   ]
  },
  {
   "cell_type": "markdown",
   "id": "direct-round",
   "metadata": {},
   "source": [
    "---\n",
    "# Decision Tree"
   ]
  },
  {
   "cell_type": "code",
   "execution_count": 18,
   "id": "compact-contributor",
   "metadata": {},
   "outputs": [
    {
     "data": {
      "text/plain": [
       "DecisionTreeRegressor()"
      ]
     },
     "execution_count": 18,
     "metadata": {},
     "output_type": "execute_result"
    }
   ],
   "source": [
    "model_dt = DecisionTreeRegressor()\n",
    "model_dt.fit(x_train,y_train)"
   ]
  },
  {
   "cell_type": "code",
   "execution_count": 19,
   "id": "supposed-violence",
   "metadata": {},
   "outputs": [
    {
     "data": {
      "text/html": [
       "<div>\n",
       "<style scoped>\n",
       "    .dataframe tbody tr th:only-of-type {\n",
       "        vertical-align: middle;\n",
       "    }\n",
       "\n",
       "    .dataframe tbody tr th {\n",
       "        vertical-align: top;\n",
       "    }\n",
       "\n",
       "    .dataframe thead th {\n",
       "        text-align: right;\n",
       "    }\n",
       "</style>\n",
       "<table border=\"1\" class=\"dataframe\">\n",
       "  <thead>\n",
       "    <tr style=\"text-align: right;\">\n",
       "      <th></th>\n",
       "      <th>Actual</th>\n",
       "      <th>Predicted</th>\n",
       "      <th>Difference</th>\n",
       "    </tr>\n",
       "  </thead>\n",
       "  <tbody>\n",
       "    <tr>\n",
       "      <th>5085</th>\n",
       "      <td>660.000000</td>\n",
       "      <td>658.500000</td>\n",
       "      <td>1.500000</td>\n",
       "    </tr>\n",
       "    <tr>\n",
       "      <th>1457</th>\n",
       "      <td>85.727997</td>\n",
       "      <td>81.564003</td>\n",
       "      <td>4.163994</td>\n",
       "    </tr>\n",
       "    <tr>\n",
       "      <th>553</th>\n",
       "      <td>19.086666</td>\n",
       "      <td>20.366667</td>\n",
       "      <td>1.280001</td>\n",
       "    </tr>\n",
       "    <tr>\n",
       "      <th>4811</th>\n",
       "      <td>396.649994</td>\n",
       "      <td>392.899994</td>\n",
       "      <td>3.750000</td>\n",
       "    </tr>\n",
       "    <tr>\n",
       "      <th>2480</th>\n",
       "      <td>111.599998</td>\n",
       "      <td>111.800003</td>\n",
       "      <td>0.200005</td>\n",
       "    </tr>\n",
       "    <tr>\n",
       "      <th>5931</th>\n",
       "      <td>610.700012</td>\n",
       "      <td>626.200012</td>\n",
       "      <td>15.500000</td>\n",
       "    </tr>\n",
       "    <tr>\n",
       "      <th>425</th>\n",
       "      <td>13.390666</td>\n",
       "      <td>13.390666</td>\n",
       "      <td>0.000000</td>\n",
       "    </tr>\n",
       "    <tr>\n",
       "      <th>2877</th>\n",
       "      <td>210.350006</td>\n",
       "      <td>201.750000</td>\n",
       "      <td>8.600006</td>\n",
       "    </tr>\n",
       "    <tr>\n",
       "      <th>5960</th>\n",
       "      <td>515.099976</td>\n",
       "      <td>504.100006</td>\n",
       "      <td>10.999970</td>\n",
       "    </tr>\n",
       "    <tr>\n",
       "      <th>4908</th>\n",
       "      <td>514.299988</td>\n",
       "      <td>513.650024</td>\n",
       "      <td>0.649964</td>\n",
       "    </tr>\n",
       "  </tbody>\n",
       "</table>\n",
       "</div>"
      ],
      "text/plain": [
       "          Actual   Predicted  Difference\n",
       "5085  660.000000  658.500000    1.500000\n",
       "1457   85.727997   81.564003    4.163994\n",
       "553    19.086666   20.366667    1.280001\n",
       "4811  396.649994  392.899994    3.750000\n",
       "2480  111.599998  111.800003    0.200005\n",
       "5931  610.700012  626.200012   15.500000\n",
       "425    13.390666   13.390666    0.000000\n",
       "2877  210.350006  201.750000    8.600006\n",
       "5960  515.099976  504.100006   10.999970\n",
       "4908  514.299988  513.650024    0.649964"
      ]
     },
     "execution_count": 19,
     "metadata": {},
     "output_type": "execute_result"
    }
   ],
   "source": [
    "#predicting stock price using our model\n",
    "preds_dt = model_dt.predict(x_test)\n",
    "\n",
    "dfpred_dt = pd.DataFrame({'Actual':y_test,'Predicted':preds_dt, 'Difference':abs(y_test-preds_dt)})\n",
    "dfpred_dt.head(10)"
   ]
  },
  {
   "cell_type": "code",
   "execution_count": 20,
   "id": "nasty-hawaiian",
   "metadata": {},
   "outputs": [
    {
     "name": "stdout",
     "output_type": "stream",
     "text": [
      "Score: 0.9983175517591709\n",
      "Mean Absolute Error: 5.3715133582304535\n",
      "Mean Squared  Error: 81.68591019288546\n",
      "Root Mean Squared Error: 9.038025790673839\n",
      "Loss: 5.3715133582304535\n"
     ]
    }
   ],
   "source": [
    "#Different Metrics calculated using our model\n",
    "print(\"Score:\", model_dt.score(x_test,y_test))\n",
    "print('Mean Absolute Error:',metrics.mean_absolute_error(y_test,preds_dt))\n",
    "print('Mean Squared  Error:',metrics.mean_squared_error(y_test,preds_dt))\n",
    "print('Root Mean Squared Error:',(metrics.mean_squared_error(y_test,preds_dt))**0.5)\n",
    "print('Loss:', abs(y_test-preds_dt).mean())"
   ]
  },
  {
   "cell_type": "markdown",
   "id": "encouraging-stanford",
   "metadata": {},
   "source": [
    "---\n",
    "# Linear Regression"
   ]
  },
  {
   "cell_type": "code",
   "execution_count": 21,
   "id": "theoretical-condition",
   "metadata": {
    "tags": []
   },
   "outputs": [
    {
     "data": {
      "text/plain": [
       "LinearRegression()"
      ]
     },
     "execution_count": 21,
     "metadata": {},
     "output_type": "execute_result"
    }
   ],
   "source": [
    "#linear Regression\n",
    "model_lr = LinearRegression()\n",
    "model_lr.fit(x_train,y_train)"
   ]
  },
  {
   "cell_type": "code",
   "execution_count": 22,
   "id": "social-bubble",
   "metadata": {},
   "outputs": [
    {
     "name": "stdout",
     "output_type": "stream",
     "text": [
      "[-9.64465757e-03  2.29525890e-02  1.21268308e-01  1.06188826e-07\n",
      "  8.66333737e-01]\n",
      "0.09924827903438427\n"
     ]
    }
   ],
   "source": [
    "#Coefficients and Intercept of LR\n",
    "print(model_lr.coef_)\n",
    "print(model_lr.intercept_)"
   ]
  },
  {
   "cell_type": "code",
   "execution_count": 23,
   "id": "internal-parade",
   "metadata": {},
   "outputs": [
    {
     "data": {
      "text/html": [
       "<div>\n",
       "<style scoped>\n",
       "    .dataframe tbody tr th:only-of-type {\n",
       "        vertical-align: middle;\n",
       "    }\n",
       "\n",
       "    .dataframe tbody tr th {\n",
       "        vertical-align: top;\n",
       "    }\n",
       "\n",
       "    .dataframe thead th {\n",
       "        text-align: right;\n",
       "    }\n",
       "</style>\n",
       "<table border=\"1\" class=\"dataframe\">\n",
       "  <thead>\n",
       "    <tr style=\"text-align: right;\">\n",
       "      <th></th>\n",
       "      <th>Actual</th>\n",
       "      <th>Predicted</th>\n",
       "      <th>Difference</th>\n",
       "    </tr>\n",
       "  </thead>\n",
       "  <tbody>\n",
       "    <tr>\n",
       "      <th>5085</th>\n",
       "      <td>660.000000</td>\n",
       "      <td>674.085499</td>\n",
       "      <td>14.085499</td>\n",
       "    </tr>\n",
       "    <tr>\n",
       "      <th>1457</th>\n",
       "      <td>85.727997</td>\n",
       "      <td>81.484562</td>\n",
       "      <td>4.243435</td>\n",
       "    </tr>\n",
       "    <tr>\n",
       "      <th>553</th>\n",
       "      <td>19.086666</td>\n",
       "      <td>19.247153</td>\n",
       "      <td>0.160487</td>\n",
       "    </tr>\n",
       "    <tr>\n",
       "      <th>4811</th>\n",
       "      <td>396.649994</td>\n",
       "      <td>403.782808</td>\n",
       "      <td>7.132814</td>\n",
       "    </tr>\n",
       "    <tr>\n",
       "      <th>2480</th>\n",
       "      <td>111.599998</td>\n",
       "      <td>111.300074</td>\n",
       "      <td>0.299924</td>\n",
       "    </tr>\n",
       "    <tr>\n",
       "      <th>5931</th>\n",
       "      <td>610.700012</td>\n",
       "      <td>621.186573</td>\n",
       "      <td>10.486561</td>\n",
       "    </tr>\n",
       "    <tr>\n",
       "      <th>425</th>\n",
       "      <td>13.390666</td>\n",
       "      <td>13.503971</td>\n",
       "      <td>0.113305</td>\n",
       "    </tr>\n",
       "    <tr>\n",
       "      <th>2877</th>\n",
       "      <td>210.350006</td>\n",
       "      <td>201.591472</td>\n",
       "      <td>8.758534</td>\n",
       "    </tr>\n",
       "    <tr>\n",
       "      <th>5960</th>\n",
       "      <td>515.099976</td>\n",
       "      <td>517.401694</td>\n",
       "      <td>2.301718</td>\n",
       "    </tr>\n",
       "    <tr>\n",
       "      <th>4908</th>\n",
       "      <td>514.299988</td>\n",
       "      <td>513.242062</td>\n",
       "      <td>1.057926</td>\n",
       "    </tr>\n",
       "  </tbody>\n",
       "</table>\n",
       "</div>"
      ],
      "text/plain": [
       "          Actual   Predicted  Difference\n",
       "5085  660.000000  674.085499   14.085499\n",
       "1457   85.727997   81.484562    4.243435\n",
       "553    19.086666   19.247153    0.160487\n",
       "4811  396.649994  403.782808    7.132814\n",
       "2480  111.599998  111.300074    0.299924\n",
       "5931  610.700012  621.186573   10.486561\n",
       "425    13.390666   13.503971    0.113305\n",
       "2877  210.350006  201.591472    8.758534\n",
       "5960  515.099976  517.401694    2.301718\n",
       "4908  514.299988  513.242062    1.057926"
      ]
     },
     "execution_count": 23,
     "metadata": {},
     "output_type": "execute_result"
    }
   ],
   "source": [
    "#predicting stock price using our model\n",
    "preds_lr = model_lr.predict(x_test)\n",
    "\n",
    "dfpred_lr = pd.DataFrame({'Actual':y_test,'Predicted':preds_lr, 'Difference':abs(y_test-preds_lr)})\n",
    "dfpred_lr.head(10)"
   ]
  },
  {
   "cell_type": "code",
   "execution_count": 24,
   "id": "meaning-laser",
   "metadata": {},
   "outputs": [
    {
     "name": "stdout",
     "output_type": "stream",
     "text": [
      "Score: 0.9991956219368711\n",
      "Mean Absolute Error: 3.4825767275192367\n",
      "Mean Squared  Error: 39.05401226102083\n",
      "Root Mean Squared Error: 6.249320943992301\n",
      "Loss: 3.4825767275192367\n"
     ]
    }
   ],
   "source": [
    "#Different Metrics calculated using our model\n",
    "print(\"Score:\", model_lr.score(x_test,y_test))\n",
    "print('Mean Absolute Error:',metrics.mean_absolute_error(y_test,preds_lr))\n",
    "print('Mean Squared  Error:',metrics.mean_squared_error(y_test,preds_lr))\n",
    "print('Root Mean Squared Error:',(metrics.mean_squared_error(y_test,preds_lr))**0.5)\n",
    "print('Loss:', abs(y_test-preds_lr).mean())"
   ]
  }
 ],
 "metadata": {
  "kernelspec": {
   "display_name": "Python 3.7.7 64-bit ('datascience': conda)",
   "language": "python",
   "name": "python37764bitdatascienceconda67e0b92c992c46d7a01f8ce74cfb6bf2"
  },
  "language_info": {
   "codemirror_mode": {
    "name": "ipython",
    "version": 3
   },
   "file_extension": ".py",
   "mimetype": "text/x-python",
   "name": "python",
   "nbconvert_exporter": "python",
   "pygments_lexer": "ipython3",
   "version": "3.7.10"
  }
 },
 "nbformat": 4,
 "nbformat_minor": 5
}
