{
 "cells": [
  {
   "cell_type": "code",
   "execution_count": 1,
   "id": "otherwise-participation",
   "metadata": {},
   "outputs": [],
   "source": [
    "#Importing Libraries\n",
    "import pandas as pd\n",
    "from sklearn.model_selection import train_test_split\n",
    "from sklearn.linear_model import LinearRegression\n",
    "from sklearn import metrics\n",
    "from sklearn.metrics import accuracy_score\n",
    "from sklearn.preprocessing import MinMaxScaler\n",
    "from sklearn.model_selection import GridSearchCV\n",
    "from sklearn.neighbors import KNeighborsRegressor\n",
    "from sklearn import neighbors\n",
    "from sklearn.tree import DecisionTreeRegressor \n",
    "from sklearn.ensemble import RandomForestRegressor \n",
    "from sklearn.model_selection import cross_val_score\n",
    "import numpy as np\n",
    "\n",
    "import matplotlib.pyplot as plt\n",
    "%matplotlib inline"
   ]
  },
  {
   "cell_type": "code",
   "execution_count": 2,
   "id": "separated-egypt",
   "metadata": {},
   "outputs": [
    {
     "name": "stdout",
     "output_type": "stream",
     "text": [
      "Shape -> (6358, 5)\n"
     ]
    },
    {
     "data": {
      "text/html": [
       "<div>\n",
       "<style scoped>\n",
       "    .dataframe tbody tr th:only-of-type {\n",
       "        vertical-align: middle;\n",
       "    }\n",
       "\n",
       "    .dataframe tbody tr th {\n",
       "        vertical-align: top;\n",
       "    }\n",
       "\n",
       "    .dataframe thead th {\n",
       "        text-align: right;\n",
       "    }\n",
       "</style>\n",
       "<table border=\"1\" class=\"dataframe\">\n",
       "  <thead>\n",
       "    <tr style=\"text-align: right;\">\n",
       "      <th></th>\n",
       "      <th>Open</th>\n",
       "      <th>High</th>\n",
       "      <th>Low</th>\n",
       "      <th>Close</th>\n",
       "      <th>Volume</th>\n",
       "    </tr>\n",
       "  </thead>\n",
       "  <tbody>\n",
       "    <tr>\n",
       "      <th>0</th>\n",
       "      <td>72.819626</td>\n",
       "      <td>72.819626</td>\n",
       "      <td>72.819626</td>\n",
       "      <td>72.819626</td>\n",
       "      <td>0.0</td>\n",
       "    </tr>\n",
       "    <tr>\n",
       "      <th>1</th>\n",
       "      <td>72.819626</td>\n",
       "      <td>72.819626</td>\n",
       "      <td>72.819626</td>\n",
       "      <td>72.819626</td>\n",
       "      <td>0.0</td>\n",
       "    </tr>\n",
       "    <tr>\n",
       "      <th>2</th>\n",
       "      <td>72.819626</td>\n",
       "      <td>72.819626</td>\n",
       "      <td>72.819626</td>\n",
       "      <td>72.819626</td>\n",
       "      <td>0.0</td>\n",
       "    </tr>\n",
       "    <tr>\n",
       "      <th>3</th>\n",
       "      <td>72.819626</td>\n",
       "      <td>72.819626</td>\n",
       "      <td>72.819626</td>\n",
       "      <td>72.819626</td>\n",
       "      <td>0.0</td>\n",
       "    </tr>\n",
       "    <tr>\n",
       "      <th>4</th>\n",
       "      <td>72.819626</td>\n",
       "      <td>72.819626</td>\n",
       "      <td>72.819626</td>\n",
       "      <td>72.819626</td>\n",
       "      <td>0.0</td>\n",
       "    </tr>\n",
       "  </tbody>\n",
       "</table>\n",
       "</div>"
      ],
      "text/plain": [
       "        Open       High        Low      Close  Volume\n",
       "0  72.819626  72.819626  72.819626  72.819626     0.0\n",
       "1  72.819626  72.819626  72.819626  72.819626     0.0\n",
       "2  72.819626  72.819626  72.819626  72.819626     0.0\n",
       "3  72.819626  72.819626  72.819626  72.819626     0.0\n",
       "4  72.819626  72.819626  72.819626  72.819626     0.0"
      ]
     },
     "execution_count": 2,
     "metadata": {},
     "output_type": "execute_result"
    }
   ],
   "source": [
    "#Reading dataset in pandas\n",
    "df = pd.read_csv(\"tatamotors.csv\")\n",
    "#Droping unwanted columns\n",
    "df.drop([\"Date\", \"Adj Close\"], axis=1, inplace=True)\n",
    "print(\"Shape ->\",df.shape)\n",
    "df.head()"
   ]
  },
  {
   "cell_type": "code",
   "execution_count": 3,
   "id": "objective-actor",
   "metadata": {},
   "outputs": [
    {
     "data": {
      "text/html": [
       "<div>\n",
       "<style scoped>\n",
       "    .dataframe tbody tr th:only-of-type {\n",
       "        vertical-align: middle;\n",
       "    }\n",
       "\n",
       "    .dataframe tbody tr th {\n",
       "        vertical-align: top;\n",
       "    }\n",
       "\n",
       "    .dataframe thead th {\n",
       "        text-align: right;\n",
       "    }\n",
       "</style>\n",
       "<table border=\"1\" class=\"dataframe\">\n",
       "  <thead>\n",
       "    <tr style=\"text-align: right;\">\n",
       "      <th></th>\n",
       "      <th>Open</th>\n",
       "      <th>High</th>\n",
       "      <th>Low</th>\n",
       "      <th>Close</th>\n",
       "      <th>Volume</th>\n",
       "    </tr>\n",
       "  </thead>\n",
       "  <tbody>\n",
       "    <tr>\n",
       "      <th>0</th>\n",
       "      <td>72.819626</td>\n",
       "      <td>72.819626</td>\n",
       "      <td>72.819626</td>\n",
       "      <td>NaN</td>\n",
       "      <td>0.0</td>\n",
       "    </tr>\n",
       "    <tr>\n",
       "      <th>1</th>\n",
       "      <td>72.819626</td>\n",
       "      <td>72.819626</td>\n",
       "      <td>72.819626</td>\n",
       "      <td>72.819626</td>\n",
       "      <td>0.0</td>\n",
       "    </tr>\n",
       "    <tr>\n",
       "      <th>2</th>\n",
       "      <td>72.819626</td>\n",
       "      <td>72.819626</td>\n",
       "      <td>72.819626</td>\n",
       "      <td>72.819626</td>\n",
       "      <td>0.0</td>\n",
       "    </tr>\n",
       "    <tr>\n",
       "      <th>3</th>\n",
       "      <td>72.819626</td>\n",
       "      <td>72.819626</td>\n",
       "      <td>72.819626</td>\n",
       "      <td>72.819626</td>\n",
       "      <td>0.0</td>\n",
       "    </tr>\n",
       "    <tr>\n",
       "      <th>4</th>\n",
       "      <td>72.819626</td>\n",
       "      <td>72.819626</td>\n",
       "      <td>72.819626</td>\n",
       "      <td>72.819626</td>\n",
       "      <td>0.0</td>\n",
       "    </tr>\n",
       "  </tbody>\n",
       "</table>\n",
       "</div>"
      ],
      "text/plain": [
       "        Open       High        Low      Close  Volume\n",
       "0  72.819626  72.819626  72.819626        NaN     0.0\n",
       "1  72.819626  72.819626  72.819626  72.819626     0.0\n",
       "2  72.819626  72.819626  72.819626  72.819626     0.0\n",
       "3  72.819626  72.819626  72.819626  72.819626     0.0\n",
       "4  72.819626  72.819626  72.819626  72.819626     0.0"
      ]
     },
     "execution_count": 3,
     "metadata": {},
     "output_type": "execute_result"
    }
   ],
   "source": [
    "#Shifting whole dataset down by one row so we can use yesterdays data to predict todays closing price\n",
    "df['Close'] =  df['Close'].shift(1)\n",
    "df.head()"
   ]
  },
  {
   "cell_type": "code",
   "execution_count": 4,
   "id": "vietnamese-teens",
   "metadata": {},
   "outputs": [
    {
     "data": {
      "text/html": [
       "<div>\n",
       "<style scoped>\n",
       "    .dataframe tbody tr th:only-of-type {\n",
       "        vertical-align: middle;\n",
       "    }\n",
       "\n",
       "    .dataframe tbody tr th {\n",
       "        vertical-align: top;\n",
       "    }\n",
       "\n",
       "    .dataframe thead th {\n",
       "        text-align: right;\n",
       "    }\n",
       "</style>\n",
       "<table border=\"1\" class=\"dataframe\">\n",
       "  <thead>\n",
       "    <tr style=\"text-align: right;\">\n",
       "      <th></th>\n",
       "      <th>Open</th>\n",
       "      <th>High</th>\n",
       "      <th>Low</th>\n",
       "      <th>Volume</th>\n",
       "      <th>Close</th>\n",
       "    </tr>\n",
       "  </thead>\n",
       "  <tbody>\n",
       "    <tr>\n",
       "      <th>0</th>\n",
       "      <td>72.819626</td>\n",
       "      <td>72.819626</td>\n",
       "      <td>72.819626</td>\n",
       "      <td>0.0</td>\n",
       "      <td>NaN</td>\n",
       "    </tr>\n",
       "    <tr>\n",
       "      <th>1</th>\n",
       "      <td>72.819626</td>\n",
       "      <td>72.819626</td>\n",
       "      <td>72.819626</td>\n",
       "      <td>0.0</td>\n",
       "      <td>72.819626</td>\n",
       "    </tr>\n",
       "    <tr>\n",
       "      <th>2</th>\n",
       "      <td>72.819626</td>\n",
       "      <td>72.819626</td>\n",
       "      <td>72.819626</td>\n",
       "      <td>0.0</td>\n",
       "      <td>72.819626</td>\n",
       "    </tr>\n",
       "    <tr>\n",
       "      <th>3</th>\n",
       "      <td>72.819626</td>\n",
       "      <td>72.819626</td>\n",
       "      <td>72.819626</td>\n",
       "      <td>0.0</td>\n",
       "      <td>72.819626</td>\n",
       "    </tr>\n",
       "    <tr>\n",
       "      <th>4</th>\n",
       "      <td>72.819626</td>\n",
       "      <td>72.819626</td>\n",
       "      <td>72.819626</td>\n",
       "      <td>0.0</td>\n",
       "      <td>72.819626</td>\n",
       "    </tr>\n",
       "  </tbody>\n",
       "</table>\n",
       "</div>"
      ],
      "text/plain": [
       "        Open       High        Low  Volume      Close\n",
       "0  72.819626  72.819626  72.819626     0.0        NaN\n",
       "1  72.819626  72.819626  72.819626     0.0  72.819626\n",
       "2  72.819626  72.819626  72.819626     0.0  72.819626\n",
       "3  72.819626  72.819626  72.819626     0.0  72.819626\n",
       "4  72.819626  72.819626  72.819626     0.0  72.819626"
      ]
     },
     "execution_count": 4,
     "metadata": {},
     "output_type": "execute_result"
    }
   ],
   "source": [
    "#Reordering columns\n",
    "df = df[['Open', 'High', 'Low', 'Volume', 'Close']]\n",
    "df.head()"
   ]
  },
  {
   "cell_type": "code",
   "execution_count": 5,
   "id": "dressed-princess",
   "metadata": {},
   "outputs": [
    {
     "data": {
      "text/plain": [
       "Open      14\n",
       "High      14\n",
       "Low       14\n",
       "Volume    14\n",
       "Close     15\n",
       "dtype: int64"
      ]
     },
     "execution_count": 5,
     "metadata": {},
     "output_type": "execute_result"
    }
   ],
   "source": [
    "#Checking for nulls\n",
    "df.isnull().sum()"
   ]
  },
  {
   "cell_type": "code",
   "execution_count": 6,
   "id": "engaging-heater",
   "metadata": {},
   "outputs": [
    {
     "data": {
      "text/plain": [
       "Open      0\n",
       "High      0\n",
       "Low       0\n",
       "Volume    0\n",
       "Close     0\n",
       "dtype: int64"
      ]
     },
     "execution_count": 6,
     "metadata": {},
     "output_type": "execute_result"
    }
   ],
   "source": [
    "#Filling null values using pad values, will fill next rows values to empty cells\n",
    "df.fillna(method='bfill', inplace=True)\n",
    "df.isnull().sum()"
   ]
  },
  {
   "cell_type": "code",
   "execution_count": 7,
   "id": "social-trailer",
   "metadata": {},
   "outputs": [
    {
     "data": {
      "text/plain": [
       "<AxesSubplot:>"
      ]
     },
     "execution_count": 7,
     "metadata": {},
     "output_type": "execute_result"
    },
    {
     "data": {
      "image/png": "[encoded data removed]",
      "text/plain": [
       "<Figure size 1440x648 with 1 Axes>"
      ]
     },
     "metadata": {
      "needs_background": "light"
     },
     "output_type": "display_data"
    }
   ],
   "source": [
    "#Dataset Plotted\n",
    "df['Close'].plot(figsize=(20,9))"
   ]
  },
  {
   "cell_type": "code",
   "execution_count": 8,
   "id": "julian-kelly",
   "metadata": {},
   "outputs": [],
   "source": [
    "#columns for x and y\n",
    "x  = df[['Open','High','Low','Volume']]\n",
    "y = df['Close']"
   ]
  },
  {
   "cell_type": "code",
   "execution_count": 9,
   "id": "speaking-indicator",
   "metadata": {},
   "outputs": [
    {
     "data": {
      "text/html": [
       "<div>\n",
       "<style scoped>\n",
       "    .dataframe tbody tr th:only-of-type {\n",
       "        vertical-align: middle;\n",
       "    }\n",
       "\n",
       "    .dataframe tbody tr th {\n",
       "        vertical-align: top;\n",
       "    }\n",
       "\n",
       "    .dataframe thead th {\n",
       "        text-align: right;\n",
       "    }\n",
       "</style>\n",
       "<table border=\"1\" class=\"dataframe\">\n",
       "  <thead>\n",
       "    <tr style=\"text-align: right;\">\n",
       "      <th></th>\n",
       "      <th>Open</th>\n",
       "      <th>High</th>\n",
       "      <th>Low</th>\n",
       "      <th>Volume</th>\n",
       "      <th>Close</th>\n",
       "    </tr>\n",
       "  </thead>\n",
       "  <tbody>\n",
       "    <tr>\n",
       "      <th>0</th>\n",
       "      <td>0.104745</td>\n",
       "      <td>0.102963</td>\n",
       "      <td>0.106749</td>\n",
       "      <td>0.0</td>\n",
       "      <td>72.819626</td>\n",
       "    </tr>\n",
       "    <tr>\n",
       "      <th>1</th>\n",
       "      <td>0.104745</td>\n",
       "      <td>0.102963</td>\n",
       "      <td>0.106749</td>\n",
       "      <td>0.0</td>\n",
       "      <td>72.819626</td>\n",
       "    </tr>\n",
       "    <tr>\n",
       "      <th>2</th>\n",
       "      <td>0.104745</td>\n",
       "      <td>0.102963</td>\n",
       "      <td>0.106749</td>\n",
       "      <td>0.0</td>\n",
       "      <td>72.819626</td>\n",
       "    </tr>\n",
       "    <tr>\n",
       "      <th>3</th>\n",
       "      <td>0.104745</td>\n",
       "      <td>0.102963</td>\n",
       "      <td>0.106749</td>\n",
       "      <td>0.0</td>\n",
       "      <td>72.819626</td>\n",
       "    </tr>\n",
       "    <tr>\n",
       "      <th>4</th>\n",
       "      <td>0.104745</td>\n",
       "      <td>0.102963</td>\n",
       "      <td>0.106749</td>\n",
       "      <td>0.0</td>\n",
       "      <td>72.819626</td>\n",
       "    </tr>\n",
       "  </tbody>\n",
       "</table>\n",
       "</div>"
      ],
      "text/plain": [
       "       Open      High       Low  Volume      Close\n",
       "0  0.104745  0.102963  0.106749     0.0  72.819626\n",
       "1  0.104745  0.102963  0.106749     0.0  72.819626\n",
       "2  0.104745  0.102963  0.106749     0.0  72.819626\n",
       "3  0.104745  0.102963  0.106749     0.0  72.819626\n",
       "4  0.104745  0.102963  0.106749     0.0  72.819626"
      ]
     },
     "execution_count": 9,
     "metadata": {},
     "output_type": "execute_result"
    }
   ],
   "source": [
    "#Normalising data\n",
    "scaler = MinMaxScaler()\n",
    "df[['Open','High','Low','Volume']] = scaler.fit_transform(df[['Open','High','Low','Volume']])\n",
    "df.head()"
   ]
  },
  {
   "cell_type": "code",
   "execution_count": 10,
   "id": "cubic-europe",
   "metadata": {},
   "outputs": [
    {
     "name": "stdout",
     "output_type": "stream",
     "text": [
      "(4768, 4)\n",
      "(1590, 4)\n",
      "(4768,)\n",
      "(1590,)\n"
     ]
    }
   ],
   "source": [
    "#Splitting data\n",
    "x_train , x_test , y_train , y_test = train_test_split(x ,y)\n",
    "print(x_train.shape)\n",
    "print(x_test.shape)\n",
    "print(y_train.shape)\n",
    "print(y_test.shape)"
   ]
  },
  {
   "cell_type": "markdown",
   "id": "rising-doubt",
   "metadata": {},
   "source": [
    "---\n",
    "# Random Forest"
   ]
  },
  {
   "cell_type": "code",
   "execution_count": 11,
   "id": "addressed-alcohol",
   "metadata": {},
   "outputs": [
    {
     "data": {
      "text/plain": [
       "RandomForestRegressor(random_state=0)"
      ]
     },
     "execution_count": 11,
     "metadata": {},
     "output_type": "execute_result"
    }
   ],
   "source": [
    "model_rf = RandomForestRegressor(n_estimators = 100, random_state = 0) \n",
    "model_rf.fit(x_train, y_train)   "
   ]
  },
  {
   "cell_type": "code",
   "execution_count": 12,
   "id": "north-assignment",
   "metadata": {},
   "outputs": [
    {
     "data": {
      "text/html": [
       "<div>\n",
       "<style scoped>\n",
       "    .dataframe tbody tr th:only-of-type {\n",
       "        vertical-align: middle;\n",
       "    }\n",
       "\n",
       "    .dataframe tbody tr th {\n",
       "        vertical-align: top;\n",
       "    }\n",
       "\n",
       "    .dataframe thead th {\n",
       "        text-align: right;\n",
       "    }\n",
       "</style>\n",
       "<table border=\"1\" class=\"dataframe\">\n",
       "  <thead>\n",
       "    <tr style=\"text-align: right;\">\n",
       "      <th></th>\n",
       "      <th>Actual</th>\n",
       "      <th>Predicted</th>\n",
       "    </tr>\n",
       "  </thead>\n",
       "  <tbody>\n",
       "    <tr>\n",
       "      <th>5183</th>\n",
       "      <td>467.149994</td>\n",
       "      <td>464.523172</td>\n",
       "    </tr>\n",
       "    <tr>\n",
       "      <th>5949</th>\n",
       "      <td>160.750000</td>\n",
       "      <td>160.656705</td>\n",
       "    </tr>\n",
       "    <tr>\n",
       "      <th>4726</th>\n",
       "      <td>456.206726</td>\n",
       "      <td>450.553171</td>\n",
       "    </tr>\n",
       "    <tr>\n",
       "      <th>4625</th>\n",
       "      <td>412.525269</td>\n",
       "      <td>409.546977</td>\n",
       "    </tr>\n",
       "    <tr>\n",
       "      <th>3886</th>\n",
       "      <td>230.190964</td>\n",
       "      <td>230.017524</td>\n",
       "    </tr>\n",
       "  </tbody>\n",
       "</table>\n",
       "</div>"
      ],
      "text/plain": [
       "          Actual   Predicted\n",
       "5183  467.149994  464.523172\n",
       "5949  160.750000  160.656705\n",
       "4726  456.206726  450.553171\n",
       "4625  412.525269  409.546977\n",
       "3886  230.190964  230.017524"
      ]
     },
     "execution_count": 12,
     "metadata": {},
     "output_type": "execute_result"
    }
   ],
   "source": [
    "preds_rf = model_rf.predict(x_test)\n",
    "dfpred_rf = pd.DataFrame({'Actual':y_test,'Predicted':preds_rf})\n",
    "dfpred_rf.head()"
   ]
  },
  {
   "cell_type": "code",
   "execution_count": 13,
   "id": "iraqi-algorithm",
   "metadata": {},
   "outputs": [
    {
     "name": "stdout",
     "output_type": "stream",
     "text": [
      "Score: 0.9996394166788051\n",
      "Mean Absolute Error: 1.5103759425992624\n",
      "Mean Squared  Error: 8.126120347052012\n",
      "Root Mean Squared Error: 2.850635077847042\n"
     ]
    }
   ],
   "source": [
    "#Different Metrics calculated using our model\n",
    "print(\"Score:\", model_rf.score(x_test, y_test))\n",
    "print('Mean Absolute Error:',metrics.mean_absolute_error(y_test,preds_rf))\n",
    "print('Mean Squared  Error:',metrics.mean_squared_error(y_test,preds_rf))\n",
    "print('Root Mean Squared Error:',(metrics.mean_squared_error(y_test,preds_rf))**0.5)"
   ]
  },
  {
   "cell_type": "markdown",
   "id": "successful-syria",
   "metadata": {},
   "source": [
    "---\n",
    "# k-NN"
   ]
  },
  {
   "cell_type": "code",
   "execution_count": 14,
   "id": "synthetic-backup",
   "metadata": {},
   "outputs": [],
   "source": [
    "#using gridsearch to find the best parameter\n",
    "params = {'n_neighbors':[1,2,3,4,5,6,7,8,9,10,11,12,13,14]}\n",
    "knn = neighbors.KNeighborsRegressor()\n",
    "model_knn = GridSearchCV(knn, params, cv=7)"
   ]
  },
  {
   "cell_type": "code",
   "execution_count": 15,
   "id": "circular-instrument",
   "metadata": {},
   "outputs": [
    {
     "name": "stdout",
     "output_type": "stream",
     "text": [
      "KNeighborsRegressor(n_neighbors=14)\n"
     ]
    }
   ],
   "source": [
    "model_knn.fit(x_train,y_train)\n",
    "preds_knn = model_knn.predict(x_test)\n",
    "print(model_knn.best_estimator_) "
   ]
  },
  {
   "cell_type": "code",
   "execution_count": 16,
   "id": "caring-service",
   "metadata": {},
   "outputs": [
    {
     "data": {
      "text/plain": [
       "{'cv': 7,\n",
       " 'error_score': nan,\n",
       " 'estimator__algorithm': 'auto',\n",
       " 'estimator__leaf_size': 30,\n",
       " 'estimator__metric': 'minkowski',\n",
       " 'estimator__metric_params': None,\n",
       " 'estimator__n_jobs': None,\n",
       " 'estimator__n_neighbors': 5,\n",
       " 'estimator__p': 2,\n",
       " 'estimator__weights': 'uniform',\n",
       " 'estimator': KNeighborsRegressor(),\n",
       " 'n_jobs': None,\n",
       " 'param_grid': {'n_neighbors': [1,\n",
       "   2,\n",
       "   3,\n",
       "   4,\n",
       "   5,\n",
       "   6,\n",
       "   7,\n",
       "   8,\n",
       "   9,\n",
       "   10,\n",
       "   11,\n",
       "   12,\n",
       "   13,\n",
       "   14]},\n",
       " 'pre_dispatch': '2*n_jobs',\n",
       " 'refit': True,\n",
       " 'return_train_score': False,\n",
       " 'scoring': None,\n",
       " 'verbose': 0}"
      ]
     },
     "execution_count": 16,
     "metadata": {},
     "output_type": "execute_result"
    }
   ],
   "source": [
    "model_knn.get_params()"
   ]
  },
  {
   "cell_type": "code",
   "execution_count": 17,
   "id": "aggregate-thread",
   "metadata": {},
   "outputs": [
    {
     "data": {
      "text/html": [
       "<div>\n",
       "<style scoped>\n",
       "    .dataframe tbody tr th:only-of-type {\n",
       "        vertical-align: middle;\n",
       "    }\n",
       "\n",
       "    .dataframe tbody tr th {\n",
       "        vertical-align: top;\n",
       "    }\n",
       "\n",
       "    .dataframe thead th {\n",
       "        text-align: right;\n",
       "    }\n",
       "</style>\n",
       "<table border=\"1\" class=\"dataframe\">\n",
       "  <thead>\n",
       "    <tr style=\"text-align: right;\">\n",
       "      <th></th>\n",
       "      <th>Actual</th>\n",
       "      <th>Predicted</th>\n",
       "    </tr>\n",
       "  </thead>\n",
       "  <tbody>\n",
       "    <tr>\n",
       "      <th>5183</th>\n",
       "      <td>467.149994</td>\n",
       "      <td>241.910575</td>\n",
       "    </tr>\n",
       "    <tr>\n",
       "      <th>5949</th>\n",
       "      <td>160.750000</td>\n",
       "      <td>152.060340</td>\n",
       "    </tr>\n",
       "    <tr>\n",
       "      <th>4726</th>\n",
       "      <td>456.206726</td>\n",
       "      <td>158.597794</td>\n",
       "    </tr>\n",
       "    <tr>\n",
       "      <th>4625</th>\n",
       "      <td>412.525269</td>\n",
       "      <td>180.225742</td>\n",
       "    </tr>\n",
       "    <tr>\n",
       "      <th>3886</th>\n",
       "      <td>230.190964</td>\n",
       "      <td>249.335769</td>\n",
       "    </tr>\n",
       "  </tbody>\n",
       "</table>\n",
       "</div>"
      ],
      "text/plain": [
       "          Actual   Predicted\n",
       "5183  467.149994  241.910575\n",
       "5949  160.750000  152.060340\n",
       "4726  456.206726  158.597794\n",
       "4625  412.525269  180.225742\n",
       "3886  230.190964  249.335769"
      ]
     },
     "execution_count": 17,
     "metadata": {},
     "output_type": "execute_result"
    }
   ],
   "source": [
    "dfpred_knn = pd.DataFrame({'Actual':y_test,'Predicted':preds_knn})\n",
    "dfpred_knn.head()"
   ]
  },
  {
   "cell_type": "code",
   "execution_count": 18,
   "id": "applicable-placement",
   "metadata": {},
   "outputs": [
    {
     "name": "stdout",
     "output_type": "stream",
     "text": [
      "Score: 0.08796975564061849\n",
      "Mean Absolute Error: 112.93847623203054\n",
      "Mean Squared  Error: 20553.550567052593\n",
      "Root Mean Squared Error: 143.365095358154\n"
     ]
    }
   ],
   "source": [
    "#Different Metrics calculated using our model\n",
    "print(\"Score:\", model_knn.score(x_test, y_test))\n",
    "print('Mean Absolute Error:',metrics.mean_absolute_error(y_test,preds_knn))\n",
    "print('Mean Squared  Error:',metrics.mean_squared_error(y_test,preds_knn))\n",
    "print('Root Mean Squared Error:',(metrics.mean_squared_error(y_test,preds_knn))**0.5)"
   ]
  },
  {
   "cell_type": "markdown",
   "id": "greater-bulgaria",
   "metadata": {},
   "source": [
    "---\n",
    "# Decision Tree"
   ]
  },
  {
   "cell_type": "code",
   "execution_count": 19,
   "id": "early-cycle",
   "metadata": {},
   "outputs": [
    {
     "data": {
      "text/plain": [
       "DecisionTreeRegressor()"
      ]
     },
     "execution_count": 19,
     "metadata": {},
     "output_type": "execute_result"
    }
   ],
   "source": [
    "model_dt = DecisionTreeRegressor()\n",
    "model_dt.fit(x_train,y_train)"
   ]
  },
  {
   "cell_type": "code",
   "execution_count": 20,
   "id": "extraordinary-mainstream",
   "metadata": {},
   "outputs": [
    {
     "data": {
      "text/html": [
       "<div>\n",
       "<style scoped>\n",
       "    .dataframe tbody tr th:only-of-type {\n",
       "        vertical-align: middle;\n",
       "    }\n",
       "\n",
       "    .dataframe tbody tr th {\n",
       "        vertical-align: top;\n",
       "    }\n",
       "\n",
       "    .dataframe thead th {\n",
       "        text-align: right;\n",
       "    }\n",
       "</style>\n",
       "<table border=\"1\" class=\"dataframe\">\n",
       "  <thead>\n",
       "    <tr style=\"text-align: right;\">\n",
       "      <th></th>\n",
       "      <th>Actual</th>\n",
       "      <th>Predicted</th>\n",
       "    </tr>\n",
       "  </thead>\n",
       "  <tbody>\n",
       "    <tr>\n",
       "      <th>5183</th>\n",
       "      <td>467.149994</td>\n",
       "      <td>467.399994</td>\n",
       "    </tr>\n",
       "    <tr>\n",
       "      <th>5949</th>\n",
       "      <td>160.750000</td>\n",
       "      <td>160.993195</td>\n",
       "    </tr>\n",
       "    <tr>\n",
       "      <th>4726</th>\n",
       "      <td>456.206726</td>\n",
       "      <td>452.350006</td>\n",
       "    </tr>\n",
       "    <tr>\n",
       "      <th>4625</th>\n",
       "      <td>412.525269</td>\n",
       "      <td>411.350006</td>\n",
       "    </tr>\n",
       "    <tr>\n",
       "      <th>3886</th>\n",
       "      <td>230.190964</td>\n",
       "      <td>229.963409</td>\n",
       "    </tr>\n",
       "  </tbody>\n",
       "</table>\n",
       "</div>"
      ],
      "text/plain": [
       "          Actual   Predicted\n",
       "5183  467.149994  467.399994\n",
       "5949  160.750000  160.993195\n",
       "4726  456.206726  452.350006\n",
       "4625  412.525269  411.350006\n",
       "3886  230.190964  229.963409"
      ]
     },
     "execution_count": 20,
     "metadata": {},
     "output_type": "execute_result"
    }
   ],
   "source": [
    "#predicting stock price using our model\n",
    "preds_dt = model_dt.predict(x_test)\n",
    "dfpred_dt = pd.DataFrame({'Actual':y_test,'Predicted':preds_dt})\n",
    "dfpred_dt.head()"
   ]
  },
  {
   "cell_type": "code",
   "execution_count": 21,
   "id": "olympic-advocate",
   "metadata": {},
   "outputs": [
    {
     "name": "stdout",
     "output_type": "stream",
     "text": [
      "Score: 0.9993986144534278\n",
      "Mean Absolute Error: 1.9385524764150948\n",
      "Mean Squared  Error: 13.552849061983713\n",
      "Root Mean Squared Error: 3.6814194357589454\n"
     ]
    }
   ],
   "source": [
    "#Different Metrics calculated using our model\n",
    "print(\"Score:\", model_dt.score(x_test,y_test))\n",
    "print('Mean Absolute Error:',metrics.mean_absolute_error(y_test,preds_dt))\n",
    "print('Mean Squared  Error:',metrics.mean_squared_error(y_test,preds_dt))\n",
    "print('Root Mean Squared Error:',(metrics.mean_squared_error(y_test,preds_dt))**0.5)"
   ]
  },
  {
   "cell_type": "markdown",
   "id": "funky-ghana",
   "metadata": {},
   "source": [
    "---\n",
    "# Linear Regression"
   ]
  },
  {
   "cell_type": "code",
   "execution_count": 22,
   "id": "express-primary",
   "metadata": {
    "tags": []
   },
   "outputs": [
    {
     "data": {
      "text/plain": [
       "LinearRegression()"
      ]
     },
     "execution_count": 22,
     "metadata": {},
     "output_type": "execute_result"
    }
   ],
   "source": [
    "#linear Regression\n",
    "model_lr = LinearRegression()\n",
    "model_lr.fit(x_train,y_train)"
   ]
  },
  {
   "cell_type": "code",
   "execution_count": 23,
   "id": "personal-start",
   "metadata": {},
   "outputs": [
    {
     "name": "stdout",
     "output_type": "stream",
     "text": [
      "[ 9.42527668e-01  1.24273069e-01 -7.11533626e-02 -1.46467323e-08]\n",
      "0.10313685222894264\n"
     ]
    }
   ],
   "source": [
    "#Coefficients and Intercept of LR\n",
    "print(model_lr.coef_)\n",
    "print(model_lr.intercept_)"
   ]
  },
  {
   "cell_type": "code",
   "execution_count": 24,
   "id": "planned-panel",
   "metadata": {},
   "outputs": [],
   "source": [
    "#predicting stock price using our model\n",
    "preds_lr = model_lr.predict(x_test)"
   ]
  },
  {
   "cell_type": "code",
   "execution_count": 25,
   "id": "played-preview",
   "metadata": {},
   "outputs": [
    {
     "data": {
      "text/html": [
       "<div>\n",
       "<style scoped>\n",
       "    .dataframe tbody tr th:only-of-type {\n",
       "        vertical-align: middle;\n",
       "    }\n",
       "\n",
       "    .dataframe tbody tr th {\n",
       "        vertical-align: top;\n",
       "    }\n",
       "\n",
       "    .dataframe thead th {\n",
       "        text-align: right;\n",
       "    }\n",
       "</style>\n",
       "<table border=\"1\" class=\"dataframe\">\n",
       "  <thead>\n",
       "    <tr style=\"text-align: right;\">\n",
       "      <th></th>\n",
       "      <th>Actual</th>\n",
       "      <th>Predicted</th>\n",
       "    </tr>\n",
       "  </thead>\n",
       "  <tbody>\n",
       "    <tr>\n",
       "      <th>5183</th>\n",
       "      <td>467.149994</td>\n",
       "      <td>465.590067</td>\n",
       "    </tr>\n",
       "    <tr>\n",
       "      <th>5949</th>\n",
       "      <td>160.750000</td>\n",
       "      <td>161.231609</td>\n",
       "    </tr>\n",
       "    <tr>\n",
       "      <th>4726</th>\n",
       "      <td>456.206726</td>\n",
       "      <td>451.701982</td>\n",
       "    </tr>\n",
       "    <tr>\n",
       "      <th>4625</th>\n",
       "      <td>412.525269</td>\n",
       "      <td>409.289203</td>\n",
       "    </tr>\n",
       "    <tr>\n",
       "      <th>3886</th>\n",
       "      <td>230.190964</td>\n",
       "      <td>230.134434</td>\n",
       "    </tr>\n",
       "  </tbody>\n",
       "</table>\n",
       "</div>"
      ],
      "text/plain": [
       "          Actual   Predicted\n",
       "5183  467.149994  465.590067\n",
       "5949  160.750000  161.231609\n",
       "4726  456.206726  451.701982\n",
       "4625  412.525269  409.289203\n",
       "3886  230.190964  230.134434"
      ]
     },
     "execution_count": 25,
     "metadata": {},
     "output_type": "execute_result"
    }
   ],
   "source": [
    "dfpred_lr = pd.DataFrame({'Actual':y_test,'Predicted':preds_lr})\n",
    "dfpred_lr.head()"
   ]
  },
  {
   "cell_type": "code",
   "execution_count": 26,
   "id": "circular-round",
   "metadata": {},
   "outputs": [
    {
     "name": "stdout",
     "output_type": "stream",
     "text": [
      "Score: 0.9997040252146184\n",
      "Mean Absolute Error: 1.3091678051683675\n",
      "Mean Squared  Error: 6.670099764273829\n",
      "Root Mean Squared Error: 2.5826536283973174\n"
     ]
    }
   ],
   "source": [
    "#Different Metrics calculated using our model\n",
    "print(\"Score:\", model_lr.score(x_test,y_test))\n",
    "print('Mean Absolute Error:',metrics.mean_absolute_error(y_test,preds_lr))\n",
    "print('Mean Squared  Error:',metrics.mean_squared_error(y_test,preds_lr))\n",
    "print('Root Mean Squared Error:',(metrics.mean_squared_error(y_test,preds_lr))**0.5)"
   ]
  }
 ],
 "metadata": {
  "kernelspec": {
   "display_name": "Python 3.7.7 64-bit ('datascience': conda)",
   "language": "python",
   "name": "python37764bitdatascienceconda67e0b92c992c46d7a01f8ce74cfb6bf2"
  },
  "language_info": {
   "codemirror_mode": {
    "name": "ipython",
    "version": 3
   },
   "file_extension": ".py",
   "mimetype": "text/x-python",
   "name": "python",
   "nbconvert_exporter": "python",
   "pygments_lexer": "ipython3",
   "version": "3.7.10"
  }
 },
 "nbformat": 4,
 "nbformat_minor": 5
}
