{
 "cells": [
  {
   "cell_type": "code",
   "execution_count": 1,
   "id": "offensive-identifier",
   "metadata": {},
   "outputs": [],
   "source": [
    "#Importing Libraries\n",
    "import pandas as pd\n",
    "from sklearn.model_selection import train_test_split\n",
    "from sklearn.linear_model import LinearRegression\n",
    "from sklearn import metrics\n",
    "from sklearn.metrics import accuracy_score\n",
    "from sklearn.preprocessing import MinMaxScaler\n",
    "from sklearn.model_selection import GridSearchCV\n",
    "from sklearn.neighbors import KNeighborsRegressor\n",
    "from sklearn import neighbors\n",
    "from sklearn.tree import DecisionTreeRegressor \n",
    "from sklearn.ensemble import RandomForestRegressor \n",
    "import numpy as np\n",
    "\n",
    "import matplotlib.pyplot as plt\n",
    "%matplotlib inline"
   ]
  },
  {
   "cell_type": "code",
   "execution_count": 2,
   "id": "prescription-walker",
   "metadata": {},
   "outputs": [
    {
     "name": "stdout",
     "output_type": "stream",
     "text": [
      "Shape -> (4751, 5)\n"
     ]
    },
    {
     "data": {
      "text/html": [
       "<div>\n",
       "<style scoped>\n",
       "    .dataframe tbody tr th:only-of-type {\n",
       "        vertical-align: middle;\n",
       "    }\n",
       "\n",
       "    .dataframe tbody tr th {\n",
       "        vertical-align: top;\n",
       "    }\n",
       "\n",
       "    .dataframe thead th {\n",
       "        text-align: right;\n",
       "    }\n",
       "</style>\n",
       "<table border=\"1\" class=\"dataframe\">\n",
       "  <thead>\n",
       "    <tr style=\"text-align: right;\">\n",
       "      <th></th>\n",
       "      <th>Open</th>\n",
       "      <th>High</th>\n",
       "      <th>Low</th>\n",
       "      <th>Close</th>\n",
       "      <th>Volume</th>\n",
       "    </tr>\n",
       "  </thead>\n",
       "  <tbody>\n",
       "    <tr>\n",
       "      <th>0</th>\n",
       "      <td>18.268192</td>\n",
       "      <td>19.691093</td>\n",
       "      <td>18.245243</td>\n",
       "      <td>19.002592</td>\n",
       "      <td>2351048.0</td>\n",
       "    </tr>\n",
       "    <tr>\n",
       "      <th>1</th>\n",
       "      <td>19.507492</td>\n",
       "      <td>19.943542</td>\n",
       "      <td>19.277992</td>\n",
       "      <td>19.484543</td>\n",
       "      <td>1240948.0</td>\n",
       "    </tr>\n",
       "    <tr>\n",
       "      <th>2</th>\n",
       "      <td>19.255043</td>\n",
       "      <td>20.104193</td>\n",
       "      <td>19.163242</td>\n",
       "      <td>19.943542</td>\n",
       "      <td>908019.0</td>\n",
       "    </tr>\n",
       "    <tr>\n",
       "      <th>3</th>\n",
       "      <td>19.874693</td>\n",
       "      <td>19.966494</td>\n",
       "      <td>19.553392</td>\n",
       "      <td>19.576344</td>\n",
       "      <td>395880.0</td>\n",
       "    </tr>\n",
       "    <tr>\n",
       "      <th>4</th>\n",
       "      <td>19.736994</td>\n",
       "      <td>20.287792</td>\n",
       "      <td>19.622244</td>\n",
       "      <td>19.989443</td>\n",
       "      <td>595730.0</td>\n",
       "    </tr>\n",
       "  </tbody>\n",
       "</table>\n",
       "</div>"
      ],
      "text/plain": [
       "        Open       High        Low      Close     Volume\n",
       "0  18.268192  19.691093  18.245243  19.002592  2351048.0\n",
       "1  19.507492  19.943542  19.277992  19.484543  1240948.0\n",
       "2  19.255043  20.104193  19.163242  19.943542   908019.0\n",
       "3  19.874693  19.966494  19.553392  19.576344   395880.0\n",
       "4  19.736994  20.287792  19.622244  19.989443   595730.0"
      ]
     },
     "execution_count": 2,
     "metadata": {},
     "output_type": "execute_result"
    }
   ],
   "source": [
    "#Reading dataset in pandas\n",
    "df = pd.read_csv(\"airtel.csv\")\n",
    "#Droping unwanted columns\n",
    "df.drop([\"Date\", \"Adj Close\"], axis=1, inplace=True)\n",
    "print(\"Shape ->\",df.shape)\n",
    "df.head()"
   ]
  },
  {
   "cell_type": "code",
   "execution_count": 3,
   "id": "latter-shuttle",
   "metadata": {},
   "outputs": [
    {
     "data": {
      "text/html": [
       "<div>\n",
       "<style scoped>\n",
       "    .dataframe tbody tr th:only-of-type {\n",
       "        vertical-align: middle;\n",
       "    }\n",
       "\n",
       "    .dataframe tbody tr th {\n",
       "        vertical-align: top;\n",
       "    }\n",
       "\n",
       "    .dataframe thead th {\n",
       "        text-align: right;\n",
       "    }\n",
       "</style>\n",
       "<table border=\"1\" class=\"dataframe\">\n",
       "  <thead>\n",
       "    <tr style=\"text-align: right;\">\n",
       "      <th></th>\n",
       "      <th>Open</th>\n",
       "      <th>High</th>\n",
       "      <th>Low</th>\n",
       "      <th>Close</th>\n",
       "      <th>Volume</th>\n",
       "    </tr>\n",
       "  </thead>\n",
       "  <tbody>\n",
       "    <tr>\n",
       "      <th>0</th>\n",
       "      <td>18.268192</td>\n",
       "      <td>19.691093</td>\n",
       "      <td>18.245243</td>\n",
       "      <td>19.484543</td>\n",
       "      <td>2351048.0</td>\n",
       "    </tr>\n",
       "    <tr>\n",
       "      <th>1</th>\n",
       "      <td>19.507492</td>\n",
       "      <td>19.943542</td>\n",
       "      <td>19.277992</td>\n",
       "      <td>19.943542</td>\n",
       "      <td>1240948.0</td>\n",
       "    </tr>\n",
       "    <tr>\n",
       "      <th>2</th>\n",
       "      <td>19.255043</td>\n",
       "      <td>20.104193</td>\n",
       "      <td>19.163242</td>\n",
       "      <td>19.576344</td>\n",
       "      <td>908019.0</td>\n",
       "    </tr>\n",
       "    <tr>\n",
       "      <th>3</th>\n",
       "      <td>19.874693</td>\n",
       "      <td>19.966494</td>\n",
       "      <td>19.553392</td>\n",
       "      <td>19.989443</td>\n",
       "      <td>395880.0</td>\n",
       "    </tr>\n",
       "    <tr>\n",
       "      <th>4</th>\n",
       "      <td>19.736994</td>\n",
       "      <td>20.287792</td>\n",
       "      <td>19.622244</td>\n",
       "      <td>20.333693</td>\n",
       "      <td>595730.0</td>\n",
       "    </tr>\n",
       "  </tbody>\n",
       "</table>\n",
       "</div>"
      ],
      "text/plain": [
       "        Open       High        Low      Close     Volume\n",
       "0  18.268192  19.691093  18.245243  19.484543  2351048.0\n",
       "1  19.507492  19.943542  19.277992  19.943542  1240948.0\n",
       "2  19.255043  20.104193  19.163242  19.576344   908019.0\n",
       "3  19.874693  19.966494  19.553392  19.989443   395880.0\n",
       "4  19.736994  20.287792  19.622244  20.333693   595730.0"
      ]
     },
     "execution_count": 3,
     "metadata": {},
     "output_type": "execute_result"
    }
   ],
   "source": [
    "#Shifting whole dataset down by one row so we can use yesterdays data to predict todays closing price\n",
    "df['Close'] =  df['Close'].shift(-1)\n",
    "df.head()"
   ]
  },
  {
   "cell_type": "code",
   "execution_count": 4,
   "id": "electrical-taiwan",
   "metadata": {},
   "outputs": [
    {
     "data": {
      "text/html": [
       "<div>\n",
       "<style scoped>\n",
       "    .dataframe tbody tr th:only-of-type {\n",
       "        vertical-align: middle;\n",
       "    }\n",
       "\n",
       "    .dataframe tbody tr th {\n",
       "        vertical-align: top;\n",
       "    }\n",
       "\n",
       "    .dataframe thead th {\n",
       "        text-align: right;\n",
       "    }\n",
       "</style>\n",
       "<table border=\"1\" class=\"dataframe\">\n",
       "  <thead>\n",
       "    <tr style=\"text-align: right;\">\n",
       "      <th></th>\n",
       "      <th>Open</th>\n",
       "      <th>High</th>\n",
       "      <th>Low</th>\n",
       "      <th>Volume</th>\n",
       "      <th>Close</th>\n",
       "    </tr>\n",
       "  </thead>\n",
       "  <tbody>\n",
       "    <tr>\n",
       "      <th>0</th>\n",
       "      <td>18.268192</td>\n",
       "      <td>19.691093</td>\n",
       "      <td>18.245243</td>\n",
       "      <td>2351048.0</td>\n",
       "      <td>19.484543</td>\n",
       "    </tr>\n",
       "    <tr>\n",
       "      <th>1</th>\n",
       "      <td>19.507492</td>\n",
       "      <td>19.943542</td>\n",
       "      <td>19.277992</td>\n",
       "      <td>1240948.0</td>\n",
       "      <td>19.943542</td>\n",
       "    </tr>\n",
       "    <tr>\n",
       "      <th>2</th>\n",
       "      <td>19.255043</td>\n",
       "      <td>20.104193</td>\n",
       "      <td>19.163242</td>\n",
       "      <td>908019.0</td>\n",
       "      <td>19.576344</td>\n",
       "    </tr>\n",
       "    <tr>\n",
       "      <th>3</th>\n",
       "      <td>19.874693</td>\n",
       "      <td>19.966494</td>\n",
       "      <td>19.553392</td>\n",
       "      <td>395880.0</td>\n",
       "      <td>19.989443</td>\n",
       "    </tr>\n",
       "    <tr>\n",
       "      <th>4</th>\n",
       "      <td>19.736994</td>\n",
       "      <td>20.287792</td>\n",
       "      <td>19.622244</td>\n",
       "      <td>595730.0</td>\n",
       "      <td>20.333693</td>\n",
       "    </tr>\n",
       "  </tbody>\n",
       "</table>\n",
       "</div>"
      ],
      "text/plain": [
       "        Open       High        Low     Volume      Close\n",
       "0  18.268192  19.691093  18.245243  2351048.0  19.484543\n",
       "1  19.507492  19.943542  19.277992  1240948.0  19.943542\n",
       "2  19.255043  20.104193  19.163242   908019.0  19.576344\n",
       "3  19.874693  19.966494  19.553392   395880.0  19.989443\n",
       "4  19.736994  20.287792  19.622244   595730.0  20.333693"
      ]
     },
     "execution_count": 4,
     "metadata": {},
     "output_type": "execute_result"
    }
   ],
   "source": [
    "#Reordering columns\n",
    "df = df[['Open', 'High', 'Low', 'Volume', 'Close']]\n",
    "df.head()"
   ]
  },
  {
   "cell_type": "code",
   "execution_count": 5,
   "id": "parallel-kentucky",
   "metadata": {},
   "outputs": [
    {
     "data": {
      "text/plain": [
       "Open      0\n",
       "High      0\n",
       "Low       0\n",
       "Volume    0\n",
       "Close     0\n",
       "dtype: int64"
      ]
     },
     "execution_count": 5,
     "metadata": {},
     "output_type": "execute_result"
    }
   ],
   "source": [
    "#Filling null values using pad values, will fill next rows values to empty cells\n",
    "df.dropna(axis=0, how='any', inplace=True)\n",
    "df.isnull().sum()"
   ]
  },
  {
   "cell_type": "code",
   "execution_count": 6,
   "id": "rational-rabbit",
   "metadata": {},
   "outputs": [
    {
     "data": {
      "text/plain": [
       "<AxesSubplot:>"
      ]
     },
     "execution_count": 6,
     "metadata": {},
     "output_type": "execute_result"
    },
    {
     "data": {
      "image/png": "[encoded data removed]",
      "text/plain": [
       "<Figure size 1440x648 with 1 Axes>"
      ]
     },
     "metadata": {
      "needs_background": "light"
     },
     "output_type": "display_data"
    }
   ],
   "source": [
    "#Dataset Plotted\n",
    "df['Close'].plot(figsize=(20,9))"
   ]
  },
  {
   "cell_type": "code",
   "execution_count": 7,
   "id": "tamil-merit",
   "metadata": {},
   "outputs": [],
   "source": [
    "#columns for x and y\n",
    "x  = df[['Open','High','Low','Volume']]\n",
    "y = df['Close']"
   ]
  },
  {
   "cell_type": "code",
   "execution_count": 8,
   "id": "protective-norwegian",
   "metadata": {},
   "outputs": [
    {
     "data": {
      "text/html": [
       "<div>\n",
       "<style scoped>\n",
       "    .dataframe tbody tr th:only-of-type {\n",
       "        vertical-align: middle;\n",
       "    }\n",
       "\n",
       "    .dataframe tbody tr th {\n",
       "        vertical-align: top;\n",
       "    }\n",
       "\n",
       "    .dataframe thead th {\n",
       "        text-align: right;\n",
       "    }\n",
       "</style>\n",
       "<table border=\"1\" class=\"dataframe\">\n",
       "  <thead>\n",
       "    <tr style=\"text-align: right;\">\n",
       "      <th></th>\n",
       "      <th>Open</th>\n",
       "      <th>High</th>\n",
       "      <th>Low</th>\n",
       "      <th>Volume</th>\n",
       "      <th>Close</th>\n",
       "    </tr>\n",
       "  </thead>\n",
       "  <tbody>\n",
       "    <tr>\n",
       "      <th>0</th>\n",
       "      <td>0.013991</td>\n",
       "      <td>0.015947</td>\n",
       "      <td>0.014857</td>\n",
       "      <td>0.007721</td>\n",
       "      <td>19.484543</td>\n",
       "    </tr>\n",
       "    <tr>\n",
       "      <th>1</th>\n",
       "      <td>0.016028</td>\n",
       "      <td>0.016358</td>\n",
       "      <td>0.016608</td>\n",
       "      <td>0.004076</td>\n",
       "      <td>19.943542</td>\n",
       "    </tr>\n",
       "    <tr>\n",
       "      <th>2</th>\n",
       "      <td>0.015613</td>\n",
       "      <td>0.016621</td>\n",
       "      <td>0.016413</td>\n",
       "      <td>0.002982</td>\n",
       "      <td>19.576344</td>\n",
       "    </tr>\n",
       "    <tr>\n",
       "      <th>3</th>\n",
       "      <td>0.016631</td>\n",
       "      <td>0.016396</td>\n",
       "      <td>0.017074</td>\n",
       "      <td>0.001300</td>\n",
       "      <td>19.989443</td>\n",
       "    </tr>\n",
       "    <tr>\n",
       "      <th>4</th>\n",
       "      <td>0.016405</td>\n",
       "      <td>0.016920</td>\n",
       "      <td>0.017191</td>\n",
       "      <td>0.001957</td>\n",
       "      <td>20.333693</td>\n",
       "    </tr>\n",
       "  </tbody>\n",
       "</table>\n",
       "</div>"
      ],
      "text/plain": [
       "       Open      High       Low    Volume      Close\n",
       "0  0.013991  0.015947  0.014857  0.007721  19.484543\n",
       "1  0.016028  0.016358  0.016608  0.004076  19.943542\n",
       "2  0.015613  0.016621  0.016413  0.002982  19.576344\n",
       "3  0.016631  0.016396  0.017074  0.001300  19.989443\n",
       "4  0.016405  0.016920  0.017191  0.001957  20.333693"
      ]
     },
     "execution_count": 8,
     "metadata": {},
     "output_type": "execute_result"
    }
   ],
   "source": [
    "#Normalising data\n",
    "scaler = MinMaxScaler()\n",
    "df[['Open','High','Low','Volume']] = scaler.fit_transform(df[['Open','High','Low','Volume']])\n",
    "df.head()"
   ]
  },
  {
   "cell_type": "code",
   "execution_count": 9,
   "id": "sacred-instrumentation",
   "metadata": {},
   "outputs": [
    {
     "name": "stdout",
     "output_type": "stream",
     "text": [
      "(3544, 4)\n",
      "(1182, 4)\n",
      "(3544,)\n",
      "(1182,)\n"
     ]
    }
   ],
   "source": [
    "#Splitting data\n",
    "x_train , x_test , y_train , y_test = train_test_split(x ,y)\n",
    "print(x_train.shape)\n",
    "print(x_test.shape)\n",
    "print(y_train.shape)\n",
    "print(y_test.shape)"
   ]
  },
  {
   "cell_type": "markdown",
   "id": "unauthorized-spouse",
   "metadata": {},
   "source": [
    "---\n",
    "# Random Forest"
   ]
  },
  {
   "cell_type": "code",
   "execution_count": 10,
   "id": "adjacent-memorabilia",
   "metadata": {},
   "outputs": [
    {
     "data": {
      "text/plain": [
       "RandomForestRegressor(random_state=0)"
      ]
     },
     "execution_count": 10,
     "metadata": {},
     "output_type": "execute_result"
    }
   ],
   "source": [
    "model_rf = RandomForestRegressor(n_estimators = 100, random_state = 0) \n",
    "model_rf.fit(x_train, y_train)   "
   ]
  },
  {
   "cell_type": "code",
   "execution_count": 11,
   "id": "korean-music",
   "metadata": {},
   "outputs": [
    {
     "data": {
      "text/html": [
       "<div>\n",
       "<style scoped>\n",
       "    .dataframe tbody tr th:only-of-type {\n",
       "        vertical-align: middle;\n",
       "    }\n",
       "\n",
       "    .dataframe tbody tr th {\n",
       "        vertical-align: top;\n",
       "    }\n",
       "\n",
       "    .dataframe thead th {\n",
       "        text-align: right;\n",
       "    }\n",
       "</style>\n",
       "<table border=\"1\" class=\"dataframe\">\n",
       "  <thead>\n",
       "    <tr style=\"text-align: right;\">\n",
       "      <th></th>\n",
       "      <th>Actual</th>\n",
       "      <th>Predicted</th>\n",
       "      <th>Difference</th>\n",
       "    </tr>\n",
       "  </thead>\n",
       "  <tbody>\n",
       "    <tr>\n",
       "      <th>960</th>\n",
       "      <td>157.574646</td>\n",
       "      <td>160.199895</td>\n",
       "      <td>2.625249</td>\n",
       "    </tr>\n",
       "    <tr>\n",
       "      <th>1473</th>\n",
       "      <td>424.253540</td>\n",
       "      <td>429.582734</td>\n",
       "      <td>5.329194</td>\n",
       "    </tr>\n",
       "    <tr>\n",
       "      <th>171</th>\n",
       "      <td>13.655245</td>\n",
       "      <td>13.856057</td>\n",
       "      <td>0.200812</td>\n",
       "    </tr>\n",
       "    <tr>\n",
       "      <th>3491</th>\n",
       "      <td>281.917694</td>\n",
       "      <td>276.291514</td>\n",
       "      <td>5.626180</td>\n",
       "    </tr>\n",
       "    <tr>\n",
       "      <th>101</th>\n",
       "      <td>14.733894</td>\n",
       "      <td>15.362265</td>\n",
       "      <td>0.628371</td>\n",
       "    </tr>\n",
       "    <tr>\n",
       "      <th>2519</th>\n",
       "      <td>320.611389</td>\n",
       "      <td>316.482220</td>\n",
       "      <td>4.129169</td>\n",
       "    </tr>\n",
       "    <tr>\n",
       "      <th>677</th>\n",
       "      <td>66.646774</td>\n",
       "      <td>68.123150</td>\n",
       "      <td>1.476376</td>\n",
       "    </tr>\n",
       "    <tr>\n",
       "      <th>4506</th>\n",
       "      <td>405.799988</td>\n",
       "      <td>445.211854</td>\n",
       "      <td>39.411866</td>\n",
       "    </tr>\n",
       "    <tr>\n",
       "      <th>1885</th>\n",
       "      <td>351.134888</td>\n",
       "      <td>351.668815</td>\n",
       "      <td>0.533927</td>\n",
       "    </tr>\n",
       "    <tr>\n",
       "      <th>2799</th>\n",
       "      <td>256.902222</td>\n",
       "      <td>250.942552</td>\n",
       "      <td>5.959670</td>\n",
       "    </tr>\n",
       "  </tbody>\n",
       "</table>\n",
       "</div>"
      ],
      "text/plain": [
       "          Actual   Predicted  Difference\n",
       "960   157.574646  160.199895    2.625249\n",
       "1473  424.253540  429.582734    5.329194\n",
       "171    13.655245   13.856057    0.200812\n",
       "3491  281.917694  276.291514    5.626180\n",
       "101    14.733894   15.362265    0.628371\n",
       "2519  320.611389  316.482220    4.129169\n",
       "677    66.646774   68.123150    1.476376\n",
       "4506  405.799988  445.211854   39.411866\n",
       "1885  351.134888  351.668815    0.533927\n",
       "2799  256.902222  250.942552    5.959670"
      ]
     },
     "execution_count": 11,
     "metadata": {},
     "output_type": "execute_result"
    }
   ],
   "source": [
    "#predicting stock price using our model\n",
    "preds_rf = model_rf.predict(x_test)\n",
    "\n",
    "dfpred_rf = pd.DataFrame({'Actual':y_test,'Predicted':preds_rf, 'Difference':abs(y_test-preds_rf)})\n",
    "dfpred_rf.head(10)"
   ]
  },
  {
   "cell_type": "code",
   "execution_count": 12,
   "id": "immune-evidence",
   "metadata": {},
   "outputs": [
    {
     "name": "stdout",
     "output_type": "stream",
     "text": [
      "Score: 0.9958166978642916\n",
      "Mean Absolute Error: 5.659428944247043\n",
      "Mean Squared  Error: 76.41321699081195\n",
      "Root Mean Squared Error: 8.741465380061397\n",
      "Loss: 5.659428944247043\n"
     ]
    }
   ],
   "source": [
    "#Different Metrics calculated using our model\n",
    "print(\"Score:\", model_rf.score(x_test, y_test))\n",
    "print('Mean Absolute Error:',metrics.mean_absolute_error(y_test,preds_rf))\n",
    "print('Mean Squared  Error:',metrics.mean_squared_error(y_test,preds_rf))\n",
    "print('Root Mean Squared Error:',(metrics.mean_squared_error(y_test,preds_rf))**0.5)\n",
    "print('Loss:', abs(y_test-preds_rf).mean())"
   ]
  },
  {
   "cell_type": "markdown",
   "id": "young-liverpool",
   "metadata": {},
   "source": [
    "---\n",
    "# k-NN"
   ]
  },
  {
   "cell_type": "code",
   "execution_count": 13,
   "id": "intimate-monthly",
   "metadata": {},
   "outputs": [
    {
     "data": {
      "text/plain": [
       "GridSearchCV(cv=7, estimator=KNeighborsRegressor(),\n",
       "             param_grid={'n_neighbors': [1, 2, 3, 4, 5, 6, 7, 8, 9, 10, 11, 12,\n",
       "                                         13, 14]})"
      ]
     },
     "execution_count": 13,
     "metadata": {},
     "output_type": "execute_result"
    }
   ],
   "source": [
    "#using gridsearch to find the best parameter\n",
    "params = {'n_neighbors':[1,2,3,4,5,6,7,8,9,10,11,12,13,14]}\n",
    "knn = neighbors.KNeighborsRegressor()\n",
    "model_knn = GridSearchCV(knn, params, cv=7)\n",
    "model_knn.fit(x_train,y_train)"
   ]
  },
  {
   "cell_type": "code",
   "execution_count": 14,
   "id": "improved-steering",
   "metadata": {},
   "outputs": [
    {
     "data": {
      "text/html": [
       "<div>\n",
       "<style scoped>\n",
       "    .dataframe tbody tr th:only-of-type {\n",
       "        vertical-align: middle;\n",
       "    }\n",
       "\n",
       "    .dataframe tbody tr th {\n",
       "        vertical-align: top;\n",
       "    }\n",
       "\n",
       "    .dataframe thead th {\n",
       "        text-align: right;\n",
       "    }\n",
       "</style>\n",
       "<table border=\"1\" class=\"dataframe\">\n",
       "  <thead>\n",
       "    <tr style=\"text-align: right;\">\n",
       "      <th></th>\n",
       "      <th>Actual</th>\n",
       "      <th>Predicted</th>\n",
       "      <th>Difference</th>\n",
       "    </tr>\n",
       "  </thead>\n",
       "  <tbody>\n",
       "    <tr>\n",
       "      <th>960</th>\n",
       "      <td>157.574646</td>\n",
       "      <td>274.226176</td>\n",
       "      <td>116.651530</td>\n",
       "    </tr>\n",
       "    <tr>\n",
       "      <th>1473</th>\n",
       "      <td>424.253540</td>\n",
       "      <td>340.204213</td>\n",
       "      <td>84.049327</td>\n",
       "    </tr>\n",
       "    <tr>\n",
       "      <th>171</th>\n",
       "      <td>13.655245</td>\n",
       "      <td>228.660610</td>\n",
       "      <td>215.005365</td>\n",
       "    </tr>\n",
       "    <tr>\n",
       "      <th>3491</th>\n",
       "      <td>281.917694</td>\n",
       "      <td>318.921837</td>\n",
       "      <td>37.004143</td>\n",
       "    </tr>\n",
       "    <tr>\n",
       "      <th>101</th>\n",
       "      <td>14.733894</td>\n",
       "      <td>291.894493</td>\n",
       "      <td>277.160599</td>\n",
       "    </tr>\n",
       "    <tr>\n",
       "      <th>2519</th>\n",
       "      <td>320.611389</td>\n",
       "      <td>331.377104</td>\n",
       "      <td>10.765715</td>\n",
       "    </tr>\n",
       "    <tr>\n",
       "      <th>677</th>\n",
       "      <td>66.646774</td>\n",
       "      <td>287.284720</td>\n",
       "      <td>220.637946</td>\n",
       "    </tr>\n",
       "    <tr>\n",
       "      <th>4506</th>\n",
       "      <td>405.799988</td>\n",
       "      <td>341.789084</td>\n",
       "      <td>64.010904</td>\n",
       "    </tr>\n",
       "    <tr>\n",
       "      <th>1885</th>\n",
       "      <td>351.134888</td>\n",
       "      <td>171.303178</td>\n",
       "      <td>179.831710</td>\n",
       "    </tr>\n",
       "    <tr>\n",
       "      <th>2799</th>\n",
       "      <td>256.902222</td>\n",
       "      <td>249.340188</td>\n",
       "      <td>7.562034</td>\n",
       "    </tr>\n",
       "  </tbody>\n",
       "</table>\n",
       "</div>"
      ],
      "text/plain": [
       "          Actual   Predicted  Difference\n",
       "960   157.574646  274.226176  116.651530\n",
       "1473  424.253540  340.204213   84.049327\n",
       "171    13.655245  228.660610  215.005365\n",
       "3491  281.917694  318.921837   37.004143\n",
       "101    14.733894  291.894493  277.160599\n",
       "2519  320.611389  331.377104   10.765715\n",
       "677    66.646774  287.284720  220.637946\n",
       "4506  405.799988  341.789084   64.010904\n",
       "1885  351.134888  171.303178  179.831710\n",
       "2799  256.902222  249.340188    7.562034"
      ]
     },
     "execution_count": 14,
     "metadata": {},
     "output_type": "execute_result"
    }
   ],
   "source": [
    "#predicting stock price using our model\n",
    "preds_knn = model_knn.predict(x_test)\n",
    "\n",
    "dfpred_knn = pd.DataFrame({'Actual':y_test,'Predicted':preds_knn, 'Difference':abs(y_test-preds_knn)})\n",
    "dfpred_knn.head(10)"
   ]
  },
  {
   "cell_type": "code",
   "execution_count": 15,
   "id": "integrated-suspension",
   "metadata": {},
   "outputs": [
    {
     "data": {
      "text/plain": [
       "{'cv': 7,\n",
       " 'error_score': nan,\n",
       " 'estimator__algorithm': 'auto',\n",
       " 'estimator__leaf_size': 30,\n",
       " 'estimator__metric': 'minkowski',\n",
       " 'estimator__metric_params': None,\n",
       " 'estimator__n_jobs': None,\n",
       " 'estimator__n_neighbors': 5,\n",
       " 'estimator__p': 2,\n",
       " 'estimator__weights': 'uniform',\n",
       " 'estimator': KNeighborsRegressor(),\n",
       " 'n_jobs': None,\n",
       " 'param_grid': {'n_neighbors': [1,\n",
       "   2,\n",
       "   3,\n",
       "   4,\n",
       "   5,\n",
       "   6,\n",
       "   7,\n",
       "   8,\n",
       "   9,\n",
       "   10,\n",
       "   11,\n",
       "   12,\n",
       "   13,\n",
       "   14]},\n",
       " 'pre_dispatch': '2*n_jobs',\n",
       " 'refit': True,\n",
       " 'return_train_score': False,\n",
       " 'scoring': None,\n",
       " 'verbose': 0}"
      ]
     },
     "execution_count": 15,
     "metadata": {},
     "output_type": "execute_result"
    }
   ],
   "source": [
    "model_knn.get_params()"
   ]
  },
  {
   "cell_type": "code",
   "execution_count": 16,
   "id": "hearing-swift",
   "metadata": {},
   "outputs": [
    {
     "name": "stdout",
     "output_type": "stream",
     "text": [
      "Score: 0.037251352701745954\n",
      "Mean Absolute Error: 101.71057399848924\n",
      "Mean Squared  Error: 17585.80157661845\n",
      "Root Mean Squared Error: 132.61146849582224\n",
      "Loss: 101.71057399848924\n"
     ]
    }
   ],
   "source": [
    "#Different Metrics calculated using our model\n",
    "print(\"Score:\", model_knn.score(x_test, y_test))\n",
    "print('Mean Absolute Error:',metrics.mean_absolute_error(y_test,preds_knn))\n",
    "print('Mean Squared  Error:',metrics.mean_squared_error(y_test,preds_knn))\n",
    "print('Root Mean Squared Error:',(metrics.mean_squared_error(y_test,preds_knn))**0.5)\n",
    "print('Loss:', abs(y_test-preds_knn).mean())"
   ]
  },
  {
   "cell_type": "markdown",
   "id": "direct-merit",
   "metadata": {},
   "source": [
    "---\n",
    "# Decision Tree"
   ]
  },
  {
   "cell_type": "code",
   "execution_count": 17,
   "id": "informal-crossing",
   "metadata": {},
   "outputs": [
    {
     "data": {
      "text/plain": [
       "DecisionTreeRegressor()"
      ]
     },
     "execution_count": 17,
     "metadata": {},
     "output_type": "execute_result"
    }
   ],
   "source": [
    "model_dt = DecisionTreeRegressor()\n",
    "model_dt.fit(x_train,y_train)"
   ]
  },
  {
   "cell_type": "code",
   "execution_count": 18,
   "id": "driving-short",
   "metadata": {},
   "outputs": [
    {
     "data": {
      "text/html": [
       "<div>\n",
       "<style scoped>\n",
       "    .dataframe tbody tr th:only-of-type {\n",
       "        vertical-align: middle;\n",
       "    }\n",
       "\n",
       "    .dataframe tbody tr th {\n",
       "        vertical-align: top;\n",
       "    }\n",
       "\n",
       "    .dataframe thead th {\n",
       "        text-align: right;\n",
       "    }\n",
       "</style>\n",
       "<table border=\"1\" class=\"dataframe\">\n",
       "  <thead>\n",
       "    <tr style=\"text-align: right;\">\n",
       "      <th></th>\n",
       "      <th>Actual</th>\n",
       "      <th>Predicted</th>\n",
       "      <th>Difference</th>\n",
       "    </tr>\n",
       "  </thead>\n",
       "  <tbody>\n",
       "    <tr>\n",
       "      <th>960</th>\n",
       "      <td>157.574646</td>\n",
       "      <td>160.581100</td>\n",
       "      <td>3.006454</td>\n",
       "    </tr>\n",
       "    <tr>\n",
       "      <th>1473</th>\n",
       "      <td>424.253540</td>\n",
       "      <td>424.689606</td>\n",
       "      <td>0.436066</td>\n",
       "    </tr>\n",
       "    <tr>\n",
       "      <th>171</th>\n",
       "      <td>13.655245</td>\n",
       "      <td>13.609345</td>\n",
       "      <td>0.045900</td>\n",
       "    </tr>\n",
       "    <tr>\n",
       "      <th>3491</th>\n",
       "      <td>281.917694</td>\n",
       "      <td>273.288513</td>\n",
       "      <td>8.629181</td>\n",
       "    </tr>\n",
       "    <tr>\n",
       "      <th>101</th>\n",
       "      <td>14.733894</td>\n",
       "      <td>15.514194</td>\n",
       "      <td>0.780300</td>\n",
       "    </tr>\n",
       "    <tr>\n",
       "      <th>2519</th>\n",
       "      <td>320.611389</td>\n",
       "      <td>308.310181</td>\n",
       "      <td>12.301208</td>\n",
       "    </tr>\n",
       "    <tr>\n",
       "      <th>677</th>\n",
       "      <td>66.646774</td>\n",
       "      <td>68.368027</td>\n",
       "      <td>1.721253</td>\n",
       "    </tr>\n",
       "    <tr>\n",
       "      <th>4506</th>\n",
       "      <td>405.799988</td>\n",
       "      <td>459.850006</td>\n",
       "      <td>54.050018</td>\n",
       "    </tr>\n",
       "    <tr>\n",
       "      <th>1885</th>\n",
       "      <td>351.134888</td>\n",
       "      <td>356.872375</td>\n",
       "      <td>5.737487</td>\n",
       "    </tr>\n",
       "    <tr>\n",
       "      <th>2799</th>\n",
       "      <td>256.902222</td>\n",
       "      <td>245.932114</td>\n",
       "      <td>10.970108</td>\n",
       "    </tr>\n",
       "  </tbody>\n",
       "</table>\n",
       "</div>"
      ],
      "text/plain": [
       "          Actual   Predicted  Difference\n",
       "960   157.574646  160.581100    3.006454\n",
       "1473  424.253540  424.689606    0.436066\n",
       "171    13.655245   13.609345    0.045900\n",
       "3491  281.917694  273.288513    8.629181\n",
       "101    14.733894   15.514194    0.780300\n",
       "2519  320.611389  308.310181   12.301208\n",
       "677    66.646774   68.368027    1.721253\n",
       "4506  405.799988  459.850006   54.050018\n",
       "1885  351.134888  356.872375    5.737487\n",
       "2799  256.902222  245.932114   10.970108"
      ]
     },
     "execution_count": 18,
     "metadata": {},
     "output_type": "execute_result"
    }
   ],
   "source": [
    "#predicting stock price using our model\n",
    "preds_dt = model_dt.predict(x_test)\n",
    "\n",
    "dfpred_dt = pd.DataFrame({'Actual':y_test,'Predicted':preds_dt, 'Difference':abs(y_test-preds_dt)})\n",
    "dfpred_dt.head(10)"
   ]
  },
  {
   "cell_type": "code",
   "execution_count": 19,
   "id": "presidential-england",
   "metadata": {},
   "outputs": [
    {
     "name": "stdout",
     "output_type": "stream",
     "text": [
      "Score: 0.9929388678960128\n",
      "Mean Absolute Error: 7.444257717428089\n",
      "Mean Squared  Error: 128.9803610064596\n",
      "Root Mean Squared Error: 11.35695210020979\n",
      "Loss: 7.444257717428089\n"
     ]
    }
   ],
   "source": [
    "#Different Metrics calculated using our model\n",
    "print(\"Score:\", model_dt.score(x_test,y_test))\n",
    "print('Mean Absolute Error:',metrics.mean_absolute_error(y_test,preds_dt))\n",
    "print('Mean Squared  Error:',metrics.mean_squared_error(y_test,preds_dt))\n",
    "print('Root Mean Squared Error:',(metrics.mean_squared_error(y_test,preds_dt))**0.5)\n",
    "print('Loss:', abs(y_test-preds_dt).mean())"
   ]
  },
  {
   "cell_type": "markdown",
   "id": "smooth-salvation",
   "metadata": {},
   "source": [
    "---\n",
    "# Linear Regression"
   ]
  },
  {
   "cell_type": "code",
   "execution_count": 20,
   "id": "fifteen-month",
   "metadata": {
    "tags": []
   },
   "outputs": [
    {
     "data": {
      "text/plain": [
       "LinearRegression()"
      ]
     },
     "execution_count": 20,
     "metadata": {},
     "output_type": "execute_result"
    }
   ],
   "source": [
    "#linear Regression\n",
    "model_lr = LinearRegression()\n",
    "model_lr.fit(x_train,y_train)"
   ]
  },
  {
   "cell_type": "code",
   "execution_count": 21,
   "id": "sonic-circle",
   "metadata": {},
   "outputs": [
    {
     "name": "stdout",
     "output_type": "stream",
     "text": [
      "[-5.01850474e-01  8.30611280e-01  6.66794593e-01 -2.52261591e-08]\n",
      "0.6120787876812415\n"
     ]
    }
   ],
   "source": [
    "#Coefficients and Intercept of LR\n",
    "print(model_lr.coef_)\n",
    "print(model_lr.intercept_)"
   ]
  },
  {
   "cell_type": "code",
   "execution_count": 22,
   "id": "corrected-delay",
   "metadata": {},
   "outputs": [
    {
     "data": {
      "text/html": [
       "<div>\n",
       "<style scoped>\n",
       "    .dataframe tbody tr th:only-of-type {\n",
       "        vertical-align: middle;\n",
       "    }\n",
       "\n",
       "    .dataframe tbody tr th {\n",
       "        vertical-align: top;\n",
       "    }\n",
       "\n",
       "    .dataframe thead th {\n",
       "        text-align: right;\n",
       "    }\n",
       "</style>\n",
       "<table border=\"1\" class=\"dataframe\">\n",
       "  <thead>\n",
       "    <tr style=\"text-align: right;\">\n",
       "      <th></th>\n",
       "      <th>Actual</th>\n",
       "      <th>Predicted</th>\n",
       "      <th>Difference</th>\n",
       "    </tr>\n",
       "  </thead>\n",
       "  <tbody>\n",
       "    <tr>\n",
       "      <th>960</th>\n",
       "      <td>157.574646</td>\n",
       "      <td>157.373343</td>\n",
       "      <td>0.201303</td>\n",
       "    </tr>\n",
       "    <tr>\n",
       "      <th>1473</th>\n",
       "      <td>424.253540</td>\n",
       "      <td>428.308346</td>\n",
       "      <td>4.054806</td>\n",
       "    </tr>\n",
       "    <tr>\n",
       "      <th>171</th>\n",
       "      <td>13.655245</td>\n",
       "      <td>14.344378</td>\n",
       "      <td>0.689133</td>\n",
       "    </tr>\n",
       "    <tr>\n",
       "      <th>3491</th>\n",
       "      <td>281.917694</td>\n",
       "      <td>277.741896</td>\n",
       "      <td>4.175798</td>\n",
       "    </tr>\n",
       "    <tr>\n",
       "      <th>101</th>\n",
       "      <td>14.733894</td>\n",
       "      <td>15.687581</td>\n",
       "      <td>0.953687</td>\n",
       "    </tr>\n",
       "    <tr>\n",
       "      <th>2519</th>\n",
       "      <td>320.611389</td>\n",
       "      <td>316.277220</td>\n",
       "      <td>4.334169</td>\n",
       "    </tr>\n",
       "    <tr>\n",
       "      <th>677</th>\n",
       "      <td>66.646774</td>\n",
       "      <td>68.435552</td>\n",
       "      <td>1.788778</td>\n",
       "    </tr>\n",
       "    <tr>\n",
       "      <th>4506</th>\n",
       "      <td>405.799988</td>\n",
       "      <td>458.378086</td>\n",
       "      <td>52.578098</td>\n",
       "    </tr>\n",
       "    <tr>\n",
       "      <th>1885</th>\n",
       "      <td>351.134888</td>\n",
       "      <td>345.561734</td>\n",
       "      <td>5.573154</td>\n",
       "    </tr>\n",
       "    <tr>\n",
       "      <th>2799</th>\n",
       "      <td>256.902222</td>\n",
       "      <td>252.845851</td>\n",
       "      <td>4.056371</td>\n",
       "    </tr>\n",
       "  </tbody>\n",
       "</table>\n",
       "</div>"
      ],
      "text/plain": [
       "          Actual   Predicted  Difference\n",
       "960   157.574646  157.373343    0.201303\n",
       "1473  424.253540  428.308346    4.054806\n",
       "171    13.655245   14.344378    0.689133\n",
       "3491  281.917694  277.741896    4.175798\n",
       "101    14.733894   15.687581    0.953687\n",
       "2519  320.611389  316.277220    4.334169\n",
       "677    66.646774   68.435552    1.788778\n",
       "4506  405.799988  458.378086   52.578098\n",
       "1885  351.134888  345.561734    5.573154\n",
       "2799  256.902222  252.845851    4.056371"
      ]
     },
     "execution_count": 22,
     "metadata": {},
     "output_type": "execute_result"
    }
   ],
   "source": [
    "#predicting stock price using our model\n",
    "preds_lr = model_lr.predict(x_test)\n",
    "\n",
    "dfpred_lr = pd.DataFrame({'Actual':y_test,'Predicted':preds_lr, 'Difference':abs(y_test-preds_lr)})\n",
    "dfpred_lr.head(10)"
   ]
  },
  {
   "cell_type": "code",
   "execution_count": 23,
   "id": "individual-addiction",
   "metadata": {},
   "outputs": [
    {
     "name": "stdout",
     "output_type": "stream",
     "text": [
      "Score: 0.9963166420011721\n",
      "Mean Absolute Error: 5.2328553700142235\n",
      "Mean Squared  Error: 67.28111546540666\n",
      "Root Mean Squared Error: 8.202506657443605\n",
      "Loss: 5.2328553700142235\n"
     ]
    }
   ],
   "source": [
    "#Different Metrics calculated using our model\n",
    "print(\"Score:\", model_lr.score(x_test,y_test))\n",
    "print('Mean Absolute Error:',metrics.mean_absolute_error(y_test,preds_lr))\n",
    "print('Mean Squared  Error:',metrics.mean_squared_error(y_test,preds_lr))\n",
    "print('Root Mean Squared Error:',(metrics.mean_squared_error(y_test,preds_lr))**0.5)\n",
    "print('Loss:', abs(y_test-preds_lr).mean())"
   ]
  }
 ],
 "metadata": {
  "kernelspec": {
   "display_name": "Python 3.7.7 64-bit ('datascience': conda)",
   "language": "python",
   "name": "python37764bitdatascienceconda67e0b92c992c46d7a01f8ce74cfb6bf2"
  },
  "language_info": {
   "codemirror_mode": {
    "name": "ipython",
    "version": 3
   },
   "file_extension": ".py",
   "mimetype": "text/x-python",
   "name": "python",
   "nbconvert_exporter": "python",
   "pygments_lexer": "ipython3",
   "version": "3.7.10"
  }
 },
 "nbformat": 4,
 "nbformat_minor": 5
}
