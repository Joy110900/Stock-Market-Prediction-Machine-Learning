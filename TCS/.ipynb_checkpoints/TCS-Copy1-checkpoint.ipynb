{
 "cells": [
  {
   "cell_type": "code",
   "execution_count": 32,
   "id": "convertible-indicator",
   "metadata": {},
   "outputs": [],
   "source": [
    "#Importing Libraries\n",
    "import pandas as pd\n",
    "from sklearn.model_selection import train_test_split\n",
    "from sklearn.linear_model import LinearRegression\n",
    "from sklearn import metrics\n",
    "from sklearn.metrics import accuracy_score\n",
    "from sklearn.preprocessing import MinMaxScaler\n",
    "from sklearn.model_selection import GridSearchCV\n",
    "from sklearn.neighbors import KNeighborsRegressor\n",
    "from sklearn import neighbors\n",
    "from sklearn.tree import DecisionTreeRegressor \n",
    "from sklearn.ensemble import RandomForestRegressor \n",
    "from sklearn.model_selection import cross_val_score\n",
    "import numpy as np\n",
    "\n",
    "import matplotlib.pyplot as plt\n",
    "%matplotlib inline"
   ]
  },
  {
   "cell_type": "code",
   "execution_count": 33,
   "id": "imposed-processing",
   "metadata": {},
   "outputs": [
    {
     "name": "stdout",
     "output_type": "stream",
     "text": [
      "Shape -> (4751, 5)\n"
     ]
    },
    {
     "data": {
      "text/html": [
       "<div>\n",
       "<style scoped>\n",
       "    .dataframe tbody tr th:only-of-type {\n",
       "        vertical-align: middle;\n",
       "    }\n",
       "\n",
       "    .dataframe tbody tr th {\n",
       "        vertical-align: top;\n",
       "    }\n",
       "\n",
       "    .dataframe thead th {\n",
       "        text-align: right;\n",
       "    }\n",
       "</style>\n",
       "<table border=\"1\" class=\"dataframe\">\n",
       "  <thead>\n",
       "    <tr style=\"text-align: right;\">\n",
       "      <th></th>\n",
       "      <th>Open</th>\n",
       "      <th>High</th>\n",
       "      <th>Low</th>\n",
       "      <th>Close</th>\n",
       "      <th>Volume</th>\n",
       "    </tr>\n",
       "  </thead>\n",
       "  <tbody>\n",
       "    <tr>\n",
       "      <th>0</th>\n",
       "      <td>18.268192</td>\n",
       "      <td>19.691093</td>\n",
       "      <td>18.245243</td>\n",
       "      <td>19.002592</td>\n",
       "      <td>2351048.0</td>\n",
       "    </tr>\n",
       "    <tr>\n",
       "      <th>1</th>\n",
       "      <td>19.507492</td>\n",
       "      <td>19.943542</td>\n",
       "      <td>19.277992</td>\n",
       "      <td>19.484543</td>\n",
       "      <td>1240948.0</td>\n",
       "    </tr>\n",
       "    <tr>\n",
       "      <th>2</th>\n",
       "      <td>19.255043</td>\n",
       "      <td>20.104193</td>\n",
       "      <td>19.163242</td>\n",
       "      <td>19.943542</td>\n",
       "      <td>908019.0</td>\n",
       "    </tr>\n",
       "    <tr>\n",
       "      <th>3</th>\n",
       "      <td>19.874693</td>\n",
       "      <td>19.966494</td>\n",
       "      <td>19.553392</td>\n",
       "      <td>19.576344</td>\n",
       "      <td>395880.0</td>\n",
       "    </tr>\n",
       "    <tr>\n",
       "      <th>4</th>\n",
       "      <td>19.736994</td>\n",
       "      <td>20.287792</td>\n",
       "      <td>19.622244</td>\n",
       "      <td>19.989443</td>\n",
       "      <td>595730.0</td>\n",
       "    </tr>\n",
       "  </tbody>\n",
       "</table>\n",
       "</div>"
      ],
      "text/plain": [
       "        Open       High        Low      Close     Volume\n",
       "0  18.268192  19.691093  18.245243  19.002592  2351048.0\n",
       "1  19.507492  19.943542  19.277992  19.484543  1240948.0\n",
       "2  19.255043  20.104193  19.163242  19.943542   908019.0\n",
       "3  19.874693  19.966494  19.553392  19.576344   395880.0\n",
       "4  19.736994  20.287792  19.622244  19.989443   595730.0"
      ]
     },
     "execution_count": 33,
     "metadata": {},
     "output_type": "execute_result"
    }
   ],
   "source": [
    "#Reading dataset in pandas\n",
    "df = pd.read_csv(\"airtel.csv\")\n",
    "#Droping unwanted columns\n",
    "df.drop([\"Date\", \"Adj Close\"], axis=1, inplace=True)\n",
    "print(\"Shape ->\",df.shape)\n",
    "df.head()"
   ]
  },
  {
   "cell_type": "code",
   "execution_count": 34,
   "id": "dense-access",
   "metadata": {},
   "outputs": [
    {
     "data": {
      "text/html": [
       "<div>\n",
       "<style scoped>\n",
       "    .dataframe tbody tr th:only-of-type {\n",
       "        vertical-align: middle;\n",
       "    }\n",
       "\n",
       "    .dataframe tbody tr th {\n",
       "        vertical-align: top;\n",
       "    }\n",
       "\n",
       "    .dataframe thead th {\n",
       "        text-align: right;\n",
       "    }\n",
       "</style>\n",
       "<table border=\"1\" class=\"dataframe\">\n",
       "  <thead>\n",
       "    <tr style=\"text-align: right;\">\n",
       "      <th></th>\n",
       "      <th>Open</th>\n",
       "      <th>High</th>\n",
       "      <th>Low</th>\n",
       "      <th>Volume</th>\n",
       "      <th>Close</th>\n",
       "      <th>Close_Tom</th>\n",
       "    </tr>\n",
       "  </thead>\n",
       "  <tbody>\n",
       "    <tr>\n",
       "      <th>0</th>\n",
       "      <td>18.268192</td>\n",
       "      <td>19.691093</td>\n",
       "      <td>18.245243</td>\n",
       "      <td>2351048.0</td>\n",
       "      <td>19.002592</td>\n",
       "      <td>19.002592</td>\n",
       "    </tr>\n",
       "    <tr>\n",
       "      <th>1</th>\n",
       "      <td>19.507492</td>\n",
       "      <td>19.943542</td>\n",
       "      <td>19.277992</td>\n",
       "      <td>1240948.0</td>\n",
       "      <td>19.484543</td>\n",
       "      <td>19.484543</td>\n",
       "    </tr>\n",
       "    <tr>\n",
       "      <th>2</th>\n",
       "      <td>19.255043</td>\n",
       "      <td>20.104193</td>\n",
       "      <td>19.163242</td>\n",
       "      <td>908019.0</td>\n",
       "      <td>19.943542</td>\n",
       "      <td>19.943542</td>\n",
       "    </tr>\n",
       "    <tr>\n",
       "      <th>3</th>\n",
       "      <td>19.874693</td>\n",
       "      <td>19.966494</td>\n",
       "      <td>19.553392</td>\n",
       "      <td>395880.0</td>\n",
       "      <td>19.576344</td>\n",
       "      <td>19.576344</td>\n",
       "    </tr>\n",
       "    <tr>\n",
       "      <th>4</th>\n",
       "      <td>19.736994</td>\n",
       "      <td>20.287792</td>\n",
       "      <td>19.622244</td>\n",
       "      <td>595730.0</td>\n",
       "      <td>19.989443</td>\n",
       "      <td>19.989443</td>\n",
       "    </tr>\n",
       "  </tbody>\n",
       "</table>\n",
       "</div>"
      ],
      "text/plain": [
       "        Open       High        Low     Volume      Close  Close_Tom\n",
       "0  18.268192  19.691093  18.245243  2351048.0  19.002592  19.002592\n",
       "1  19.507492  19.943542  19.277992  1240948.0  19.484543  19.484543\n",
       "2  19.255043  20.104193  19.163242   908019.0  19.943542  19.943542\n",
       "3  19.874693  19.966494  19.553392   395880.0  19.576344  19.576344\n",
       "4  19.736994  20.287792  19.622244   595730.0  19.989443  19.989443"
      ]
     },
     "execution_count": 34,
     "metadata": {},
     "output_type": "execute_result"
    }
   ],
   "source": [
    "#Reordering columns\n",
    "df = df[['Open', 'High', 'Low', 'Volume', 'Close']]\n",
    "df['Close_Tom'] =  df['Close']\n",
    "df.head()"
   ]
  },
  {
   "cell_type": "code",
   "execution_count": 35,
   "id": "circular-correction",
   "metadata": {},
   "outputs": [
    {
     "data": {
      "text/html": [
       "<div>\n",
       "<style scoped>\n",
       "    .dataframe tbody tr th:only-of-type {\n",
       "        vertical-align: middle;\n",
       "    }\n",
       "\n",
       "    .dataframe tbody tr th {\n",
       "        vertical-align: top;\n",
       "    }\n",
       "\n",
       "    .dataframe thead th {\n",
       "        text-align: right;\n",
       "    }\n",
       "</style>\n",
       "<table border=\"1\" class=\"dataframe\">\n",
       "  <thead>\n",
       "    <tr style=\"text-align: right;\">\n",
       "      <th></th>\n",
       "      <th>Open</th>\n",
       "      <th>High</th>\n",
       "      <th>Low</th>\n",
       "      <th>Volume</th>\n",
       "      <th>Close</th>\n",
       "      <th>Close_Tom</th>\n",
       "    </tr>\n",
       "  </thead>\n",
       "  <tbody>\n",
       "    <tr>\n",
       "      <th>0</th>\n",
       "      <td>18.268192</td>\n",
       "      <td>19.691093</td>\n",
       "      <td>18.245243</td>\n",
       "      <td>2351048.0</td>\n",
       "      <td>19.002592</td>\n",
       "      <td>19.484543</td>\n",
       "    </tr>\n",
       "    <tr>\n",
       "      <th>1</th>\n",
       "      <td>19.507492</td>\n",
       "      <td>19.943542</td>\n",
       "      <td>19.277992</td>\n",
       "      <td>1240948.0</td>\n",
       "      <td>19.484543</td>\n",
       "      <td>19.943542</td>\n",
       "    </tr>\n",
       "    <tr>\n",
       "      <th>2</th>\n",
       "      <td>19.255043</td>\n",
       "      <td>20.104193</td>\n",
       "      <td>19.163242</td>\n",
       "      <td>908019.0</td>\n",
       "      <td>19.943542</td>\n",
       "      <td>19.576344</td>\n",
       "    </tr>\n",
       "    <tr>\n",
       "      <th>3</th>\n",
       "      <td>19.874693</td>\n",
       "      <td>19.966494</td>\n",
       "      <td>19.553392</td>\n",
       "      <td>395880.0</td>\n",
       "      <td>19.576344</td>\n",
       "      <td>19.989443</td>\n",
       "    </tr>\n",
       "    <tr>\n",
       "      <th>4</th>\n",
       "      <td>19.736994</td>\n",
       "      <td>20.287792</td>\n",
       "      <td>19.622244</td>\n",
       "      <td>595730.0</td>\n",
       "      <td>19.989443</td>\n",
       "      <td>20.333693</td>\n",
       "    </tr>\n",
       "  </tbody>\n",
       "</table>\n",
       "</div>"
      ],
      "text/plain": [
       "        Open       High        Low     Volume      Close  Close_Tom\n",
       "0  18.268192  19.691093  18.245243  2351048.0  19.002592  19.484543\n",
       "1  19.507492  19.943542  19.277992  1240948.0  19.484543  19.943542\n",
       "2  19.255043  20.104193  19.163242   908019.0  19.943542  19.576344\n",
       "3  19.874693  19.966494  19.553392   395880.0  19.576344  19.989443\n",
       "4  19.736994  20.287792  19.622244   595730.0  19.989443  20.333693"
      ]
     },
     "execution_count": 35,
     "metadata": {},
     "output_type": "execute_result"
    }
   ],
   "source": [
    "#Shifting whole dataset down by one row so we can use yesterdays data to predict todays closing price\n",
    "df['Close_Tom'] =  df['Close_Tom'].shift(-1)\n",
    "df.head()"
   ]
  },
  {
   "cell_type": "code",
   "execution_count": 36,
   "id": "interstate-pillow",
   "metadata": {},
   "outputs": [
    {
     "data": {
      "text/html": [
       "<div>\n",
       "<style scoped>\n",
       "    .dataframe tbody tr th:only-of-type {\n",
       "        vertical-align: middle;\n",
       "    }\n",
       "\n",
       "    .dataframe tbody tr th {\n",
       "        vertical-align: top;\n",
       "    }\n",
       "\n",
       "    .dataframe thead th {\n",
       "        text-align: right;\n",
       "    }\n",
       "</style>\n",
       "<table border=\"1\" class=\"dataframe\">\n",
       "  <thead>\n",
       "    <tr style=\"text-align: right;\">\n",
       "      <th></th>\n",
       "      <th>Open</th>\n",
       "      <th>High</th>\n",
       "      <th>Low</th>\n",
       "      <th>Volume</th>\n",
       "      <th>Close</th>\n",
       "      <th>Close_Tom</th>\n",
       "    </tr>\n",
       "  </thead>\n",
       "  <tbody>\n",
       "    <tr>\n",
       "      <th>0</th>\n",
       "      <td>18.268192</td>\n",
       "      <td>19.691093</td>\n",
       "      <td>18.245243</td>\n",
       "      <td>2351048.0</td>\n",
       "      <td>19.002592</td>\n",
       "      <td>19.484543</td>\n",
       "    </tr>\n",
       "    <tr>\n",
       "      <th>1</th>\n",
       "      <td>19.507492</td>\n",
       "      <td>19.943542</td>\n",
       "      <td>19.277992</td>\n",
       "      <td>1240948.0</td>\n",
       "      <td>19.484543</td>\n",
       "      <td>19.943542</td>\n",
       "    </tr>\n",
       "    <tr>\n",
       "      <th>2</th>\n",
       "      <td>19.255043</td>\n",
       "      <td>20.104193</td>\n",
       "      <td>19.163242</td>\n",
       "      <td>908019.0</td>\n",
       "      <td>19.943542</td>\n",
       "      <td>19.576344</td>\n",
       "    </tr>\n",
       "    <tr>\n",
       "      <th>3</th>\n",
       "      <td>19.874693</td>\n",
       "      <td>19.966494</td>\n",
       "      <td>19.553392</td>\n",
       "      <td>395880.0</td>\n",
       "      <td>19.576344</td>\n",
       "      <td>19.989443</td>\n",
       "    </tr>\n",
       "    <tr>\n",
       "      <th>4</th>\n",
       "      <td>19.736994</td>\n",
       "      <td>20.287792</td>\n",
       "      <td>19.622244</td>\n",
       "      <td>595730.0</td>\n",
       "      <td>19.989443</td>\n",
       "      <td>20.333693</td>\n",
       "    </tr>\n",
       "  </tbody>\n",
       "</table>\n",
       "</div>"
      ],
      "text/plain": [
       "        Open       High        Low     Volume      Close  Close_Tom\n",
       "0  18.268192  19.691093  18.245243  2351048.0  19.002592  19.484543\n",
       "1  19.507492  19.943542  19.277992  1240948.0  19.484543  19.943542\n",
       "2  19.255043  20.104193  19.163242   908019.0  19.943542  19.576344\n",
       "3  19.874693  19.966494  19.553392   395880.0  19.576344  19.989443\n",
       "4  19.736994  20.287792  19.622244   595730.0  19.989443  20.333693"
      ]
     },
     "execution_count": 36,
     "metadata": {},
     "output_type": "execute_result"
    }
   ],
   "source": [
    "#Reordering columns\n",
    "df = df[['Open', 'High', 'Low', 'Volume', 'Close', 'Close_Tom']]\n",
    "df.head()"
   ]
  },
  {
   "cell_type": "code",
   "execution_count": 37,
   "id": "addressed-vertex",
   "metadata": {},
   "outputs": [
    {
     "data": {
      "text/plain": [
       "Open         14\n",
       "High         14\n",
       "Low          14\n",
       "Volume       14\n",
       "Close        14\n",
       "Close_Tom    15\n",
       "dtype: int64"
      ]
     },
     "execution_count": 37,
     "metadata": {},
     "output_type": "execute_result"
    }
   ],
   "source": [
    "#Checking for nulls\n",
    "df.isnull().sum()"
   ]
  },
  {
   "cell_type": "code",
   "execution_count": 38,
   "id": "increased-shopping",
   "metadata": {},
   "outputs": [
    {
     "data": {
      "text/plain": [
       "Open         0\n",
       "High         0\n",
       "Low          0\n",
       "Volume       0\n",
       "Close        0\n",
       "Close_Tom    0\n",
       "dtype: int64"
      ]
     },
     "execution_count": 38,
     "metadata": {},
     "output_type": "execute_result"
    }
   ],
   "source": [
    "#Filling null values using pad values, will fill next rows values to empty cells\n",
    "df.fillna(method='ffill', inplace=True)\n",
    "df.isnull().sum()"
   ]
  },
  {
   "cell_type": "code",
   "execution_count": 39,
   "id": "isolated-registrar",
   "metadata": {},
   "outputs": [
    {
     "data": {
      "text/plain": [
       "<AxesSubplot:>"
      ]
     },
     "execution_count": 39,
     "metadata": {},
     "output_type": "execute_result"
    },
    {
     "data": {
      "image/png": "[encoded data removed]",
      "text/plain": [
       "<Figure size 1440x648 with 1 Axes>"
      ]
     },
     "metadata": {
      "needs_background": "light"
     },
     "output_type": "display_data"
    }
   ],
   "source": [
    "#Dataset Plotted\n",
    "df['Close'].plot(figsize=(20,9))"
   ]
  },
  {
   "cell_type": "code",
   "execution_count": 40,
   "id": "radio-wichita",
   "metadata": {},
   "outputs": [],
   "source": [
    "#columns for x and y\n",
    "x  = df[['Open','High','Low','Volume', 'Close']]\n",
    "y = df['Close_Tom']"
   ]
  },
  {
   "cell_type": "code",
   "execution_count": 41,
   "id": "given-middle",
   "metadata": {},
   "outputs": [
    {
     "data": {
      "text/html": [
       "<div>\n",
       "<style scoped>\n",
       "    .dataframe tbody tr th:only-of-type {\n",
       "        vertical-align: middle;\n",
       "    }\n",
       "\n",
       "    .dataframe tbody tr th {\n",
       "        vertical-align: top;\n",
       "    }\n",
       "\n",
       "    .dataframe thead th {\n",
       "        text-align: right;\n",
       "    }\n",
       "</style>\n",
       "<table border=\"1\" class=\"dataframe\">\n",
       "  <thead>\n",
       "    <tr style=\"text-align: right;\">\n",
       "      <th></th>\n",
       "      <th>Open</th>\n",
       "      <th>High</th>\n",
       "      <th>Low</th>\n",
       "      <th>Volume</th>\n",
       "      <th>Close</th>\n",
       "      <th>Close_Tom</th>\n",
       "    </tr>\n",
       "  </thead>\n",
       "  <tbody>\n",
       "    <tr>\n",
       "      <th>0</th>\n",
       "      <td>0.013991</td>\n",
       "      <td>0.015947</td>\n",
       "      <td>0.014857</td>\n",
       "      <td>0.007721</td>\n",
       "      <td>0.015816</td>\n",
       "      <td>19.484543</td>\n",
       "    </tr>\n",
       "    <tr>\n",
       "      <th>1</th>\n",
       "      <td>0.016028</td>\n",
       "      <td>0.016358</td>\n",
       "      <td>0.016608</td>\n",
       "      <td>0.004076</td>\n",
       "      <td>0.016621</td>\n",
       "      <td>19.943542</td>\n",
       "    </tr>\n",
       "    <tr>\n",
       "      <th>2</th>\n",
       "      <td>0.015613</td>\n",
       "      <td>0.016621</td>\n",
       "      <td>0.016413</td>\n",
       "      <td>0.002982</td>\n",
       "      <td>0.017386</td>\n",
       "      <td>19.576344</td>\n",
       "    </tr>\n",
       "    <tr>\n",
       "      <th>3</th>\n",
       "      <td>0.016631</td>\n",
       "      <td>0.016396</td>\n",
       "      <td>0.017074</td>\n",
       "      <td>0.001300</td>\n",
       "      <td>0.016774</td>\n",
       "      <td>19.989443</td>\n",
       "    </tr>\n",
       "    <tr>\n",
       "      <th>4</th>\n",
       "      <td>0.016405</td>\n",
       "      <td>0.016920</td>\n",
       "      <td>0.017191</td>\n",
       "      <td>0.001957</td>\n",
       "      <td>0.017463</td>\n",
       "      <td>20.333693</td>\n",
       "    </tr>\n",
       "  </tbody>\n",
       "</table>\n",
       "</div>"
      ],
      "text/plain": [
       "       Open      High       Low    Volume     Close  Close_Tom\n",
       "0  0.013991  0.015947  0.014857  0.007721  0.015816  19.484543\n",
       "1  0.016028  0.016358  0.016608  0.004076  0.016621  19.943542\n",
       "2  0.015613  0.016621  0.016413  0.002982  0.017386  19.576344\n",
       "3  0.016631  0.016396  0.017074  0.001300  0.016774  19.989443\n",
       "4  0.016405  0.016920  0.017191  0.001957  0.017463  20.333693"
      ]
     },
     "execution_count": 41,
     "metadata": {},
     "output_type": "execute_result"
    }
   ],
   "source": [
    "#Normalising data\n",
    "scaler = MinMaxScaler()\n",
    "df[['Open','High','Low','Volume', 'Close']] = scaler.fit_transform(df[['Open', 'High', 'Low', 'Volume', 'Close']])\n",
    "df.head()"
   ]
  },
  {
   "cell_type": "code",
   "execution_count": 42,
   "id": "delayed-speed",
   "metadata": {},
   "outputs": [
    {
     "name": "stdout",
     "output_type": "stream",
     "text": [
      "(3563, 5)\n",
      "(1188, 5)\n",
      "(3563,)\n",
      "(1188,)\n"
     ]
    }
   ],
   "source": [
    "#Splitting data\n",
    "x_train , x_test , y_train , y_test = train_test_split(x ,y)\n",
    "print(x_train.shape)\n",
    "print(x_test.shape)\n",
    "print(y_train.shape)\n",
    "print(y_test.shape)"
   ]
  },
  {
   "cell_type": "markdown",
   "id": "viral-enforcement",
   "metadata": {},
   "source": [
    "---\n",
    "# Random Forest"
   ]
  },
  {
   "cell_type": "code",
   "execution_count": 43,
   "id": "certified-dakota",
   "metadata": {},
   "outputs": [
    {
     "data": {
      "text/plain": [
       "RandomForestRegressor(random_state=0)"
      ]
     },
     "execution_count": 43,
     "metadata": {},
     "output_type": "execute_result"
    }
   ],
   "source": [
    "model_rf = RandomForestRegressor(n_estimators = 100, random_state = 0) \n",
    "model_rf.fit(x_train, y_train)   "
   ]
  },
  {
   "cell_type": "code",
   "execution_count": 64,
   "id": "hidden-jersey",
   "metadata": {},
   "outputs": [
    {
     "data": {
      "text/html": [
       "<div>\n",
       "<style scoped>\n",
       "    .dataframe tbody tr th:only-of-type {\n",
       "        vertical-align: middle;\n",
       "    }\n",
       "\n",
       "    .dataframe tbody tr th {\n",
       "        vertical-align: top;\n",
       "    }\n",
       "\n",
       "    .dataframe thead th {\n",
       "        text-align: right;\n",
       "    }\n",
       "</style>\n",
       "<table border=\"1\" class=\"dataframe\">\n",
       "  <thead>\n",
       "    <tr style=\"text-align: right;\">\n",
       "      <th></th>\n",
       "      <th>Actual</th>\n",
       "      <th>Predicted</th>\n",
       "      <th>Difference</th>\n",
       "    </tr>\n",
       "  </thead>\n",
       "  <tbody>\n",
       "    <tr>\n",
       "      <th>27</th>\n",
       "      <td>17.763292</td>\n",
       "      <td>17.818144</td>\n",
       "      <td>0.054852</td>\n",
       "    </tr>\n",
       "    <tr>\n",
       "      <th>2134</th>\n",
       "      <td>291.510803</td>\n",
       "      <td>297.482154</td>\n",
       "      <td>5.971351</td>\n",
       "    </tr>\n",
       "    <tr>\n",
       "      <th>523</th>\n",
       "      <td>68.482773</td>\n",
       "      <td>69.333989</td>\n",
       "      <td>0.851216</td>\n",
       "    </tr>\n",
       "    <tr>\n",
       "      <th>667</th>\n",
       "      <td>64.099327</td>\n",
       "      <td>63.820255</td>\n",
       "      <td>0.279072</td>\n",
       "    </tr>\n",
       "    <tr>\n",
       "      <th>929</th>\n",
       "      <td>153.902649</td>\n",
       "      <td>164.137653</td>\n",
       "      <td>10.235004</td>\n",
       "    </tr>\n",
       "    <tr>\n",
       "      <th>3421</th>\n",
       "      <td>329.332397</td>\n",
       "      <td>338.342553</td>\n",
       "      <td>9.010156</td>\n",
       "    </tr>\n",
       "    <tr>\n",
       "      <th>3087</th>\n",
       "      <td>305.693878</td>\n",
       "      <td>315.106833</td>\n",
       "      <td>9.412955</td>\n",
       "    </tr>\n",
       "    <tr>\n",
       "      <th>187</th>\n",
       "      <td>11.245496</td>\n",
       "      <td>10.960457</td>\n",
       "      <td>0.285039</td>\n",
       "    </tr>\n",
       "    <tr>\n",
       "      <th>580</th>\n",
       "      <td>73.439972</td>\n",
       "      <td>70.982718</td>\n",
       "      <td>2.457254</td>\n",
       "    </tr>\n",
       "    <tr>\n",
       "      <th>3843</th>\n",
       "      <td>364.629486</td>\n",
       "      <td>363.753153</td>\n",
       "      <td>0.876333</td>\n",
       "    </tr>\n",
       "  </tbody>\n",
       "</table>\n",
       "</div>"
      ],
      "text/plain": [
       "          Actual   Predicted  Difference\n",
       "27     17.763292   17.818144    0.054852\n",
       "2134  291.510803  297.482154    5.971351\n",
       "523    68.482773   69.333989    0.851216\n",
       "667    64.099327   63.820255    0.279072\n",
       "929   153.902649  164.137653   10.235004\n",
       "3421  329.332397  338.342553    9.010156\n",
       "3087  305.693878  315.106833    9.412955\n",
       "187    11.245496   10.960457    0.285039\n",
       "580    73.439972   70.982718    2.457254\n",
       "3843  364.629486  363.753153    0.876333"
      ]
     },
     "execution_count": 64,
     "metadata": {},
     "output_type": "execute_result"
    }
   ],
   "source": [
    "#predicting stock price using our model\n",
    "preds_rf = model_rf.predict(x_test)\n",
    "\n",
    "dfpred_rf = pd.DataFrame({'Actual':y_test,'Predicted':preds_rf, 'Difference':abs(y_test-preds_rf)})\n",
    "dfpred_rf.head(10)"
   ]
  },
  {
   "cell_type": "code",
   "execution_count": 65,
   "id": "scientific-telling",
   "metadata": {},
   "outputs": [
    {
     "name": "stdout",
     "output_type": "stream",
     "text": [
      "Score: 0.9969513048635956\n",
      "Mean Absolute Error: 4.990242058186453\n",
      "Mean Squared  Error: 55.689706042717575\n",
      "Root Mean Squared Error: 7.462553587259362\n",
      "Loss: 4.990242058186453\n"
     ]
    }
   ],
   "source": [
    "#Different Metrics calculated using our model\n",
    "print(\"Score:\", model_rf.score(x_test, y_test))\n",
    "print('Mean Absolute Error:',metrics.mean_absolute_error(y_test,preds_rf))\n",
    "print('Mean Squared  Error:',metrics.mean_squared_error(y_test,preds_rf))\n",
    "print('Root Mean Squared Error:',(metrics.mean_squared_error(y_test,preds_rf))**0.5)\n",
    "print('Loss:', abs(y_test-preds_rf).mean())"
   ]
  },
  {
   "cell_type": "markdown",
   "id": "blessed-literacy",
   "metadata": {},
   "source": [
    "---\n",
    "# k-NN"
   ]
  },
  {
   "cell_type": "code",
   "execution_count": 66,
   "id": "beneficial-throat",
   "metadata": {},
   "outputs": [
    {
     "data": {
      "text/plain": [
       "GridSearchCV(cv=7, estimator=KNeighborsRegressor(),\n",
       "             param_grid={'n_neighbors': [1, 2, 3, 4, 5, 6, 7, 8, 9, 10, 11, 12,\n",
       "                                         13, 14]})"
      ]
     },
     "execution_count": 66,
     "metadata": {},
     "output_type": "execute_result"
    }
   ],
   "source": [
    "#using gridsearch to find the best parameter\n",
    "params = {'n_neighbors':[1,2,3,4,5,6,7,8,9,10,11,12,13,14]}\n",
    "knn = neighbors.KNeighborsRegressor()\n",
    "model_knn = GridSearchCV(knn, params, cv=7)\n",
    "model_knn.fit(x_train,y_train)"
   ]
  },
  {
   "cell_type": "code",
   "execution_count": 67,
   "id": "resistant-tomorrow",
   "metadata": {},
   "outputs": [
    {
     "data": {
      "text/html": [
       "<div>\n",
       "<style scoped>\n",
       "    .dataframe tbody tr th:only-of-type {\n",
       "        vertical-align: middle;\n",
       "    }\n",
       "\n",
       "    .dataframe tbody tr th {\n",
       "        vertical-align: top;\n",
       "    }\n",
       "\n",
       "    .dataframe thead th {\n",
       "        text-align: right;\n",
       "    }\n",
       "</style>\n",
       "<table border=\"1\" class=\"dataframe\">\n",
       "  <thead>\n",
       "    <tr style=\"text-align: right;\">\n",
       "      <th></th>\n",
       "      <th>Actual</th>\n",
       "      <th>Predicted</th>\n",
       "      <th>Difference</th>\n",
       "    </tr>\n",
       "  </thead>\n",
       "  <tbody>\n",
       "    <tr>\n",
       "      <th>27</th>\n",
       "      <td>17.763292</td>\n",
       "      <td>16.678906</td>\n",
       "      <td>1.084386</td>\n",
       "    </tr>\n",
       "    <tr>\n",
       "      <th>2134</th>\n",
       "      <td>291.510803</td>\n",
       "      <td>261.956297</td>\n",
       "      <td>29.554506</td>\n",
       "    </tr>\n",
       "    <tr>\n",
       "      <th>523</th>\n",
       "      <td>68.482773</td>\n",
       "      <td>126.219216</td>\n",
       "      <td>57.736443</td>\n",
       "    </tr>\n",
       "    <tr>\n",
       "      <th>667</th>\n",
       "      <td>64.099327</td>\n",
       "      <td>261.956297</td>\n",
       "      <td>197.856970</td>\n",
       "    </tr>\n",
       "    <tr>\n",
       "      <th>929</th>\n",
       "      <td>153.902649</td>\n",
       "      <td>342.895584</td>\n",
       "      <td>188.992935</td>\n",
       "    </tr>\n",
       "    <tr>\n",
       "      <th>3421</th>\n",
       "      <td>329.332397</td>\n",
       "      <td>346.625199</td>\n",
       "      <td>17.292801</td>\n",
       "    </tr>\n",
       "    <tr>\n",
       "      <th>3087</th>\n",
       "      <td>305.693878</td>\n",
       "      <td>293.381222</td>\n",
       "      <td>12.312656</td>\n",
       "    </tr>\n",
       "    <tr>\n",
       "      <th>187</th>\n",
       "      <td>11.245496</td>\n",
       "      <td>99.029213</td>\n",
       "      <td>87.783717</td>\n",
       "    </tr>\n",
       "    <tr>\n",
       "      <th>580</th>\n",
       "      <td>73.439972</td>\n",
       "      <td>199.165761</td>\n",
       "      <td>125.725789</td>\n",
       "    </tr>\n",
       "    <tr>\n",
       "      <th>3843</th>\n",
       "      <td>364.629486</td>\n",
       "      <td>365.475144</td>\n",
       "      <td>0.845658</td>\n",
       "    </tr>\n",
       "  </tbody>\n",
       "</table>\n",
       "</div>"
      ],
      "text/plain": [
       "          Actual   Predicted  Difference\n",
       "27     17.763292   16.678906    1.084386\n",
       "2134  291.510803  261.956297   29.554506\n",
       "523    68.482773  126.219216   57.736443\n",
       "667    64.099327  261.956297  197.856970\n",
       "929   153.902649  342.895584  188.992935\n",
       "3421  329.332397  346.625199   17.292801\n",
       "3087  305.693878  293.381222   12.312656\n",
       "187    11.245496   99.029213   87.783717\n",
       "580    73.439972  199.165761  125.725789\n",
       "3843  364.629486  365.475144    0.845658"
      ]
     },
     "execution_count": 67,
     "metadata": {},
     "output_type": "execute_result"
    }
   ],
   "source": [
    "#predicting stock price using our model\n",
    "preds_knn = model_knn.predict(x_test)\n",
    "\n",
    "dfpred_knn = pd.DataFrame({'Actual':y_test,'Predicted':preds_knn, 'Difference':abs(y_test-preds_knn)})\n",
    "dfpred_knn.head(10)"
   ]
  },
  {
   "cell_type": "code",
   "execution_count": 48,
   "id": "smart-invention",
   "metadata": {},
   "outputs": [
    {
     "data": {
      "text/plain": [
       "{'cv': 7,\n",
       " 'error_score': nan,\n",
       " 'estimator__algorithm': 'auto',\n",
       " 'estimator__leaf_size': 30,\n",
       " 'estimator__metric': 'minkowski',\n",
       " 'estimator__metric_params': None,\n",
       " 'estimator__n_jobs': None,\n",
       " 'estimator__n_neighbors': 5,\n",
       " 'estimator__p': 2,\n",
       " 'estimator__weights': 'uniform',\n",
       " 'estimator': KNeighborsRegressor(),\n",
       " 'n_jobs': None,\n",
       " 'param_grid': {'n_neighbors': [1,\n",
       "   2,\n",
       "   3,\n",
       "   4,\n",
       "   5,\n",
       "   6,\n",
       "   7,\n",
       "   8,\n",
       "   9,\n",
       "   10,\n",
       "   11,\n",
       "   12,\n",
       "   13,\n",
       "   14]},\n",
       " 'pre_dispatch': '2*n_jobs',\n",
       " 'refit': True,\n",
       " 'return_train_score': False,\n",
       " 'scoring': None,\n",
       " 'verbose': 0}"
      ]
     },
     "execution_count": 48,
     "metadata": {},
     "output_type": "execute_result"
    }
   ],
   "source": [
    "model_knn.get_params()"
   ]
  },
  {
   "cell_type": "code",
   "execution_count": 68,
   "id": "variable-andrew",
   "metadata": {},
   "outputs": [
    {
     "name": "stdout",
     "output_type": "stream",
     "text": [
      "Score: 0.07393062305803222\n",
      "Mean Absolute Error: 96.2150654922138\n",
      "Mean Squared  Error: 16916.26386687063\n",
      "Root Mean Squared Error: 130.06253829166425\n",
      "Loss: 96.2150654922138\n"
     ]
    }
   ],
   "source": [
    "#Different Metrics calculated using our model\n",
    "print(\"Score:\", model_knn.score(x_test, y_test))\n",
    "print('Mean Absolute Error:',metrics.mean_absolute_error(y_test,preds_knn))\n",
    "print('Mean Squared  Error:',metrics.mean_squared_error(y_test,preds_knn))\n",
    "print('Root Mean Squared Error:',(metrics.mean_squared_error(y_test,preds_knn))**0.5)\n",
    "print('Loss:', abs(y_test-preds_knn).mean())"
   ]
  },
  {
   "cell_type": "markdown",
   "id": "international-december",
   "metadata": {},
   "source": [
    "---\n",
    "# Decision Tree"
   ]
  },
  {
   "cell_type": "code",
   "execution_count": 51,
   "id": "selected-houston",
   "metadata": {},
   "outputs": [
    {
     "data": {
      "text/plain": [
       "DecisionTreeRegressor()"
      ]
     },
     "execution_count": 51,
     "metadata": {},
     "output_type": "execute_result"
    }
   ],
   "source": [
    "model_dt = DecisionTreeRegressor()\n",
    "model_dt.fit(x_train,y_train)"
   ]
  },
  {
   "cell_type": "code",
   "execution_count": 69,
   "id": "tough-holder",
   "metadata": {},
   "outputs": [
    {
     "data": {
      "text/html": [
       "<div>\n",
       "<style scoped>\n",
       "    .dataframe tbody tr th:only-of-type {\n",
       "        vertical-align: middle;\n",
       "    }\n",
       "\n",
       "    .dataframe tbody tr th {\n",
       "        vertical-align: top;\n",
       "    }\n",
       "\n",
       "    .dataframe thead th {\n",
       "        text-align: right;\n",
       "    }\n",
       "</style>\n",
       "<table border=\"1\" class=\"dataframe\">\n",
       "  <thead>\n",
       "    <tr style=\"text-align: right;\">\n",
       "      <th></th>\n",
       "      <th>Actual</th>\n",
       "      <th>Predicted</th>\n",
       "      <th>Difference</th>\n",
       "    </tr>\n",
       "  </thead>\n",
       "  <tbody>\n",
       "    <tr>\n",
       "      <th>27</th>\n",
       "      <td>17.763292</td>\n",
       "      <td>17.946894</td>\n",
       "      <td>0.183602</td>\n",
       "    </tr>\n",
       "    <tr>\n",
       "      <th>2134</th>\n",
       "      <td>291.510803</td>\n",
       "      <td>303.766083</td>\n",
       "      <td>12.255280</td>\n",
       "    </tr>\n",
       "    <tr>\n",
       "      <th>523</th>\n",
       "      <td>68.482773</td>\n",
       "      <td>68.872925</td>\n",
       "      <td>0.390152</td>\n",
       "    </tr>\n",
       "    <tr>\n",
       "      <th>667</th>\n",
       "      <td>64.099327</td>\n",
       "      <td>63.846878</td>\n",
       "      <td>0.252449</td>\n",
       "    </tr>\n",
       "    <tr>\n",
       "      <th>929</th>\n",
       "      <td>153.902649</td>\n",
       "      <td>167.121841</td>\n",
       "      <td>13.219192</td>\n",
       "    </tr>\n",
       "    <tr>\n",
       "      <th>3421</th>\n",
       "      <td>329.332397</td>\n",
       "      <td>345.121979</td>\n",
       "      <td>15.789582</td>\n",
       "    </tr>\n",
       "    <tr>\n",
       "      <th>3087</th>\n",
       "      <td>305.693878</td>\n",
       "      <td>314.139496</td>\n",
       "      <td>8.445618</td>\n",
       "    </tr>\n",
       "    <tr>\n",
       "      <th>187</th>\n",
       "      <td>11.245496</td>\n",
       "      <td>10.947146</td>\n",
       "      <td>0.298350</td>\n",
       "    </tr>\n",
       "    <tr>\n",
       "      <th>580</th>\n",
       "      <td>73.439972</td>\n",
       "      <td>68.804077</td>\n",
       "      <td>4.635895</td>\n",
       "    </tr>\n",
       "    <tr>\n",
       "      <th>3843</th>\n",
       "      <td>364.629486</td>\n",
       "      <td>363.688507</td>\n",
       "      <td>0.940979</td>\n",
       "    </tr>\n",
       "  </tbody>\n",
       "</table>\n",
       "</div>"
      ],
      "text/plain": [
       "          Actual   Predicted  Difference\n",
       "27     17.763292   17.946894    0.183602\n",
       "2134  291.510803  303.766083   12.255280\n",
       "523    68.482773   68.872925    0.390152\n",
       "667    64.099327   63.846878    0.252449\n",
       "929   153.902649  167.121841   13.219192\n",
       "3421  329.332397  345.121979   15.789582\n",
       "3087  305.693878  314.139496    8.445618\n",
       "187    11.245496   10.947146    0.298350\n",
       "580    73.439972   68.804077    4.635895\n",
       "3843  364.629486  363.688507    0.940979"
      ]
     },
     "execution_count": 69,
     "metadata": {},
     "output_type": "execute_result"
    }
   ],
   "source": [
    "#predicting stock price using our model\n",
    "preds_dt = model_dt.predict(x_test)\n",
    "\n",
    "dfpred_dt = pd.DataFrame({'Actual':y_test,'Predicted':preds_dt, 'Difference':abs(y_test-preds_dt)})\n",
    "dfpred_dt.head(10)"
   ]
  },
  {
   "cell_type": "code",
   "execution_count": 70,
   "id": "incomplete-dressing",
   "metadata": {},
   "outputs": [
    {
     "name": "stdout",
     "output_type": "stream",
     "text": [
      "Score: 0.994603237824221\n",
      "Mean Absolute Error: 6.836655487794613\n",
      "Mean Squared  Error: 98.58122432866726\n",
      "Root Mean Squared Error: 9.92880779996608\n",
      "Loss: 6.836655487794613\n"
     ]
    }
   ],
   "source": [
    "#Different Metrics calculated using our model\n",
    "print(\"Score:\", model_dt.score(x_test,y_test))\n",
    "print('Mean Absolute Error:',metrics.mean_absolute_error(y_test,preds_dt))\n",
    "print('Mean Squared  Error:',metrics.mean_squared_error(y_test,preds_dt))\n",
    "print('Root Mean Squared Error:',(metrics.mean_squared_error(y_test,preds_dt))**0.5)\n",
    "print('Loss:', abs(y_test-preds_dt).mean())"
   ]
  },
  {
   "cell_type": "markdown",
   "id": "massive-military",
   "metadata": {},
   "source": [
    "---\n",
    "# Linear Regression"
   ]
  },
  {
   "cell_type": "code",
   "execution_count": 54,
   "id": "worth-concrete",
   "metadata": {
    "tags": []
   },
   "outputs": [
    {
     "data": {
      "text/plain": [
       "LinearRegression()"
      ]
     },
     "execution_count": 54,
     "metadata": {},
     "output_type": "execute_result"
    }
   ],
   "source": [
    "#linear Regression\n",
    "model_lr = LinearRegression()\n",
    "model_lr.fit(x_train,y_train)"
   ]
  },
  {
   "cell_type": "code",
   "execution_count": 55,
   "id": "false-consistency",
   "metadata": {},
   "outputs": [
    {
     "name": "stdout",
     "output_type": "stream",
     "text": [
      "[-6.08377353e-02  7.47053132e-02  1.19809381e-01 -4.13663075e-11\n",
      "  8.65567834e-01]\n",
      "0.5569143622032016\n"
     ]
    }
   ],
   "source": [
    "#Coefficients and Intercept of LR\n",
    "print(model_lr.coef_)\n",
    "print(model_lr.intercept_)"
   ]
  },
  {
   "cell_type": "code",
   "execution_count": 71,
   "id": "final-glasgow",
   "metadata": {},
   "outputs": [
    {
     "data": {
      "text/html": [
       "<div>\n",
       "<style scoped>\n",
       "    .dataframe tbody tr th:only-of-type {\n",
       "        vertical-align: middle;\n",
       "    }\n",
       "\n",
       "    .dataframe tbody tr th {\n",
       "        vertical-align: top;\n",
       "    }\n",
       "\n",
       "    .dataframe thead th {\n",
       "        text-align: right;\n",
       "    }\n",
       "</style>\n",
       "<table border=\"1\" class=\"dataframe\">\n",
       "  <thead>\n",
       "    <tr style=\"text-align: right;\">\n",
       "      <th></th>\n",
       "      <th>Actual</th>\n",
       "      <th>Predicted</th>\n",
       "      <th>Difference</th>\n",
       "    </tr>\n",
       "  </thead>\n",
       "  <tbody>\n",
       "    <tr>\n",
       "      <th>27</th>\n",
       "      <td>17.763292</td>\n",
       "      <td>18.490255</td>\n",
       "      <td>0.726963</td>\n",
       "    </tr>\n",
       "    <tr>\n",
       "      <th>2134</th>\n",
       "      <td>291.510803</td>\n",
       "      <td>294.314193</td>\n",
       "      <td>2.803390</td>\n",
       "    </tr>\n",
       "    <tr>\n",
       "      <th>523</th>\n",
       "      <td>68.482773</td>\n",
       "      <td>69.192020</td>\n",
       "      <td>0.709247</td>\n",
       "    </tr>\n",
       "    <tr>\n",
       "      <th>667</th>\n",
       "      <td>64.099327</td>\n",
       "      <td>64.083688</td>\n",
       "      <td>0.015639</td>\n",
       "    </tr>\n",
       "    <tr>\n",
       "      <th>929</th>\n",
       "      <td>153.902649</td>\n",
       "      <td>160.898138</td>\n",
       "      <td>6.995489</td>\n",
       "    </tr>\n",
       "    <tr>\n",
       "      <th>3421</th>\n",
       "      <td>329.332397</td>\n",
       "      <td>340.935358</td>\n",
       "      <td>11.602961</td>\n",
       "    </tr>\n",
       "    <tr>\n",
       "      <th>3087</th>\n",
       "      <td>305.693878</td>\n",
       "      <td>313.836250</td>\n",
       "      <td>8.142372</td>\n",
       "    </tr>\n",
       "    <tr>\n",
       "      <th>187</th>\n",
       "      <td>11.245496</td>\n",
       "      <td>11.967015</td>\n",
       "      <td>0.721519</td>\n",
       "    </tr>\n",
       "    <tr>\n",
       "      <th>580</th>\n",
       "      <td>73.439972</td>\n",
       "      <td>70.633587</td>\n",
       "      <td>2.806385</td>\n",
       "    </tr>\n",
       "    <tr>\n",
       "      <th>3843</th>\n",
       "      <td>364.629486</td>\n",
       "      <td>363.426641</td>\n",
       "      <td>1.202845</td>\n",
       "    </tr>\n",
       "  </tbody>\n",
       "</table>\n",
       "</div>"
      ],
      "text/plain": [
       "          Actual   Predicted  Difference\n",
       "27     17.763292   18.490255    0.726963\n",
       "2134  291.510803  294.314193    2.803390\n",
       "523    68.482773   69.192020    0.709247\n",
       "667    64.099327   64.083688    0.015639\n",
       "929   153.902649  160.898138    6.995489\n",
       "3421  329.332397  340.935358   11.602961\n",
       "3087  305.693878  313.836250    8.142372\n",
       "187    11.245496   11.967015    0.721519\n",
       "580    73.439972   70.633587    2.806385\n",
       "3843  364.629486  363.426641    1.202845"
      ]
     },
     "execution_count": 71,
     "metadata": {},
     "output_type": "execute_result"
    }
   ],
   "source": [
    "#predicting stock price using our model\n",
    "preds_lr = model_lr.predict(x_test)\n",
    "\n",
    "dfpred_lr = pd.DataFrame({'Actual':y_test,'Predicted':preds_lr, 'Difference':abs(y_test-preds_lr)})\n",
    "dfpred_lr.head(10)"
   ]
  },
  {
   "cell_type": "code",
   "execution_count": 72,
   "id": "intimate-hunger",
   "metadata": {},
   "outputs": [
    {
     "name": "stdout",
     "output_type": "stream",
     "text": [
      "Score: 0.9972726316982043\n",
      "Mean Absolute Error: 4.6537586191551785\n",
      "Mean Squared  Error: 49.82011391810239\n",
      "Root Mean Squared Error: 7.058336483768849\n",
      "Loss: 4.6537586191551785\n"
     ]
    }
   ],
   "source": [
    "#Different Metrics calculated using our model\n",
    "print(\"Score:\", model_lr.score(x_test,y_test))\n",
    "print('Mean Absolute Error:',metrics.mean_absolute_error(y_test,preds_lr))\n",
    "print('Mean Squared  Error:',metrics.mean_squared_error(y_test,preds_lr))\n",
    "print('Root Mean Squared Error:',(metrics.mean_squared_error(y_test,preds_lr))**0.5)\n",
    "print('Loss:', abs(y_test-preds_lr).mean())"
   ]
  }
 ],
 "metadata": {
  "kernelspec": {
   "display_name": "Python 3.7.7 64-bit ('datascience': conda)",
   "language": "python",
   "name": "python37764bitdatascienceconda67e0b92c992c46d7a01f8ce74cfb6bf2"
  },
  "language_info": {
   "codemirror_mode": {
    "name": "ipython",
    "version": 3
   },
   "file_extension": ".py",
   "mimetype": "text/x-python",
   "name": "python",
   "nbconvert_exporter": "python",
   "pygments_lexer": "ipython3",
   "version": "3.7.10"
  }
 },
 "nbformat": 4,
 "nbformat_minor": 5
}
