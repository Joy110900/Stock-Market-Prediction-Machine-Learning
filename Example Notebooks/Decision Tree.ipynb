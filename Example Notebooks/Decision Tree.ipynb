{
 "cells": [
  {
   "cell_type": "code",
   "execution_count": 1,
   "id": "beginning-respondent",
   "metadata": {},
   "outputs": [],
   "source": [
    "import pandas as pd \n",
    "import matplotlib.pyplot as plt \n",
    "from sklearn.tree import DecisionTreeRegressor "
   ]
  },
  {
   "cell_type": "code",
   "execution_count": 2,
   "id": "attractive-seeking",
   "metadata": {},
   "outputs": [
    {
     "data": {
      "text/html": [
       "<div>\n",
       "<style scoped>\n",
       "    .dataframe tbody tr th:only-of-type {\n",
       "        vertical-align: middle;\n",
       "    }\n",
       "\n",
       "    .dataframe tbody tr th {\n",
       "        vertical-align: top;\n",
       "    }\n",
       "\n",
       "    .dataframe thead th {\n",
       "        text-align: right;\n",
       "    }\n",
       "</style>\n",
       "<table border=\"1\" class=\"dataframe\">\n",
       "  <thead>\n",
       "    <tr style=\"text-align: right;\">\n",
       "      <th></th>\n",
       "      <th>Date</th>\n",
       "      <th>Open</th>\n",
       "      <th>High</th>\n",
       "      <th>Low</th>\n",
       "      <th>Close</th>\n",
       "      <th>Adj Close</th>\n",
       "      <th>Volume</th>\n",
       "    </tr>\n",
       "  </thead>\n",
       "  <tbody>\n",
       "    <tr>\n",
       "      <th>6341</th>\n",
       "      <td>17-02-2021</td>\n",
       "      <td>326.899994</td>\n",
       "      <td>334.250000</td>\n",
       "      <td>325.450012</td>\n",
       "      <td>330.149994</td>\n",
       "      <td>330.149994</td>\n",
       "      <td>52150941.0</td>\n",
       "    </tr>\n",
       "    <tr>\n",
       "      <th>6342</th>\n",
       "      <td>18-02-2021</td>\n",
       "      <td>331.500000</td>\n",
       "      <td>331.750000</td>\n",
       "      <td>321.100006</td>\n",
       "      <td>323.850006</td>\n",
       "      <td>323.850006</td>\n",
       "      <td>49204247.0</td>\n",
       "    </tr>\n",
       "    <tr>\n",
       "      <th>6343</th>\n",
       "      <td>19-02-2021</td>\n",
       "      <td>321.950012</td>\n",
       "      <td>321.950012</td>\n",
       "      <td>301.399994</td>\n",
       "      <td>311.850006</td>\n",
       "      <td>311.850006</td>\n",
       "      <td>80274683.0</td>\n",
       "    </tr>\n",
       "    <tr>\n",
       "      <th>6344</th>\n",
       "      <td>22-02-2021</td>\n",
       "      <td>312.450012</td>\n",
       "      <td>313.899994</td>\n",
       "      <td>302.149994</td>\n",
       "      <td>304.500000</td>\n",
       "      <td>304.500000</td>\n",
       "      <td>57723298.0</td>\n",
       "    </tr>\n",
       "    <tr>\n",
       "      <th>6345</th>\n",
       "      <td>23-02-2021</td>\n",
       "      <td>308.500000</td>\n",
       "      <td>328.899994</td>\n",
       "      <td>308.500000</td>\n",
       "      <td>324.000000</td>\n",
       "      <td>324.000000</td>\n",
       "      <td>133310157.0</td>\n",
       "    </tr>\n",
       "  </tbody>\n",
       "</table>\n",
       "</div>"
      ],
      "text/plain": [
       "            Date        Open        High         Low       Close   Adj Close  \\\n",
       "6341  17-02-2021  326.899994  334.250000  325.450012  330.149994  330.149994   \n",
       "6342  18-02-2021  331.500000  331.750000  321.100006  323.850006  323.850006   \n",
       "6343  19-02-2021  321.950012  321.950012  301.399994  311.850006  311.850006   \n",
       "6344  22-02-2021  312.450012  313.899994  302.149994  304.500000  304.500000   \n",
       "6345  23-02-2021  308.500000  328.899994  308.500000  324.000000  324.000000   \n",
       "\n",
       "           Volume  \n",
       "6341   52150941.0  \n",
       "6342   49204247.0  \n",
       "6343   80274683.0  \n",
       "6344   57723298.0  \n",
       "6345  133310157.0  "
      ]
     },
     "execution_count": 2,
     "metadata": {},
     "output_type": "execute_result"
    }
   ],
   "source": [
    "stock_data = pd.read_csv('TATAMOTORS.NS.csv')\n",
    "stock_data.tail()"
   ]
  },
  {
   "cell_type": "code",
   "execution_count": 3,
   "id": "orange-constraint",
   "metadata": {},
   "outputs": [],
   "source": [
    "stock_data.drop('Adj Close',axis = 1, inplace = True)\n",
    "stock_data = stock_data[stock_data['High'].notna()]"
   ]
  },
  {
   "cell_type": "code",
   "execution_count": 4,
   "id": "thirty-petite",
   "metadata": {},
   "outputs": [],
   "source": [
    "x  = stock_data[['Open','High','Low','Volume']]\n",
    "y = stock_data['Close']"
   ]
  },
  {
   "cell_type": "code",
   "execution_count": 5,
   "id": "dutch-mission",
   "metadata": {},
   "outputs": [],
   "source": [
    "from sklearn.model_selection import train_test_split\n",
    "x_train,x_test,y_train,y_test = train_test_split(x,y,test_size = 0.1,random_state = 0)"
   ]
  },
  {
   "cell_type": "code",
   "execution_count": 6,
   "id": "interior-elevation",
   "metadata": {},
   "outputs": [],
   "source": [
    "Classifier = DecisionTreeRegressor()"
   ]
  },
  {
   "cell_type": "code",
   "execution_count": 7,
   "id": "consolidated-density",
   "metadata": {},
   "outputs": [
    {
     "data": {
      "text/plain": [
       "DecisionTreeRegressor()"
      ]
     },
     "execution_count": 7,
     "metadata": {},
     "output_type": "execute_result"
    }
   ],
   "source": [
    "Classifier.fit(x_train,y_train)"
   ]
  },
  {
   "cell_type": "code",
   "execution_count": 8,
   "id": "brief-milwaukee",
   "metadata": {},
   "outputs": [],
   "source": [
    "test = [[308.500000,328.899994,308.500000, 133310157.0]]"
   ]
  },
  {
   "cell_type": "code",
   "execution_count": 9,
   "id": "narrow-bedroom",
   "metadata": {},
   "outputs": [],
   "source": [
    "prediction = Classifier.predict(test)"
   ]
  },
  {
   "cell_type": "code",
   "execution_count": 10,
   "id": "vietnamese-norman",
   "metadata": {},
   "outputs": [
    {
     "data": {
      "text/plain": [
       "array([324.])"
      ]
     },
     "execution_count": 10,
     "metadata": {},
     "output_type": "execute_result"
    }
   ],
   "source": [
    "prediction"
   ]
  },
  {
   "cell_type": "code",
   "execution_count": 11,
   "id": "incident-guard",
   "metadata": {},
   "outputs": [],
   "source": [
    "test1 = [[323.00, 328.40, 321.60, 18522871.00]]   ## data of 26-feb-2021"
   ]
  },
  {
   "cell_type": "code",
   "execution_count": 12,
   "id": "ethical-marathon",
   "metadata": {},
   "outputs": [
    {
     "name": "stdout",
     "output_type": "stream",
     "text": [
      "[325.5]\n"
     ]
    }
   ],
   "source": [
    "pred1 = Classifier.predict(test1)\n",
    "print(pred1)         ## true = 327.05"
   ]
  },
  {
   "cell_type": "code",
   "execution_count": 13,
   "id": "foreign-albany",
   "metadata": {},
   "outputs": [
    {
     "name": "stdout",
     "output_type": "stream",
     "text": [
      "[333.350006]\n"
     ]
    }
   ],
   "source": [
    "test2 = [[325.35, 334.70, 323.25, 64514912.00]]  ## dataof 25-feb-21\n",
    "pred2 = Classifier.predict(test2)\n",
    "print(pred2)        ## true = 333.15"
   ]
  }
 ],
 "metadata": {
  "kernelspec": {
   "display_name": "Python 3.7.7 64-bit ('datascience': conda)",
   "language": "python",
   "name": "python37764bitdatascienceconda67e0b92c992c46d7a01f8ce74cfb6bf2"
  },
  "language_info": {
   "codemirror_mode": {
    "name": "ipython",
    "version": 3
   },
   "file_extension": ".py",
   "mimetype": "text/x-python",
   "name": "python",
   "nbconvert_exporter": "python",
   "pygments_lexer": "ipython3",
   "version": "3.7.10"
  }
 },
 "nbformat": 4,
 "nbformat_minor": 5
}
